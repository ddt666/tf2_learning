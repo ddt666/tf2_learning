{
 "cells": [
  {
   "cell_type": "code",
   "execution_count": 1,
   "metadata": {},
   "outputs": [
    {
     "name": "stdout",
     "output_type": "stream",
     "text": [
      "True\n",
      "2.0.0\n",
      "sys.version_info(major=3, minor=7, micro=7, releaselevel='final', serial=0)\n",
      "matplotlib 3.2.2\n",
      "numpy 1.18.5\n",
      "pandas 1.0.5\n",
      "sklearn 0.23.1\n",
      "tensorflow 2.0.0\n",
      "tensorflow_core.keras 2.2.4-tf\n"
     ]
    }
   ],
   "source": [
    "import matplotlib as mpl\n",
    "import matplotlib.pyplot as plt\n",
    "%matplotlib inline\n",
    "import numpy as np\n",
    "import sklearn\n",
    "import pandas as pd\n",
    "import os\n",
    "import sys\n",
    "import time\n",
    "import tensorflow as tf\n",
    "\n",
    "from tensorflow import keras\n",
    "\n",
    "\n",
    "print(tf.test.is_gpu_available())\n",
    "print(tf.__version__)\n",
    "print(sys.version_info)\n",
    "\n",
    "for module in mpl,np,pd,sklearn,tf,keras:\n",
    "    print(module.__name__,module.__version__)"
   ]
  },
  {
   "cell_type": "code",
   "execution_count": null,
   "metadata": {},
   "outputs": [],
   "source": [
    "from sklearn.datasets import fetch_california_housing\n",
    "\n",
    "housing = fetch_california_housing()\n",
    "print(housing.DESCR)\n",
    "print(housing.data.shape)\n",
    "print(housing.target.shape)"
   ]
  },
  {
   "cell_type": "code",
   "execution_count": null,
   "metadata": {
    "scrolled": true
   },
   "outputs": [],
   "source": [
    "from sklearn.model_selection import train_test_split\n",
    "\n",
    "x_train_all,x_test,y_train_all,y_test = train_test_split(housing.data,housing.target,random_state=7)\n",
    "\n",
    "x_train,x_valid,y_train,y_vaild=train_test_split(x_train_all,y_train_all,random_state=11)\n",
    "\n",
    "print(x_train.shape,y_train.shape)\n",
    "print(x_valid.shape,y_vaild.shape)\n",
    "print(x_test.shape,y_test.shape)"
   ]
  },
  {
   "cell_type": "code",
   "execution_count": null,
   "metadata": {},
   "outputs": [],
   "source": [
    "# 数据标准化\n",
    "\n",
    "from sklearn.preprocessing import StandardScaler\n",
    "\n",
    "saclar = StandardScaler()\n",
    "x_train_sacled = saclar.fit_transform(x_train)\n",
    "x_valid_sacled = saclar.transform(x_valid)\n",
    "x_test_sacled=saclar.transform(x_test)"
   ]
  },
  {
   "cell_type": "code",
   "execution_count": null,
   "metadata": {},
   "outputs": [],
   "source": [
    "\n",
    "\n",
    "# ※※※※※※※※※※※※※※※※※※※※※※※※※※※※※※\n",
    "\n",
    "# learning_rate:[1e-4,3e-4,1e-3,3e-3,1e-2,3e-2]\n",
    "# 学习用于参数W值的更新上\n",
    "# W = W + grad * learning_rate\n",
    "learning_rate=[1e-4,3e-4,1e-3,3e-3,1e-2,3e-2]\n",
    "histories = []\n",
    "for lr in learning_rate:\n",
    "    model = keras.models.Sequential([\n",
    "\n",
    "        keras.layers.Dense(30,activation=\"relu\",input_shape=x_train.shape[1:]),\n",
    "        keras.layers.Dense(1),\n",
    "    ])\n",
    "    optimizer = keras.optimizers.SGD(lr)\n",
    "    \n",
    "    # 目标函数：均方差，optimizer：不用随机梯度下降了，用指定的学习率\n",
    "    model.compile(loss=\"mean_squared_error\",optimizer=optimizer)\n",
    "    callbacks=[keras.callbacks.EarlyStopping(patience=5,min_delta=1e-2)]\n",
    "    history = model.fit(x_train_sacled,y_train,validation_data=(x_valid_sacled,y_vaild),epochs=100,callbacks=callbacks)\n",
    "    histories.append(history)\n",
    "# ※※※※※※※※※※※※※※※※※※※※※※※※※※※※※※"
   ]
  },
  {
   "cell_type": "code",
   "execution_count": null,
   "metadata": {},
   "outputs": [],
   "source": [
    "# ※※※※※※※※※※※※※※※※※※※※※※※※※※※※※※\n",
    "def plot_learning_curves(history):\n",
    "    pd.DataFrame(history.history).plot(figsize=(8,5))\n",
    "    plt.grid(True)\n",
    "    plt.gca().set_ylim(0,1)\n",
    "    plt.show()\n",
    "\n",
    "for lr,history in zip(learning_rate,histories):\n",
    "    print(\"learing_rate:\",lr)\n",
    "    plot_learning_curves(history)\n",
    "# ※※※※※※※※※※※※※※※※※※※※※※※※※※※※※※"
   ]
  },
  {
   "cell_type": "code",
   "execution_count": null,
   "metadata": {},
   "outputs": [],
   "source": [
    "model.evaluate(x_test_sacled,y_test)"
   ]
  },
  {
   "cell_type": "code",
   "execution_count": null,
   "metadata": {},
   "outputs": [],
   "source": []
  },
  {
   "cell_type": "code",
   "execution_count": null,
   "metadata": {},
   "outputs": [],
   "source": []
  }
 ],
 "metadata": {
  "kernelspec": {
   "display_name": "Python [conda env:tf2]",
   "language": "python",
   "name": "conda-env-tf2-py"
  },
  "language_info": {
   "codemirror_mode": {
    "name": "ipython",
    "version": 3
   },
   "file_extension": ".py",
   "mimetype": "text/x-python",
   "name": "python",
   "nbconvert_exporter": "python",
   "pygments_lexer": "ipython3",
   "version": "3.7.7"
  }
 },
 "nbformat": 4,
 "nbformat_minor": 4
}

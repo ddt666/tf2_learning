{
 "cells": [
  {
   "cell_type": "code",
   "execution_count": 1,
   "metadata": {},
   "outputs": [
    {
     "name": "stdout",
     "output_type": "stream",
     "text": [
      "True\n",
      "2.0.0\n",
      "sys.version_info(major=3, minor=7, micro=7, releaselevel='final', serial=0)\n",
      "matplotlib 3.2.2\n",
      "numpy 1.18.5\n",
      "pandas 1.0.5\n",
      "sklearn 0.23.1\n",
      "tensorflow 2.0.0\n",
      "tensorflow_core.keras 2.2.4-tf\n"
     ]
    }
   ],
   "source": [
    "import matplotlib as mpl\n",
    "import matplotlib.pyplot as plt\n",
    "%matplotlib inline\n",
    "import numpy as np\n",
    "import sklearn\n",
    "import pandas as pd\n",
    "import os\n",
    "import sys\n",
    "import time\n",
    "import tensorflow as tf\n",
    "\n",
    "from tensorflow import keras\n",
    "\n",
    "\n",
    "print(tf.test.is_gpu_available())\n",
    "print(tf.__version__)\n",
    "print(sys.version_info)\n",
    "\n",
    "for module in mpl,np,pd,sklearn,tf,keras:\n",
    "    print(module.__name__,module.__version__)"
   ]
  },
  {
   "cell_type": "code",
   "execution_count": 2,
   "metadata": {},
   "outputs": [
    {
     "name": "stdout",
     "output_type": "stream",
     "text": [
      ".. _california_housing_dataset:\n",
      "\n",
      "California Housing dataset\n",
      "--------------------------\n",
      "\n",
      "**Data Set Characteristics:**\n",
      "\n",
      "    :Number of Instances: 20640\n",
      "\n",
      "    :Number of Attributes: 8 numeric, predictive attributes and the target\n",
      "\n",
      "    :Attribute Information:\n",
      "        - MedInc        median income in block\n",
      "        - HouseAge      median house age in block\n",
      "        - AveRooms      average number of rooms\n",
      "        - AveBedrms     average number of bedrooms\n",
      "        - Population    block population\n",
      "        - AveOccup      average house occupancy\n",
      "        - Latitude      house block latitude\n",
      "        - Longitude     house block longitude\n",
      "\n",
      "    :Missing Attribute Values: None\n",
      "\n",
      "This dataset was obtained from the StatLib repository.\n",
      "http://lib.stat.cmu.edu/datasets/\n",
      "\n",
      "The target variable is the median house value for California districts.\n",
      "\n",
      "This dataset was derived from the 1990 U.S. census, using one row per census\n",
      "block group. A block group is the smallest geographical unit for which the U.S.\n",
      "Census Bureau publishes sample data (a block group typically has a population\n",
      "of 600 to 3,000 people).\n",
      "\n",
      "It can be downloaded/loaded using the\n",
      ":func:`sklearn.datasets.fetch_california_housing` function.\n",
      "\n",
      ".. topic:: References\n",
      "\n",
      "    - Pace, R. Kelley and Ronald Barry, Sparse Spatial Autoregressions,\n",
      "      Statistics and Probability Letters, 33 (1997) 291-297\n",
      "\n",
      "(20640, 8)\n",
      "(20640,)\n"
     ]
    }
   ],
   "source": [
    "from sklearn.datasets import fetch_california_housing\n",
    "\n",
    "housing = fetch_california_housing()\n",
    "print(housing.DESCR)\n",
    "print(housing.data.shape)\n",
    "print(housing.target.shape)"
   ]
  },
  {
   "cell_type": "code",
   "execution_count": 3,
   "metadata": {},
   "outputs": [
    {
     "name": "stdout",
     "output_type": "stream",
     "text": [
      "array([[ 8.32520000e+00,  4.10000000e+01,  6.98412698e+00,\n",
      "         1.02380952e+00,  3.22000000e+02,  2.55555556e+00,\n",
      "         3.78800000e+01, -1.22230000e+02],\n",
      "       [ 8.30140000e+00,  2.10000000e+01,  6.23813708e+00,\n",
      "         9.71880492e-01,  2.40100000e+03,  2.10984183e+00,\n",
      "         3.78600000e+01, -1.22220000e+02],\n",
      "       [ 7.25740000e+00,  5.20000000e+01,  8.28813559e+00,\n",
      "         1.07344633e+00,  4.96000000e+02,  2.80225989e+00,\n",
      "         3.78500000e+01, -1.22240000e+02],\n",
      "       [ 5.64310000e+00,  5.20000000e+01,  5.81735160e+00,\n",
      "         1.07305936e+00,  5.58000000e+02,  2.54794521e+00,\n",
      "         3.78500000e+01, -1.22250000e+02],\n",
      "       [ 3.84620000e+00,  5.20000000e+01,  6.28185328e+00,\n",
      "         1.08108108e+00,  5.65000000e+02,  2.18146718e+00,\n",
      "         3.78500000e+01, -1.22250000e+02]])\n",
      "array([4.526, 3.585, 3.521, 3.413, 3.422])\n"
     ]
    }
   ],
   "source": [
    "import pprint\n",
    "\n",
    "pprint.pprint(housing.data[:5])\n",
    "pprint.pprint(housing.target[:5])\n"
   ]
  },
  {
   "cell_type": "code",
   "execution_count": 4,
   "metadata": {
    "scrolled": true
   },
   "outputs": [
    {
     "name": "stdout",
     "output_type": "stream",
     "text": [
      "(11610, 8) (11610,)\n",
      "(3870, 8) (3870,)\n",
      "(5160, 8) (5160,)\n"
     ]
    }
   ],
   "source": [
    "from sklearn.model_selection import train_test_split\n",
    "\n",
    "x_train_all,x_test,y_train_all,y_test = train_test_split(housing.data,housing.target,random_state=7)\n",
    "\n",
    "x_train,x_valid,y_train,y_vaild=train_test_split(x_train_all,y_train_all,random_state=11)\n",
    "\n",
    "print(x_train.shape,y_train.shape)\n",
    "print(x_valid.shape,y_vaild.shape)\n",
    "print(x_test.shape,y_test.shape)"
   ]
  },
  {
   "cell_type": "code",
   "execution_count": 5,
   "metadata": {},
   "outputs": [],
   "source": [
    "# 数据标准化\n",
    "\n",
    "from sklearn.preprocessing import StandardScaler\n",
    "\n",
    "saclar = StandardScaler()\n",
    "x_train_sacled = saclar.fit_transform(x_train)\n",
    "x_valid_sacled = saclar.transform(x_valid)\n",
    "x_test_sacled=saclar.transform(x_test)"
   ]
  },
  {
   "cell_type": "code",
   "execution_count": 6,
   "metadata": {},
   "outputs": [
    {
     "data": {
      "text/plain": [
       "(8,)"
      ]
     },
     "execution_count": 6,
     "metadata": {},
     "output_type": "execute_result"
    }
   ],
   "source": [
    "x_train.shape[1:]"
   ]
  },
  {
   "cell_type": "code",
   "execution_count": 7,
   "metadata": {},
   "outputs": [
    {
     "name": "stdout",
     "output_type": "stream",
     "text": [
      "Model: \"sequential\"\n",
      "_________________________________________________________________\n",
      "Layer (type)                 Output Shape              Param #   \n",
      "=================================================================\n",
      "dense (Dense)                (None, 30)                270       \n",
      "_________________________________________________________________\n",
      "dense_1 (Dense)              (None, 1)                 31        \n",
      "=================================================================\n",
      "Total params: 301\n",
      "Trainable params: 301\n",
      "Non-trainable params: 0\n",
      "_________________________________________________________________\n"
     ]
    }
   ],
   "source": [
    "\"\"\"\n",
    "在keras中，数据是以张量的形式表示的，张量的形状称之为shape，表示从最外层向量逐步到达最底层向量的降维解包过程。比如，一个一阶的张量[1,2,3]的shape是(3,);\n",
    "一个二阶的张量[[1,2,3],[4,5,6]]的shape是(2,3);一个三阶的张量[[[1],[2],[3]],[[4],[5],[6]]]的shape是(2,3,1)。\n",
    "\n",
    "input_shape就是指输入张量的shape。例如，input_dim=784，说明输入是一个784维的向量，这相当于一个一阶的张量，它的shape就是(784,)。因此，input_shape=(784,)。\n",
    "————————————————\n",
    "版权声明：本文为CSDN博主「Flyver」的原创文章，遵循CC 4.0 BY-SA版权协议，转载请附上原文出处链接及本声明。\n",
    "原文链接：https://blog.csdn.net/x_ym/article/details/77728732\n",
    "\"\"\"\n",
    "\n",
    "model = keras.models.Sequential([\n",
    " \n",
    "    keras.layers.Dense(30,activation=\"relu\",input_shape=x_train.shape[1:]),\n",
    "    keras.layers.Dense(1),\n",
    "])\n",
    "model.summary()"
   ]
  },
  {
   "cell_type": "code",
   "execution_count": 8,
   "metadata": {},
   "outputs": [],
   "source": [
    "# 目标函数：均方差，optimizer：随机梯度下降\n",
    "model.compile(loss=\"mean_squared_error\",optimizer=\"sgd\")\n",
    "callbacks=[keras.callbacks.EarlyStopping(patience=5,min_delta=1e-3)]"
   ]
  },
  {
   "cell_type": "code",
   "execution_count": 9,
   "metadata": {},
   "outputs": [
    {
     "name": "stdout",
     "output_type": "stream",
     "text": [
      "Train on 11610 samples, validate on 3870 samples\n",
      "Epoch 1/100\n",
      "11610/11610 [==============================] - 2s 144us/sample - loss: 0.7368 - val_loss: 0.5470\n",
      "Epoch 2/100\n",
      "11610/11610 [==============================] - 1s 74us/sample - loss: 0.5255 - val_loss: 0.4875\n",
      "Epoch 3/100\n",
      "11610/11610 [==============================] - 1s 73us/sample - loss: 0.4509 - val_loss: 0.4662\n",
      "Epoch 4/100\n",
      "11610/11610 [==============================] - 1s 73us/sample - loss: 0.4253 - val_loss: 0.4411\n",
      "Epoch 5/100\n",
      "11610/11610 [==============================] - 1s 72us/sample - loss: 0.4135 - val_loss: 0.4254\n",
      "Epoch 6/100\n",
      "11610/11610 [==============================] - 1s 74us/sample - loss: 0.4041 - val_loss: 0.4214\n",
      "Epoch 7/100\n",
      "11610/11610 [==============================] - 1s 74us/sample - loss: 0.3994 - val_loss: 0.4087\n",
      "Epoch 8/100\n",
      "11610/11610 [==============================] - 1s 78us/sample - loss: 0.3922 - val_loss: 0.4050\n",
      "Epoch 9/100\n",
      "11610/11610 [==============================] - 1s 90us/sample - loss: 0.3878 - val_loss: 0.3997\n",
      "Epoch 10/100\n",
      "11610/11610 [==============================] - 1s 92us/sample - loss: 0.3831 - val_loss: 0.3970\n",
      "Epoch 11/100\n",
      "11610/11610 [==============================] - 1s 98us/sample - loss: 0.3847 - val_loss: 0.3921\n",
      "Epoch 12/100\n",
      "11610/11610 [==============================] - 1s 103us/sample - loss: 0.3800 - val_loss: 0.3851\n",
      "Epoch 13/100\n",
      "11610/11610 [==============================] - 2s 130us/sample - loss: 0.3724 - val_loss: 0.3851\n",
      "Epoch 14/100\n",
      "11610/11610 [==============================] - 1s 114us/sample - loss: 0.3724 - val_loss: 0.3808\n",
      "Epoch 15/100\n",
      "11610/11610 [==============================] - 1s 113us/sample - loss: 0.3681 - val_loss: 0.4248\n",
      "Epoch 16/100\n",
      "11610/11610 [==============================] - 1s 97us/sample - loss: 0.4056 - val_loss: 0.3871\n",
      "Epoch 17/100\n",
      "11610/11610 [==============================] - 1s 95us/sample - loss: 0.3725 - val_loss: 0.3827\n",
      "Epoch 18/100\n",
      "11610/11610 [==============================] - 1s 97us/sample - loss: 0.3686 - val_loss: 0.3766\n",
      "Epoch 19/100\n",
      "11610/11610 [==============================] - 1s 95us/sample - loss: 0.3672 - val_loss: 0.3724\n",
      "Epoch 20/100\n",
      "11610/11610 [==============================] - 1s 96us/sample - loss: 0.3609 - val_loss: 0.3743\n",
      "Epoch 21/100\n",
      "11610/11610 [==============================] - 1s 103us/sample - loss: 0.3598 - val_loss: 0.3762\n",
      "Epoch 22/100\n",
      "11610/11610 [==============================] - 1s 97us/sample - loss: 0.3564 - val_loss: 0.3709\n",
      "Epoch 23/100\n",
      "11610/11610 [==============================] - 1s 96us/sample - loss: 0.3551 - val_loss: 0.3619\n",
      "Epoch 24/100\n",
      "11610/11610 [==============================] - 1s 98us/sample - loss: 0.3550 - val_loss: 0.3628\n",
      "Epoch 25/100\n",
      "11610/11610 [==============================] - 1s 100us/sample - loss: 0.3548 - val_loss: 0.3665\n",
      "Epoch 26/100\n",
      "11610/11610 [==============================] - 1s 95us/sample - loss: 0.3543 - val_loss: 0.3630\n",
      "Epoch 27/100\n",
      "11610/11610 [==============================] - 1s 93us/sample - loss: 0.3496 - val_loss: 0.3563\n",
      "Epoch 28/100\n",
      "11610/11610 [==============================] - 1s 97us/sample - loss: 0.3470 - val_loss: 0.4036\n",
      "Epoch 29/100\n",
      "11610/11610 [==============================] - 1s 96us/sample - loss: 0.3489 - val_loss: 0.3585\n",
      "Epoch 30/100\n",
      "11610/11610 [==============================] - 1s 95us/sample - loss: 0.3490 - val_loss: 0.3545\n",
      "Epoch 31/100\n",
      "11610/11610 [==============================] - 1s 94us/sample - loss: 0.3458 - val_loss: 0.3537\n",
      "Epoch 32/100\n",
      "11610/11610 [==============================] - 1s 98us/sample - loss: 0.3443 - val_loss: 0.3512\n",
      "Epoch 33/100\n",
      "11610/11610 [==============================] - 1s 101us/sample - loss: 0.3471 - val_loss: 0.3563\n",
      "Epoch 34/100\n",
      "11610/11610 [==============================] - 1s 103us/sample - loss: 0.3493 - val_loss: 0.3602\n",
      "Epoch 35/100\n",
      "11610/11610 [==============================] - 1s 96us/sample - loss: 0.3424 - val_loss: 0.3512\n",
      "Epoch 36/100\n",
      "11610/11610 [==============================] - 1s 98us/sample - loss: 0.3407 - val_loss: 0.3548\n",
      "Epoch 37/100\n",
      "11610/11610 [==============================] - 1s 94us/sample - loss: 0.3406 - val_loss: 0.3472\n",
      "Epoch 38/100\n",
      "11610/11610 [==============================] - 1s 93us/sample - loss: 0.3387 - val_loss: 0.3603\n",
      "Epoch 39/100\n",
      "11610/11610 [==============================] - 1s 97us/sample - loss: 0.3399 - val_loss: 0.3443\n",
      "Epoch 40/100\n",
      "11610/11610 [==============================] - 1s 94us/sample - loss: 0.3408 - val_loss: 0.3507\n",
      "Epoch 41/100\n",
      "11610/11610 [==============================] - 1s 96us/sample - loss: 0.3399 - val_loss: 0.3505\n",
      "Epoch 42/100\n",
      "11610/11610 [==============================] - 1s 95us/sample - loss: 0.3343 - val_loss: 0.3457\n",
      "Epoch 43/100\n",
      "11610/11610 [==============================] - 1s 99us/sample - loss: 0.3337 - val_loss: 0.3459\n",
      "Epoch 44/100\n",
      "11610/11610 [==============================] - 1s 95us/sample - loss: 0.3350 - val_loss: 0.3464\n"
     ]
    }
   ],
   "source": [
    "history = model.fit(x_train_sacled,y_train,validation_data=(x_valid_sacled,y_vaild),epochs=100,callbacks=callbacks)"
   ]
  },
  {
   "cell_type": "code",
   "execution_count": 10,
   "metadata": {},
   "outputs": [
    {
     "data": {
      "image/png": "[encoded data removed]",
      "text/plain": [
       "<Figure size 576x360 with 1 Axes>"
      ]
     },
     "metadata": {
      "needs_background": "light"
     },
     "output_type": "display_data"
    }
   ],
   "source": [
    "def plot_learning_curves(history):\n",
    "    pd.DataFrame(history.history).plot(figsize=(8,5))\n",
    "    plt.grid(True)\n",
    "    plt.gca().set_ylim(0,1)\n",
    "    plt.show()\n",
    "    \n",
    "plot_learning_curves(history)"
   ]
  },
  {
   "cell_type": "code",
   "execution_count": 12,
   "metadata": {},
   "outputs": [],
   "source": [
    "date =np.array([\n",
    "    [[1],[2],[3]],\n",
    "    [[4],[5],[6]]\n",
    "])"
   ]
  },
  {
   "cell_type": "code",
   "execution_count": 13,
   "metadata": {},
   "outputs": [
    {
     "data": {
      "text/plain": [
       "(2, 3, 1)"
      ]
     },
     "execution_count": 13,
     "metadata": {},
     "output_type": "execute_result"
    }
   ],
   "source": [
    "date.shape"
   ]
  },
  {
   "cell_type": "code",
   "execution_count": null,
   "metadata": {},
   "outputs": [],
   "source": []
  }
 ],
 "metadata": {
  "kernelspec": {
   "display_name": "Python [conda env:tf2]",
   "language": "python",
   "name": "conda-env-tf2-py"
  },
  "language_info": {
   "codemirror_mode": {
    "name": "ipython",
    "version": 3
   },
   "file_extension": ".py",
   "mimetype": "text/x-python",
   "name": "python",
   "nbconvert_exporter": "python",
   "pygments_lexer": "ipython3",
   "version": "3.7.7"
  }
 },
 "nbformat": 4,
 "nbformat_minor": 4
}

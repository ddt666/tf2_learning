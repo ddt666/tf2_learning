{
 "cells": [
  {
   "cell_type": "code",
   "execution_count": 1,
   "metadata": {},
   "outputs": [
    {
     "name": "stdout",
     "output_type": "stream",
     "text": [
      "True\n",
      "2.0.0\n",
      "sys.version_info(major=3, minor=7, micro=7, releaselevel='final', serial=0)\n",
      "matplotlib 3.2.2\n",
      "numpy 1.18.5\n",
      "pandas 1.0.5\n",
      "sklearn 0.23.1\n",
      "tensorflow 2.0.0\n",
      "tensorflow_core.keras 2.2.4-tf\n"
     ]
    }
   ],
   "source": [
    "import matplotlib as mpl\n",
    "import matplotlib.pyplot as plt\n",
    "%matplotlib inline\n",
    "import numpy as np\n",
    "import sklearn\n",
    "import pandas as pd\n",
    "import os\n",
    "import sys\n",
    "import time\n",
    "import tensorflow as tf\n",
    "\n",
    "from tensorflow import keras\n",
    "\n",
    "\n",
    "print(tf.test.is_gpu_available())\n",
    "print(tf.__version__)\n",
    "print(sys.version_info)\n",
    "\n",
    "for module in mpl,np,pd,sklearn,tf,keras:\n",
    "    print(module.__name__,module.__version__)"
   ]
  },
  {
   "cell_type": "code",
   "execution_count": 3,
   "metadata": {},
   "outputs": [],
   "source": [
    "fashion_mnist = keras.datasets.fashion_mnist\n",
    "(x_train_all,y_train_all),(x_test,y_test) = fashion_mnist.load_data()\n",
    "x_valid,x_train =  x_train_all[:5000],x_train_all[5000:]\n",
    "y_valid,y_train =  y_train_all[:5000],y_train_all[5000:]"
   ]
  },
  {
   "cell_type": "code",
   "execution_count": 5,
   "metadata": {},
   "outputs": [],
   "source": [
    "# 对数据做标准化\n",
    "# x = (x - u)/std (u:均值,std:方差)\n",
    "\n",
    "from sklearn.preprocessing import StandardScaler\n",
    "\n",
    "scalar = StandardScaler()\n",
    "\n",
    "# 需要一个二维矩阵 x_train是三维的，要转成二维矩阵，再转成三维\n",
    "# [None,28,28] ---> [None,784]\n",
    "x_train_sacled = scalar.fit_transform(\n",
    "x_train.astype(np.float32).reshape(-1,1)\n",
    ").reshape(-1,28,28)\n",
    "\n",
    "x_valid_scaled = scalar.transform(x_valid.astype(np.float32).reshape(-1,1)).reshape(-1,28,28)\n",
    "\n",
    "x_test_scaled = scalar.transform(x_test.astype(np.float32).reshape(-1,1)).reshape(-1,28,28)"
   ]
  },
  {
   "cell_type": "code",
   "execution_count": 7,
   "metadata": {},
   "outputs": [],
   "source": [
    "\n",
    "# 顺序模型 Sequential 模型结构： 层（layers）的线性堆栈。简单来说，它是一个简单的线性结构，没有多余分支，是多个网络层的堆叠\n",
    "# tf.keras.models.Sequential()\n",
    "\"\"\"\n",
    "model =keras.models.Sequential()\n",
    "\n",
    "model.add(keras.layers.Flatten(input_shape=[28,28]))\n",
    "# 全连接层， activation激活函数\n",
    "model.add(keras.layers.Dense(300,activation='relu'))\n",
    "\n",
    "model.add(keras.layers.Dense(100,activation='relu'))\n",
    "\n",
    "model.add(keras.layers.Dense(10,activation=\"softmax\"))\n",
    "\"\"\"\n",
    "\n",
    "# relu: y = max(0, x)\n",
    "# softmax:将向量变成概率分布,x=[x1,x2,x3]\n",
    "#  y = [e^x1/sum,e^x2/sum,e^x3/sum],sum = e^x1 + e^x2 + e^x3\n",
    "\n",
    "model =keras.models.Sequential([\n",
    "    keras.layers.Flatten(input_shape=[28,28]),\n",
    "    keras.layers.Dense(300,activation='relu'),\n",
    "    keras.layers.Dense(100,activation='relu'),\n",
    "    keras.layers.Dense(10,activation=\"softmax\")\n",
    "    \n",
    "])\n",
    "\n",
    "\n",
    "#  计算交叉熵损失\n",
    "# reasone for sparse: y是一个单纯的数字(index),要变成one_hot编码\n",
    "# 如果y已经是一个向量了就用categorical_crossentropy\n",
    "# loss：损失函数 交叉熵损失\n",
    "# optmizer：优化器 sgd 越来越小\n",
    "# metrics:验证指标\n",
    "model.compile(loss=\"sparse_categorical_crossentropy\",optmizer = \"sgd\",metrics=[\"accuracy\"])\n",
    "\n"
   ]
  },
  {
   "cell_type": "code",
   "execution_count": 8,
   "metadata": {},
   "outputs": [
    {
     "name": "stdout",
     "output_type": "stream",
     "text": [
      "Train on 55000 samples, validate on 5000 samples\n",
      "Epoch 1/10\n",
      "55000/55000 [==============================] - 8s 141us/sample - loss: 0.4854 - accuracy: 0.8259 - val_loss: 0.4136 - val_accuracy: 0.8668\n",
      "Epoch 2/10\n",
      "55000/55000 [==============================] - 7s 122us/sample - loss: 0.3964 - accuracy: 0.8600 - val_loss: 0.3990 - val_accuracy: 0.8694\n",
      "Epoch 3/10\n",
      "55000/55000 [==============================] - 6s 115us/sample - loss: 0.3753 - accuracy: 0.8706 - val_loss: 0.3984 - val_accuracy: 0.8762\n",
      "Epoch 4/10\n",
      "55000/55000 [==============================] - 7s 129us/sample - loss: 0.3629 - accuracy: 0.8773 - val_loss: 0.4214 - val_accuracy: 0.8730\n",
      "Epoch 5/10\n",
      "55000/55000 [==============================] - 7s 127us/sample - loss: 0.3458 - accuracy: 0.8827 - val_loss: 0.5032 - val_accuracy: 0.8610\n",
      "Epoch 6/10\n",
      "55000/55000 [==============================] - 7s 128us/sample - loss: 0.3346 - accuracy: 0.8873 - val_loss: 0.5130 - val_accuracy: 0.8728\n",
      "Epoch 7/10\n",
      "55000/55000 [==============================] - 7s 128us/sample - loss: 0.3268 - accuracy: 0.8906 - val_loss: 0.4593 - val_accuracy: 0.8746\n"
     ]
    }
   ],
   "source": [
    "# Tensorboard,earlystopping,ModelCheckpoint\n",
    "logdir=os.path.join('callbacks')\n",
    "\n",
    "if not os.path.exists(logdir):\n",
    "    os.mkdir(logdir)\n",
    "\n",
    "outout_model_file = os.path.join(logdir,\"fashion_mnist_model.h5\")\n",
    "\n",
    "callbacks = [\n",
    "    keras.callbacks.TensorBoard(log_dir=logdir),\n",
    "    keras.callbacks.ModelCheckpoint(outout_model_file,save_best_only=True),\n",
    "    tf.keras.callbacks.EarlyStopping(min_delta=1e-3, patience=5)\n",
    "]\n",
    "\n",
    "history = model.fit(x_train_sacled,y_train,epochs=10,validation_data=(x_valid_scaled,y_valid),callbacks=callbacks)"
   ]
  },
  {
   "cell_type": "code",
   "execution_count": 9,
   "metadata": {},
   "outputs": [],
   "source": [
    "def plot_learning_curves(history):\n",
    "    pd.DataFrame(history.history).plot(figsize=(8,5))\n",
    "    plt.grid(True)\n",
    "    plt.gca().set_ylim(0,1)\n",
    "    plt.show()"
   ]
  },
  {
   "cell_type": "code",
   "execution_count": 10,
   "metadata": {},
   "outputs": [
    {
     "data": {
      "image/png": "[encoded data removed]",
      "text/plain": [
       "<Figure size 576x360 with 1 Axes>"
      ]
     },
     "metadata": {
      "needs_background": "light"
     },
     "output_type": "display_data"
    }
   ],
   "source": [
    "plot_learning_curves(history)"
   ]
  },
  {
   "cell_type": "code",
   "execution_count": null,
   "metadata": {},
   "outputs": [],
   "source": [
    "model.evaluate(x_test_scaled,y_test)"
   ]
  },
  {
   "cell_type": "code",
   "execution_count": null,
   "metadata": {},
   "outputs": [],
   "source": []
  }
 ],
 "metadata": {
  "kernelspec": {
   "display_name": "Python [conda env:tf2]",
   "language": "python",
   "name": "conda-env-tf2-py"
  },
  "language_info": {
   "codemirror_mode": {
    "name": "ipython",
    "version": 3
   },
   "file_extension": ".py",
   "mimetype": "text/x-python",
   "name": "python",
   "nbconvert_exporter": "python",
   "pygments_lexer": "ipython3",
   "version": "3.7.7"
  }
 },
 "nbformat": 4,
 "nbformat_minor": 4
}

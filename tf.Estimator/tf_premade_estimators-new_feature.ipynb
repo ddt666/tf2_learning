{
 "cells": [
  {
   "cell_type": "code",
   "execution_count": 1,
   "metadata": {
    "scrolled": true
   },
   "outputs": [
    {
     "name": "stdout",
     "output_type": "stream",
     "text": [
      "2.0.0\n",
      "sys.version_info(major=3, minor=7, micro=7, releaselevel='final', serial=0)\n",
      "matplotlib 3.2.2\n",
      "numpy 1.18.5\n",
      "pandas 1.0.5\n",
      "sklearn 0.21.2\n",
      "tensorflow 2.0.0\n",
      "tensorflow_core.keras 2.2.4-tf\n"
     ]
    }
   ],
   "source": [
    "import matplotlib as mpl\n",
    "import matplotlib.pyplot as plt\n",
    "%matplotlib inline\n",
    "import numpy as np\n",
    "import sklearn\n",
    "import pandas as pd\n",
    "import os\n",
    "import sys\n",
    "import time\n",
    "import tensorflow as tf\n",
    "\n",
    "from tensorflow import keras\n",
    "\n",
    "import warnings\n",
    "warnings.filterwarnings(\"ignore\")\n",
    "\n",
    "# os.environ['TF_CPP_MIN_LOG_LEVEL'] = '3' \n",
    "print(tf.__version__)\n",
    "print(sys.version_info)\n",
    "\n",
    "for module in mpl,np,pd,sklearn,tf,keras:\n",
    "    print(module.__name__,module.__version__)"
   ]
  },
  {
   "cell_type": "code",
   "execution_count": 2,
   "metadata": {},
   "outputs": [
    {
     "data": {
      "text/html": [
       "<div>\n",
       "<style scoped>\n",
       "    .dataframe tbody tr th:only-of-type {\n",
       "        vertical-align: middle;\n",
       "    }\n",
       "\n",
       "    .dataframe tbody tr th {\n",
       "        vertical-align: top;\n",
       "    }\n",
       "\n",
       "    .dataframe thead th {\n",
       "        text-align: right;\n",
       "    }\n",
       "</style>\n",
       "<table border=\"1\" class=\"dataframe\">\n",
       "  <thead>\n",
       "    <tr style=\"text-align: right;\">\n",
       "      <th></th>\n",
       "      <th>survived</th>\n",
       "      <th>sex</th>\n",
       "      <th>age</th>\n",
       "      <th>n_siblings_spouses</th>\n",
       "      <th>parch</th>\n",
       "      <th>fare</th>\n",
       "      <th>class</th>\n",
       "      <th>deck</th>\n",
       "      <th>embark_town</th>\n",
       "      <th>alone</th>\n",
       "    </tr>\n",
       "  </thead>\n",
       "  <tbody>\n",
       "    <tr>\n",
       "      <th>0</th>\n",
       "      <td>0</td>\n",
       "      <td>male</td>\n",
       "      <td>22.0</td>\n",
       "      <td>1</td>\n",
       "      <td>0</td>\n",
       "      <td>7.2500</td>\n",
       "      <td>Third</td>\n",
       "      <td>unknown</td>\n",
       "      <td>Southampton</td>\n",
       "      <td>n</td>\n",
       "    </tr>\n",
       "    <tr>\n",
       "      <th>1</th>\n",
       "      <td>1</td>\n",
       "      <td>female</td>\n",
       "      <td>38.0</td>\n",
       "      <td>1</td>\n",
       "      <td>0</td>\n",
       "      <td>71.2833</td>\n",
       "      <td>First</td>\n",
       "      <td>C</td>\n",
       "      <td>Cherbourg</td>\n",
       "      <td>n</td>\n",
       "    </tr>\n",
       "    <tr>\n",
       "      <th>2</th>\n",
       "      <td>1</td>\n",
       "      <td>female</td>\n",
       "      <td>26.0</td>\n",
       "      <td>0</td>\n",
       "      <td>0</td>\n",
       "      <td>7.9250</td>\n",
       "      <td>Third</td>\n",
       "      <td>unknown</td>\n",
       "      <td>Southampton</td>\n",
       "      <td>y</td>\n",
       "    </tr>\n",
       "    <tr>\n",
       "      <th>3</th>\n",
       "      <td>1</td>\n",
       "      <td>female</td>\n",
       "      <td>35.0</td>\n",
       "      <td>1</td>\n",
       "      <td>0</td>\n",
       "      <td>53.1000</td>\n",
       "      <td>First</td>\n",
       "      <td>C</td>\n",
       "      <td>Southampton</td>\n",
       "      <td>n</td>\n",
       "    </tr>\n",
       "    <tr>\n",
       "      <th>4</th>\n",
       "      <td>0</td>\n",
       "      <td>male</td>\n",
       "      <td>28.0</td>\n",
       "      <td>0</td>\n",
       "      <td>0</td>\n",
       "      <td>8.4583</td>\n",
       "      <td>Third</td>\n",
       "      <td>unknown</td>\n",
       "      <td>Queenstown</td>\n",
       "      <td>y</td>\n",
       "    </tr>\n",
       "  </tbody>\n",
       "</table>\n",
       "</div>"
      ],
      "text/plain": [
       "   survived     sex   age  n_siblings_spouses  parch     fare  class     deck  \\\n",
       "0         0    male  22.0                   1      0   7.2500  Third  unknown   \n",
       "1         1  female  38.0                   1      0  71.2833  First        C   \n",
       "2         1  female  26.0                   0      0   7.9250  Third  unknown   \n",
       "3         1  female  35.0                   1      0  53.1000  First        C   \n",
       "4         0    male  28.0                   0      0   8.4583  Third  unknown   \n",
       "\n",
       "   embark_town alone  \n",
       "0  Southampton     n  \n",
       "1    Cherbourg     n  \n",
       "2  Southampton     y  \n",
       "3  Southampton     n  \n",
       "4   Queenstown     y  "
      ]
     },
     "execution_count": 2,
     "metadata": {},
     "output_type": "execute_result"
    }
   ],
   "source": [
    "train_file = \"./data/titanic/train.csv\"\n",
    "eval_file = \"./data/titanic/eval.csv\"\n",
    "\n",
    "train_df = pd.read_csv(train_file)\n",
    "eval_df = pd.read_csv(eval_file)\n",
    "\n",
    "train_df.head()"
   ]
  },
  {
   "cell_type": "code",
   "execution_count": 3,
   "metadata": {},
   "outputs": [],
   "source": [
    "y_train = train_df.pop(\"survived\")\n",
    "y_eval = eval_df.pop(\"survived\")"
   ]
  },
  {
   "cell_type": "code",
   "execution_count": 4,
   "metadata": {},
   "outputs": [],
   "source": [
    "# categorical_columns = ['sex', 'n_siblings_spouses', 'parch', 'class',\n",
    "#                        'deck', 'embark_town', 'alone']\n",
    "# numeric_columns = ['age', 'fare']\n",
    "\n",
    "# feature_columns = []\n",
    "# for categorical_column in categorical_columns:\n",
    "#     vocab = train_df[categorical_column].unique()\n",
    "#     print(categorical_column, vocab)\n",
    "#     feature_columns.append(\n",
    "#         tf.feature_column.indicator_column(\n",
    "#             tf.feature_column.categorical_column_with_vocabulary_list(\n",
    "#                 categorical_column, vocab)))\n",
    "\n",
    "# for categorical_column in numeric_columns:\n",
    "#     feature_columns.append(\n",
    "#         tf.feature_column.numeric_column(\n",
    "#             categorical_column, dtype=tf.float32))"
   ]
  },
  {
   "cell_type": "code",
   "execution_count": 5,
   "metadata": {},
   "outputs": [
    {
     "name": "stdout",
     "output_type": "stream",
     "text": [
      "sex ['male' 'female']\n",
      "n_siblings_spouses [1 0 3 4 2 5 8]\n",
      "parch [0 1 2 5 3 4]\n",
      "class ['Third' 'First' 'Second']\n",
      "deck ['unknown' 'C' 'G' 'A' 'B' 'D' 'F' 'E']\n",
      "embark_town ['Southampton' 'Cherbourg' 'Queenstown' 'unknown']\n",
      "alone ['n' 'y']\n"
     ]
    }
   ],
   "source": [
    "# 离散型特征\n",
    "categorical_columns = [\"sex\",\"n_siblings_spouses\",\"parch\",\"class\",\"deck\",\"embark_town\",\"alone\"]\n",
    "# 连续型特征\n",
    "numeric_columns = [\"age\",\"fare\"]\n",
    "\n",
    "feature_columns = []\n",
    "\n",
    "# 对离散型特征数据的处理\n",
    "for categorical_column in categorical_columns:\n",
    "    # 获得所有可能的值   \n",
    "    vocab = train_df[categorical_column].unique()\n",
    "    print(categorical_column,vocab)\n",
    "    # indicator_column:对离散型数据进行onehot编码\n",
    "    feature_columns.append(tf.feature_column.indicator_column(tf.feature_column.categorical_column_with_vocabulary_list(\n",
    "        categorical_column,vocab\n",
    "    )))\n",
    "    \n",
    "# 对连续型特征数据进行处理\n",
    "for numeric_column in numeric_columns:\n",
    "    feature_columns.append(tf.feature_column.numeric_column(numeric_column,dtype=tf.float32))\n",
    "\n",
    "\n",
    "# 交叉特征\n",
    "# cross feature: age:[1,2,3,4,5], gender:[male,female]\n",
    "# age_x_gender:[(1,male),(2,male),(3,female)...]\n",
    "\n",
    "feature_columns.append(tf.feature_column.indicator_column(tf.feature_column.crossed_column([\"age\",\"sex\"],hash_bucket_size=100)))"
   ]
  },
  {
   "cell_type": "code",
   "execution_count": 6,
   "metadata": {},
   "outputs": [],
   "source": [
    "def make_dataset(data_df, label_df, epochs = 10, shuffle = True,\n",
    "                 batch_size = 32):\n",
    "    dataset = tf.data.Dataset.from_tensor_slices(\n",
    "        (dict(data_df), label_df))\n",
    "    if shuffle:\n",
    "        dataset = dataset.shuffle(10000)\n",
    "    dataset = dataset.repeat(epochs).batch(batch_size)\n",
    "    return dataset\n",
    "\n",
    "# train_dataset = make_dataset(train_df,y_train,batch_size=5)\n",
    "\n"
   ]
  },
  {
   "cell_type": "code",
   "execution_count": 7,
   "metadata": {},
   "outputs": [
    {
     "data": {
      "text/plain": [
       "0      0\n",
       "1      1\n",
       "2      1\n",
       "3      1\n",
       "4      0\n",
       "      ..\n",
       "622    0\n",
       "623    0\n",
       "624    1\n",
       "625    0\n",
       "626    0\n",
       "Name: survived, Length: 627, dtype: int64"
      ]
     },
     "execution_count": 7,
     "metadata": {},
     "output_type": "execute_result"
    }
   ],
   "source": [
    "y_train"
   ]
  },
  {
   "cell_type": "code",
   "execution_count": 8,
   "metadata": {},
   "outputs": [
    {
     "name": "stdout",
     "output_type": "stream",
     "text": [
      "INFO:tensorflow:Using default config.\n",
      "INFO:tensorflow:Using config: {'_model_dir': 'baseline_model_new_features', '_tf_random_seed': None, '_save_summary_steps': 100, '_save_checkpoints_steps': None, '_save_checkpoints_secs': 600, '_session_config': allow_soft_placement: true\n",
      "graph_options {\n",
      "  rewrite_options {\n",
      "    meta_optimizer_iterations: ONE\n",
      "  }\n",
      "}\n",
      ", '_keep_checkpoint_max': 5, '_keep_checkpoint_every_n_hours': 10000, '_log_step_count_steps': 100, '_train_distribute': None, '_device_fn': None, '_protocol': None, '_eval_distribute': None, '_experimental_distribute': None, '_experimental_max_worker_delay_secs': None, '_session_creation_timeout_secs': 7200, '_service': None, '_cluster_spec': <tensorflow.python.training.server_lib.ClusterSpec object at 0x000002DA16734A08>, '_task_type': 'worker', '_task_id': 0, '_global_id_in_cluster': 0, '_master': '', '_evaluation_master': '', '_is_chief': True, '_num_ps_replicas': 0, '_num_worker_replicas': 1}\n"
     ]
    }
   ],
   "source": [
    "\n",
    "output_dir = 'baseline_model_new_features'\n",
    "if not os.path.exists(output_dir):\n",
    "    os.mkdir(output_dir)\n",
    "\n",
    "baseline_estimator = tf.compat.v1.estimator.BaselineClassifier(\n",
    "    model_dir = output_dir,\n",
    "    n_classes = 2)\n"
   ]
  },
  {
   "cell_type": "code",
   "execution_count": 9,
   "metadata": {},
   "outputs": [
    {
     "name": "stdout",
     "output_type": "stream",
     "text": [
      "WARNING:tensorflow:From F:\\Anaconda3\\envs\\tf2\\lib\\site-packages\\tensorflow_core\\python\\ops\\resource_variable_ops.py:1630: calling BaseResourceVariable.__init__ (from tensorflow.python.ops.resource_variable_ops) with constraint is deprecated and will be removed in a future version.\n",
      "Instructions for updating:\n",
      "If using Keras pass *_constraint arguments to layers.\n",
      "WARNING:tensorflow:From F:\\Anaconda3\\envs\\tf2\\lib\\site-packages\\tensorflow_core\\python\\training\\training_util.py:236: Variable.initialized_value (from tensorflow.python.ops.variables) is deprecated and will be removed in a future version.\n",
      "Instructions for updating:\n",
      "Use Variable.read_value. Variables in 2.X are initialized automatically both in eager and graph (inside tf.defun) contexts.\n",
      "INFO:tensorflow:Calling model_fn.\n",
      "WARNING:tensorflow:From F:\\Anaconda3\\envs\\tf2\\lib\\site-packages\\tensorflow_estimator\\python\\estimator\\canned\\head.py:437: to_float (from tensorflow.python.ops.math_ops) is deprecated and will be removed in a future version.\n",
      "Instructions for updating:\n",
      "Use `tf.cast` instead.\n",
      "INFO:tensorflow:Done calling model_fn.\n",
      "INFO:tensorflow:Create CheckpointSaverHook.\n",
      "INFO:tensorflow:Graph was finalized.\n",
      "INFO:tensorflow:Restoring parameters from baseline_model_new_features\\model.ckpt-3920\n",
      "WARNING:tensorflow:From F:\\Anaconda3\\envs\\tf2\\lib\\site-packages\\tensorflow_core\\python\\training\\saver.py:1069: get_checkpoint_mtimes (from tensorflow.python.training.checkpoint_management) is deprecated and will be removed in a future version.\n",
      "Instructions for updating:\n",
      "Use standard file utilities to get mtimes.\n",
      "INFO:tensorflow:Running local_init_op.\n",
      "INFO:tensorflow:Done running local_init_op.\n",
      "INFO:tensorflow:Saving checkpoints for 3920 into baseline_model_new_features\\model.ckpt.\n",
      "INFO:tensorflow:loss = 21.63964, step = 3920\n",
      "INFO:tensorflow:global_step/sec: 329.869\n",
      "INFO:tensorflow:loss = 22.085249, step = 4020 (0.304 sec)\n",
      "INFO:tensorflow:global_step/sec: 491.508\n",
      "INFO:tensorflow:loss = 19.768297, step = 4120 (0.204 sec)\n",
      "INFO:tensorflow:global_step/sec: 462.059\n",
      "INFO:tensorflow:loss = 22.55409, step = 4220 (0.214 sec)\n",
      "INFO:tensorflow:global_step/sec: 557.043\n",
      "INFO:tensorflow:loss = 20.74443, step = 4320 (0.180 sec)\n",
      "INFO:tensorflow:global_step/sec: 560.153\n",
      "INFO:tensorflow:loss = 21.63533, step = 4420 (0.180 sec)\n",
      "INFO:tensorflow:global_step/sec: 475.201\n",
      "INFO:tensorflow:loss = 17.553793, step = 4520 (0.210 sec)\n",
      "INFO:tensorflow:global_step/sec: 493.926\n",
      "INFO:tensorflow:loss = 22.993694, step = 4620 (0.202 sec)\n",
      "INFO:tensorflow:global_step/sec: 539.073\n",
      "INFO:tensorflow:loss = 22.093208, step = 4720 (0.186 sec)\n",
      "INFO:tensorflow:global_step/sec: 470.737\n",
      "INFO:tensorflow:loss = 21.63797, step = 4820 (0.212 sec)\n",
      "INFO:tensorflow:global_step/sec: 516.842\n",
      "INFO:tensorflow:loss = 21.180943, step = 4920 (0.193 sec)\n",
      "INFO:tensorflow:global_step/sec: 563.3\n",
      "INFO:tensorflow:loss = 19.797848, step = 5020 (0.178 sec)\n",
      "INFO:tensorflow:global_step/sec: 560.152\n",
      "INFO:tensorflow:loss = 21.649303, step = 5120 (0.178 sec)\n",
      "INFO:tensorflow:global_step/sec: 569.7\n",
      "INFO:tensorflow:loss = 23.0241, step = 5220 (0.177 sec)\n",
      "INFO:tensorflow:global_step/sec: 557.032\n",
      "INFO:tensorflow:loss = 20.715382, step = 5320 (0.180 sec)\n",
      "INFO:tensorflow:global_step/sec: 563.311\n",
      "INFO:tensorflow:loss = 22.595745, step = 5420 (0.178 sec)\n",
      "INFO:tensorflow:global_step/sec: 560.149\n",
      "INFO:tensorflow:loss = 21.180462, step = 5520 (0.179 sec)\n",
      "INFO:tensorflow:global_step/sec: 557.041\n",
      "INFO:tensorflow:loss = 20.256569, step = 5620 (0.179 sec)\n",
      "INFO:tensorflow:global_step/sec: 524.959\n",
      "INFO:tensorflow:loss = 22.10764, step = 5720 (0.190 sec)\n",
      "INFO:tensorflow:global_step/sec: 511.569\n",
      "INFO:tensorflow:loss = 19.83139, step = 5820 (0.195 sec)\n",
      "INFO:tensorflow:Saving checkpoints for 5880 into baseline_model_new_features\\model.ckpt.\n",
      "INFO:tensorflow:Loss for final step: 7.2599645.\n"
     ]
    },
    {
     "data": {
      "text/plain": [
       "<tensorflow_estimator.python.estimator.canned.baseline.BaselineClassifier at 0x2da16746348>"
      ]
     },
     "execution_count": 9,
     "metadata": {},
     "output_type": "execute_result"
    }
   ],
   "source": [
    "\n",
    "baseline_estimator.train(input_fn = lambda : make_dataset(\n",
    "    train_df, y_train, epochs = 100))"
   ]
  },
  {
   "cell_type": "code",
   "execution_count": 10,
   "metadata": {},
   "outputs": [
    {
     "name": "stdout",
     "output_type": "stream",
     "text": [
      "INFO:tensorflow:Calling model_fn.\n",
      "WARNING:tensorflow:From F:\\Anaconda3\\envs\\tf2\\lib\\site-packages\\tensorflow_core\\python\\ops\\metrics_impl.py:2026: div (from tensorflow.python.ops.math_ops) is deprecated and will be removed in a future version.\n",
      "Instructions for updating:\n",
      "Deprecated in favor of operator or tf.math.divide.\n",
      "WARNING:tensorflow:Trapezoidal rule is known to produce incorrect PR-AUCs; please switch to \"careful_interpolation\" instead.\n",
      "WARNING:tensorflow:Trapezoidal rule is known to produce incorrect PR-AUCs; please switch to \"careful_interpolation\" instead.\n",
      "INFO:tensorflow:Done calling model_fn.\n",
      "INFO:tensorflow:Starting evaluation at 2020-07-15T17:19:21Z\n",
      "INFO:tensorflow:Graph was finalized.\n",
      "INFO:tensorflow:Restoring parameters from baseline_model_new_features\\model.ckpt-5880\n",
      "INFO:tensorflow:Running local_init_op.\n",
      "INFO:tensorflow:Done running local_init_op.\n",
      "INFO:tensorflow:Finished evaluation at 2020-07-15-17:19:22\n",
      "INFO:tensorflow:Saving dict for global step 5880: accuracy = 0.625, accuracy_baseline = 0.625, auc = 0.5, auc_precision_recall = 0.6875, average_loss = 0.6618941, global_step = 5880, label/mean = 0.375, loss = 12.481431, precision = 0.0, prediction/mean = 0.38750684, recall = 0.0\n",
      "INFO:tensorflow:Saving 'checkpoint_path' summary for global step 5880: baseline_model_new_features\\model.ckpt-5880\n"
     ]
    },
    {
     "data": {
      "text/plain": [
       "{'accuracy': 0.625,\n",
       " 'accuracy_baseline': 0.625,\n",
       " 'auc': 0.5,\n",
       " 'auc_precision_recall': 0.6875,\n",
       " 'average_loss': 0.6618941,\n",
       " 'label/mean': 0.375,\n",
       " 'loss': 12.481431,\n",
       " 'precision': 0.0,\n",
       " 'prediction/mean': 0.38750684,\n",
       " 'recall': 0.0,\n",
       " 'global_step': 5880}"
      ]
     },
     "execution_count": 10,
     "metadata": {},
     "output_type": "execute_result"
    }
   ],
   "source": [
    "baseline_estimator.evaluate(input_fn= lambda :make_dataset(eval_df,y_eval,epochs=1,shuffle=False,batch_size=20))"
   ]
  },
  {
   "cell_type": "code",
   "execution_count": 11,
   "metadata": {},
   "outputs": [
    {
     "name": "stdout",
     "output_type": "stream",
     "text": [
      "INFO:tensorflow:Using default config.\n",
      "INFO:tensorflow:Using config: {'_model_dir': 'linear_model_new_features', '_tf_random_seed': None, '_save_summary_steps': 100, '_save_checkpoints_steps': None, '_save_checkpoints_secs': 600, '_session_config': allow_soft_placement: true\n",
      "graph_options {\n",
      "  rewrite_options {\n",
      "    meta_optimizer_iterations: ONE\n",
      "  }\n",
      "}\n",
      ", '_keep_checkpoint_max': 5, '_keep_checkpoint_every_n_hours': 10000, '_log_step_count_steps': 100, '_train_distribute': None, '_device_fn': None, '_protocol': None, '_eval_distribute': None, '_experimental_distribute': None, '_experimental_max_worker_delay_secs': None, '_session_creation_timeout_secs': 7200, '_service': None, '_cluster_spec': <tensorflow.python.training.server_lib.ClusterSpec object at 0x000002DA85F9EF08>, '_task_type': 'worker', '_task_id': 0, '_global_id_in_cluster': 0, '_master': '', '_evaluation_master': '', '_is_chief': True, '_num_ps_replicas': 0, '_num_worker_replicas': 1}\n",
      "INFO:tensorflow:Calling model_fn.\n",
      "WARNING:tensorflow:Layer linear/linear_model is casting an input tensor from dtype float64 to the layer's dtype of float32, which is new behavior in TensorFlow 2.  The layer has dtype float32 because it's dtype defaults to floatx.\n",
      "\n",
      "If you intended to run this layer in float32, you can safely ignore this warning. If in doubt, this warning is likely only an issue if you are porting a TensorFlow 1.X model to TensorFlow 2.\n",
      "\n",
      "To change all layers to have dtype float64 by default, call `tf.keras.backend.set_floatx('float64')`. To change just this layer, pass dtype='float64' to the layer constructor. If you are the author of this layer, you can disable autocasting by passing autocast=False to the base Layer constructor.\n",
      "\n",
      "WARNING:tensorflow:From F:\\Anaconda3\\envs\\tf2\\lib\\site-packages\\tensorflow_core\\python\\feature_column\\feature_column_v2.py:518: Layer.add_variable (from tensorflow.python.keras.engine.base_layer) is deprecated and will be removed in a future version.\n",
      "Instructions for updating:\n",
      "Please use `layer.add_weight` method instead.\n",
      "WARNING:tensorflow:From F:\\Anaconda3\\envs\\tf2\\lib\\site-packages\\tensorflow_core\\python\\feature_column\\feature_column_v2.py:4276: IndicatorColumn._variable_shape (from tensorflow.python.feature_column.feature_column_v2) is deprecated and will be removed in a future version.\n",
      "Instructions for updating:\n",
      "The old _FeatureColumn APIs are being deprecated. Please use the new FeatureColumn APIs instead.\n",
      "WARNING:tensorflow:From F:\\Anaconda3\\envs\\tf2\\lib\\site-packages\\tensorflow_core\\python\\feature_column\\feature_column_v2.py:4331: CrossedColumn._num_buckets (from tensorflow.python.feature_column.feature_column_v2) is deprecated and will be removed in a future version.\n",
      "Instructions for updating:\n",
      "The old _FeatureColumn APIs are being deprecated. Please use the new FeatureColumn APIs instead.\n",
      "WARNING:tensorflow:From F:\\Anaconda3\\envs\\tf2\\lib\\site-packages\\tensorflow_core\\python\\feature_column\\feature_column_v2.py:4331: VocabularyListCategoricalColumn._num_buckets (from tensorflow.python.feature_column.feature_column_v2) is deprecated and will be removed in a future version.\n",
      "Instructions for updating:\n",
      "The old _FeatureColumn APIs are being deprecated. Please use the new FeatureColumn APIs instead.\n",
      "WARNING:tensorflow:From F:\\Anaconda3\\envs\\tf2\\lib\\site-packages\\tensorflow_core\\python\\keras\\optimizer_v2\\ftrl.py:143: calling Constant.__init__ (from tensorflow.python.ops.init_ops) with dtype is deprecated and will be removed in a future version.\n",
      "Instructions for updating:\n",
      "Call initializer instance with the dtype argument instead of passing it to the constructor\n",
      "INFO:tensorflow:Done calling model_fn.\n",
      "INFO:tensorflow:Create CheckpointSaverHook.\n",
      "INFO:tensorflow:Graph was finalized.\n",
      "INFO:tensorflow:Restoring parameters from linear_model_new_features\\model.ckpt-0\n",
      "INFO:tensorflow:Running local_init_op.\n",
      "INFO:tensorflow:Done running local_init_op.\n",
      "INFO:tensorflow:Saving checkpoints for 0 into linear_model_new_features\\model.ckpt.\n",
      "INFO:tensorflow:loss = 0.6931472, step = 0\n",
      "INFO:tensorflow:global_step/sec: 176.225\n",
      "INFO:tensorflow:loss = 0.37622547, step = 100 (0.567 sec)\n",
      "INFO:tensorflow:global_step/sec: 264.558\n",
      "INFO:tensorflow:loss = 0.35793746, step = 200 (0.378 sec)\n",
      "INFO:tensorflow:global_step/sec: 255.783\n",
      "INFO:tensorflow:loss = 0.49403378, step = 300 (0.392 sec)\n",
      "INFO:tensorflow:global_step/sec: 257.096\n",
      "INFO:tensorflow:loss = 0.37028557, step = 400 (0.389 sec)\n",
      "INFO:tensorflow:global_step/sec: 263.861\n",
      "INFO:tensorflow:loss = 0.3973972, step = 500 (0.379 sec)\n",
      "INFO:tensorflow:global_step/sec: 263.169\n",
      "INFO:tensorflow:loss = 0.40760246, step = 600 (0.380 sec)\n",
      "INFO:tensorflow:global_step/sec: 261.795\n",
      "INFO:tensorflow:loss = 0.31889087, step = 700 (0.381 sec)\n",
      "INFO:tensorflow:global_step/sec: 261.795\n",
      "INFO:tensorflow:loss = 0.54810345, step = 800 (0.383 sec)\n",
      "INFO:tensorflow:global_step/sec: 255.133\n",
      "INFO:tensorflow:loss = 0.36215112, step = 900 (0.391 sec)\n",
      "INFO:tensorflow:global_step/sec: 256.438\n",
      "INFO:tensorflow:loss = 0.39358336, step = 1000 (0.390 sec)\n",
      "INFO:tensorflow:global_step/sec: 260.435\n",
      "INFO:tensorflow:loss = 0.36332595, step = 1100 (0.384 sec)\n",
      "INFO:tensorflow:global_step/sec: 263.861\n",
      "INFO:tensorflow:loss = 0.64143765, step = 1200 (0.380 sec)\n",
      "INFO:tensorflow:global_step/sec: 250.043\n",
      "INFO:tensorflow:loss = 0.23862696, step = 1300 (0.399 sec)\n",
      "INFO:tensorflow:global_step/sec: 256.439\n",
      "INFO:tensorflow:loss = 0.33995545, step = 1400 (0.390 sec)\n",
      "INFO:tensorflow:global_step/sec: 262.48\n",
      "INFO:tensorflow:loss = 0.31181166, step = 1500 (0.382 sec)\n",
      "INFO:tensorflow:global_step/sec: 265.961\n",
      "INFO:tensorflow:loss = 0.4733439, step = 1600 (0.376 sec)\n",
      "INFO:tensorflow:global_step/sec: 250.043\n",
      "INFO:tensorflow:loss = 0.32899523, step = 1700 (0.399 sec)\n",
      "INFO:tensorflow:global_step/sec: 263.861\n",
      "INFO:tensorflow:loss = 0.39536387, step = 1800 (0.380 sec)\n",
      "INFO:tensorflow:global_step/sec: 265.961\n",
      "INFO:tensorflow:loss = 0.35276642, step = 1900 (0.376 sec)\n",
      "INFO:tensorflow:Saving checkpoints for 1960 into linear_model_new_features\\model.ckpt.\n",
      "INFO:tensorflow:Loss for final step: 0.45071664.\n"
     ]
    },
    {
     "data": {
      "text/plain": [
       "<tensorflow_estimator.python.estimator.canned.linear.LinearClassifierV2 at 0x2da85f98e88>"
      ]
     },
     "execution_count": 11,
     "metadata": {},
     "output_type": "execute_result"
    }
   ],
   "source": [
    "\n",
    "linear_output_dir = 'linear_model_new_features'\n",
    "if not os.path.exists(output_dir):\n",
    "    os.mkdir(output_dir)\n",
    "\n",
    "linear_estimator = tf.estimator.LinearClassifier(\n",
    "    model_dir = linear_output_dir,\n",
    "    n_classes = 2,\n",
    "    feature_columns = feature_columns)\n",
    "\n",
    "linear_estimator.train(input_fn = lambda : make_dataset(\n",
    "    train_df, y_train, epochs = 100))"
   ]
  },
  {
   "cell_type": "code",
   "execution_count": 12,
   "metadata": {},
   "outputs": [
    {
     "name": "stdout",
     "output_type": "stream",
     "text": [
      "INFO:tensorflow:Calling model_fn.\n",
      "WARNING:tensorflow:Layer linear/linear_model is casting an input tensor from dtype float64 to the layer's dtype of float32, which is new behavior in TensorFlow 2.  The layer has dtype float32 because it's dtype defaults to floatx.\n",
      "\n",
      "If you intended to run this layer in float32, you can safely ignore this warning. If in doubt, this warning is likely only an issue if you are porting a TensorFlow 1.X model to TensorFlow 2.\n",
      "\n",
      "To change all layers to have dtype float64 by default, call `tf.keras.backend.set_floatx('float64')`. To change just this layer, pass dtype='float64' to the layer constructor. If you are the author of this layer, you can disable autocasting by passing autocast=False to the base Layer constructor.\n",
      "\n",
      "INFO:tensorflow:Done calling model_fn.\n",
      "INFO:tensorflow:Starting evaluation at 2020-07-15T17:19:44Z\n",
      "INFO:tensorflow:Graph was finalized.\n",
      "INFO:tensorflow:Restoring parameters from linear_model_new_features\\model.ckpt-1960\n",
      "INFO:tensorflow:Running local_init_op.\n",
      "INFO:tensorflow:Done running local_init_op.\n",
      "INFO:tensorflow:Finished evaluation at 2020-07-15-17:19:45\n",
      "INFO:tensorflow:Saving dict for global step 1960: accuracy = 0.7689394, accuracy_baseline = 0.625, auc = 0.8543618, auc_precision_recall = 0.7841573, average_loss = 0.51166016, global_step = 1960, label/mean = 0.375, loss = 0.50502515, precision = 0.65833336, prediction/mean = 0.4849835, recall = 0.7979798\n",
      "INFO:tensorflow:Saving 'checkpoint_path' summary for global step 1960: linear_model_new_features\\model.ckpt-1960\n"
     ]
    },
    {
     "data": {
      "text/plain": [
       "{'accuracy': 0.7689394,\n",
       " 'accuracy_baseline': 0.625,\n",
       " 'auc': 0.8543618,\n",
       " 'auc_precision_recall': 0.7841573,\n",
       " 'average_loss': 0.51166016,\n",
       " 'label/mean': 0.375,\n",
       " 'loss': 0.50502515,\n",
       " 'precision': 0.65833336,\n",
       " 'prediction/mean': 0.4849835,\n",
       " 'recall': 0.7979798,\n",
       " 'global_step': 1960}"
      ]
     },
     "execution_count": 12,
     "metadata": {},
     "output_type": "execute_result"
    }
   ],
   "source": [
    "linear_estimator.evaluate(input_fn= lambda :make_dataset(eval_df,y_eval,epochs=1,shuffle=False,batch_size=20))"
   ]
  },
  {
   "cell_type": "code",
   "execution_count": 13,
   "metadata": {},
   "outputs": [
    {
     "name": "stdout",
     "output_type": "stream",
     "text": [
      "INFO:tensorflow:Using default config.\n",
      "INFO:tensorflow:Using config: {'_model_dir': 'dnn_model_new_features', '_tf_random_seed': None, '_save_summary_steps': 100, '_save_checkpoints_steps': None, '_save_checkpoints_secs': 600, '_session_config': allow_soft_placement: true\n",
      "graph_options {\n",
      "  rewrite_options {\n",
      "    meta_optimizer_iterations: ONE\n",
      "  }\n",
      "}\n",
      ", '_keep_checkpoint_max': 5, '_keep_checkpoint_every_n_hours': 10000, '_log_step_count_steps': 100, '_train_distribute': None, '_device_fn': None, '_protocol': None, '_eval_distribute': None, '_experimental_distribute': None, '_experimental_max_worker_delay_secs': None, '_session_creation_timeout_secs': 7200, '_service': None, '_cluster_spec': <tensorflow.python.training.server_lib.ClusterSpec object at 0x000002DA9228E7C8>, '_task_type': 'worker', '_task_id': 0, '_global_id_in_cluster': 0, '_master': '', '_evaluation_master': '', '_is_chief': True, '_num_ps_replicas': 0, '_num_worker_replicas': 1}\n",
      "INFO:tensorflow:Calling model_fn.\n",
      "WARNING:tensorflow:Layer dnn is casting an input tensor from dtype float64 to the layer's dtype of float32, which is new behavior in TensorFlow 2.  The layer has dtype float32 because it's dtype defaults to floatx.\n",
      "\n",
      "If you intended to run this layer in float32, you can safely ignore this warning. If in doubt, this warning is likely only an issue if you are porting a TensorFlow 1.X model to TensorFlow 2.\n",
      "\n",
      "To change all layers to have dtype float64 by default, call `tf.keras.backend.set_floatx('float64')`. To change just this layer, pass dtype='float64' to the layer constructor. If you are the author of this layer, you can disable autocasting by passing autocast=False to the base Layer constructor.\n",
      "\n",
      "INFO:tensorflow:Done calling model_fn.\n",
      "INFO:tensorflow:Create CheckpointSaverHook.\n",
      "INFO:tensorflow:Graph was finalized.\n",
      "INFO:tensorflow:Running local_init_op.\n",
      "INFO:tensorflow:Done running local_init_op.\n",
      "INFO:tensorflow:Saving checkpoints for 0 into dnn_model_new_features\\model.ckpt.\n",
      "INFO:tensorflow:loss = 0.98655885, step = 0\n",
      "INFO:tensorflow:global_step/sec: 179.369\n",
      "INFO:tensorflow:loss = 0.43657124, step = 100 (0.558 sec)\n",
      "INFO:tensorflow:global_step/sec: 219.884\n",
      "INFO:tensorflow:loss = 0.43628746, step = 200 (0.455 sec)\n",
      "INFO:tensorflow:global_step/sec: 255.134\n",
      "INFO:tensorflow:loss = 0.35172614, step = 300 (0.392 sec)\n",
      "INFO:tensorflow:global_step/sec: 246.964\n",
      "INFO:tensorflow:loss = 0.34586033, step = 400 (0.404 sec)\n",
      "INFO:tensorflow:global_step/sec: 254.486\n",
      "INFO:tensorflow:loss = 0.2532341, step = 500 (0.393 sec)\n",
      "INFO:tensorflow:global_step/sec: 254.485\n",
      "INFO:tensorflow:loss = 0.45220014, step = 600 (0.394 sec)\n",
      "INFO:tensorflow:global_step/sec: 259.76\n",
      "INFO:tensorflow:loss = 0.40892544, step = 700 (0.384 sec)\n",
      "INFO:tensorflow:global_step/sec: 248.186\n",
      "INFO:tensorflow:loss = 0.34083182, step = 800 (0.403 sec)\n",
      "INFO:tensorflow:global_step/sec: 253.201\n",
      "INFO:tensorflow:loss = 0.37221563, step = 900 (0.395 sec)\n",
      "INFO:tensorflow:global_step/sec: 260.434\n",
      "INFO:tensorflow:loss = 0.28696316, step = 1000 (0.385 sec)\n",
      "INFO:tensorflow:global_step/sec: 259.088\n",
      "INFO:tensorflow:loss = 0.4505186, step = 1100 (0.386 sec)\n",
      "INFO:tensorflow:global_step/sec: 263.862\n",
      "INFO:tensorflow:loss = 0.24985762, step = 1200 (0.379 sec)\n",
      "INFO:tensorflow:global_step/sec: 263.168\n",
      "INFO:tensorflow:loss = 0.097591534, step = 1300 (0.379 sec)\n",
      "INFO:tensorflow:global_step/sec: 259.089\n",
      "INFO:tensorflow:loss = 0.07242695, step = 1400 (0.387 sec)\n",
      "INFO:tensorflow:global_step/sec: 230.5\n",
      "INFO:tensorflow:loss = 0.20137104, step = 1500 (0.434 sec)\n",
      "INFO:tensorflow:global_step/sec: 237.6\n",
      "INFO:tensorflow:loss = 0.2737453, step = 1600 (0.421 sec)\n",
      "INFO:tensorflow:global_step/sec: 239.301\n",
      "INFO:tensorflow:loss = 0.07917895, step = 1700 (0.418 sec)\n",
      "INFO:tensorflow:global_step/sec: 237.039\n",
      "INFO:tensorflow:loss = 0.2076126, step = 1800 (0.422 sec)\n",
      "INFO:tensorflow:global_step/sec: 229.445\n",
      "INFO:tensorflow:loss = 0.23282205, step = 1900 (0.436 sec)\n",
      "INFO:tensorflow:Saving checkpoints for 1960 into dnn_model_new_features\\model.ckpt.\n",
      "INFO:tensorflow:Loss for final step: 0.16105871.\n"
     ]
    },
    {
     "data": {
      "text/plain": [
       "<tensorflow_estimator.python.estimator.canned.dnn.DNNClassifierV2 at 0x2da9228e388>"
      ]
     },
     "execution_count": 13,
     "metadata": {},
     "output_type": "execute_result"
    }
   ],
   "source": [
    "\n",
    "dnn_output_dir = 'dnn_model_new_features'\n",
    "if not os.path.exists(output_dir):\n",
    "    os.mkdir(output_dir)\n",
    "\n",
    "dnn_estimator = tf.estimator.DNNClassifier(\n",
    "    model_dir = dnn_output_dir,\n",
    "    n_classes = 2,\n",
    "    feature_columns = feature_columns,\n",
    "    hidden_units=[128,128],\n",
    "    activation_fn=\"relu\",\n",
    "    optimizer=\"Adam\"\n",
    ")\n",
    "\n",
    "dnn_estimator.train(input_fn = lambda : make_dataset(\n",
    "    train_df, y_train, epochs = 100))"
   ]
  },
  {
   "cell_type": "code",
   "execution_count": 14,
   "metadata": {},
   "outputs": [
    {
     "name": "stdout",
     "output_type": "stream",
     "text": [
      "INFO:tensorflow:Calling model_fn.\n",
      "WARNING:tensorflow:Layer dnn is casting an input tensor from dtype float64 to the layer's dtype of float32, which is new behavior in TensorFlow 2.  The layer has dtype float32 because it's dtype defaults to floatx.\n",
      "\n",
      "If you intended to run this layer in float32, you can safely ignore this warning. If in doubt, this warning is likely only an issue if you are porting a TensorFlow 1.X model to TensorFlow 2.\n",
      "\n",
      "To change all layers to have dtype float64 by default, call `tf.keras.backend.set_floatx('float64')`. To change just this layer, pass dtype='float64' to the layer constructor. If you are the author of this layer, you can disable autocasting by passing autocast=False to the base Layer constructor.\n",
      "\n",
      "INFO:tensorflow:Done calling model_fn.\n",
      "INFO:tensorflow:Starting evaluation at 2020-07-15T17:20:12Z\n",
      "INFO:tensorflow:Graph was finalized.\n",
      "INFO:tensorflow:Restoring parameters from dnn_model_new_features\\model.ckpt-1960\n",
      "INFO:tensorflow:Running local_init_op.\n",
      "INFO:tensorflow:Done running local_init_op.\n",
      "INFO:tensorflow:Finished evaluation at 2020-07-15-17:20:13\n",
      "INFO:tensorflow:Saving dict for global step 1960: accuracy = 0.7651515, accuracy_baseline = 0.625, auc = 0.8408021, auc_precision_recall = 0.7671383, average_loss = 0.76953065, global_step = 1960, label/mean = 0.375, loss = 0.7535052, precision = 0.6554622, prediction/mean = 0.45999652, recall = 0.7878788\n",
      "INFO:tensorflow:Saving 'checkpoint_path' summary for global step 1960: dnn_model_new_features\\model.ckpt-1960\n"
     ]
    },
    {
     "data": {
      "text/plain": [
       "{'accuracy': 0.7651515,\n",
       " 'accuracy_baseline': 0.625,\n",
       " 'auc': 0.8408021,\n",
       " 'auc_precision_recall': 0.7671383,\n",
       " 'average_loss': 0.76953065,\n",
       " 'label/mean': 0.375,\n",
       " 'loss': 0.7535052,\n",
       " 'precision': 0.6554622,\n",
       " 'prediction/mean': 0.45999652,\n",
       " 'recall': 0.7878788,\n",
       " 'global_step': 1960}"
      ]
     },
     "execution_count": 14,
     "metadata": {},
     "output_type": "execute_result"
    }
   ],
   "source": [
    "dnn_estimator.evaluate(input_fn= lambda :make_dataset(eval_df,y_eval,epochs=1,shuffle=False,batch_size=20))"
   ]
  },
  {
   "cell_type": "code",
   "execution_count": null,
   "metadata": {},
   "outputs": [],
   "source": []
  }
 ],
 "metadata": {
  "kernelspec": {
   "display_name": "Python [conda env:tf2]",
   "language": "python",
   "name": "conda-env-tf2-py"
  },
  "language_info": {
   "codemirror_mode": {
    "name": "ipython",
    "version": 3
   },
   "file_extension": ".py",
   "mimetype": "text/x-python",
   "name": "python",
   "nbconvert_exporter": "python",
   "pygments_lexer": "ipython3",
   "version": "3.7.7"
  }
 },
 "nbformat": 4,
 "nbformat_minor": 2
}

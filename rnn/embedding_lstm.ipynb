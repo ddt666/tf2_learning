{
 "cells": [
  {
   "cell_type": "code",
   "execution_count": null,
   "metadata": {},
   "outputs": [],
   "source": [
    "import matplotlib as mpl\n",
    "import matplotlib.pyplot as plt\n",
    "%matplotlib inline\n",
    "import numpy as np\n",
    "import sklearn\n",
    "import pandas as pd\n",
    "import os\n",
    "import sys\n",
    "import time\n",
    "import tensorflow as tf\n",
    "\n",
    "from tensorflow import keras\n",
    "\n",
    "print(tf.__version__)\n",
    "print(sys.version_info)\n",
    "for module in mpl, np, pd, sklearn, tf, keras:\n",
    "    print(module.__name__, module.__version__)"
   ]
  },
  {
   "cell_type": "code",
   "execution_count": null,
   "metadata": {},
   "outputs": [],
   "source": [
    "imdb = keras.datasets.imdb\n",
    "\n",
    " # num_words=10000的意思是训练集中我们指保留词频最高的前10000个单词。\n",
    " # 10000名之后的词汇都会被直接忽略，不出现在train_data和test_data中。\n",
    "vocab_size = 10000\n",
    "index_from = 3 \n",
    "\n",
    "# 词的索引+3，因为数据集中词的索引从1开始，向右挪3个位置，\n",
    "# 前面从0算起留出4个槽位，可以放0:【PAD】,1:【STAR】,2:【UNK】,3:【END】\n",
    "(train_data, train_labels), (test_data, test_labels) = imdb.load_data(\n",
    "    num_words = vocab_size, index_from = index_from)"
   ]
  },
  {
   "cell_type": "code",
   "execution_count": null,
   "metadata": {},
   "outputs": [],
   "source": [
    "# 加载词典 \n",
    "word_index = imdb.get_word_index()\n",
    "print(len(word_index))\n",
    "\n",
    "for k,v in word_index.items():\n",
    "    print(k,v)\n",
    "    break\n",
    "# print(word_index)\n",
    "# 词对应的索引从1开始：the:1,and:2..."
   ]
  },
  {
   "cell_type": "code",
   "execution_count": null,
   "metadata": {},
   "outputs": [],
   "source": [
    "for k,v in word_index.items():\n",
    "    if k==\"fawn\":\n",
    "        print(v)"
   ]
  },
  {
   "cell_type": "code",
   "execution_count": null,
   "metadata": {},
   "outputs": [],
   "source": [
    "# 把词的索引向右挪三个位置\n",
    "word_index = {k:(v+3) for k, v in word_index.items()}"
   ]
  },
  {
   "cell_type": "code",
   "execution_count": null,
   "metadata": {},
   "outputs": [],
   "source": [
    "# 前面空出的槽位，添加4个标记\n",
    "word_index['<PAD>'] = 0 # padding 填充位\n",
    "word_index['<START>'] = 1 # 起始位\n",
    "word_index['<UNK>'] = 2 # 空值\n",
    "word_index['<END>'] = 3 # 结束标志\n",
    "\n",
    "# 将词典中key、value置换\n",
    "reverse_word_index = dict(\n",
    "    [(value, key) for key, value in word_index.items()])\n"
   ]
  },
  {
   "cell_type": "code",
   "execution_count": null,
   "metadata": {},
   "outputs": [],
   "source": [
    "\n",
    "def decode_review(text_ids):\n",
    "    \"\"\"解析训练数据的内容\"\"\"\n",
    "    return ' '.join(\n",
    "        [reverse_word_index.get(word_id, \"<UNK>\") for word_id in text_ids])"
   ]
  },
  {
   "cell_type": "code",
   "execution_count": null,
   "metadata": {},
   "outputs": [],
   "source": [
    "decode_review(train_data[0])"
   ]
  },
  {
   "cell_type": "code",
   "execution_count": null,
   "metadata": {},
   "outputs": [],
   "source": [
    "print(reverse_word_index[14],reverse_word_index[22])"
   ]
  },
  {
   "cell_type": "code",
   "execution_count": null,
   "metadata": {},
   "outputs": [],
   "source": [
    "for k,v in word_index.items():\n",
    "    if v==0:\n",
    "        print(k)"
   ]
  },
  {
   "cell_type": "code",
   "execution_count": null,
   "metadata": {},
   "outputs": [],
   "source": [
    "max_length = 500 # 句子高于500被截断，低于500被补全\n",
    "\n",
    "# 进行数据补全\n",
    "train_data = keras.preprocessing.sequence.pad_sequences(\n",
    "    train_data, # list of list\n",
    "    value = word_index['<PAD>'],# 用PAD的索引值0填充\n",
    "    padding = 'post', # 不够max_length，post:往句子后填充, pre:向句子前方进行填充 \n",
    "    maxlen = max_length)\n",
    "\n",
    "test_data = keras.preprocessing.sequence.pad_sequences(\n",
    "    test_data, # list of list\n",
    "    value = word_index['<PAD>'],\n",
    "    padding = 'post', # post, pre\n",
    "    maxlen = max_length)\n",
    "\n",
    "print(train_data[0])"
   ]
  },
  {
   "cell_type": "code",
   "execution_count": null,
   "metadata": {},
   "outputs": [],
   "source": [
    "# 定义模型\n",
    "# 单向单层rnn\n",
    "embedding_dim = 16 # 每个词embedding（转换）成长度为16的向量\n",
    "batch_size = 128\n",
    "\n",
    "single_rnn_model = keras.models.Sequential([\n",
    "    # 1. define matrix: [vocab_size, embedding_dim]\n",
    "    # 2. [1,2,3,4..], max_length * embedding_dim\n",
    "    # 3. batch_size * max_length * embedding_dim\n",
    "    # Embedding详解:https://www.jianshu.com/p/b2c33d7e56a5\n",
    "    keras.layers.Embedding(vocab_size, embedding_dim,\n",
    "                           input_length = max_length),\n",
    "    #  return_sequences : 如果设置return_sequences=True，意思是返回每个展开的RNN cell的输出\n",
    "    # return_sequences=False仅返回最后一个输出。 \n",
    "    keras.layers.LSTM(units=64,return_sequences=False),\n",
    "    keras.layers.Dense(64,activation=\"relu\"),\n",
    "    keras.layers.Dense(1,activation=\"sigmoid\"),\n",
    "])\n",
    "\n",
    "single_rnn_model.summary()\n",
    "# binary_crossentropy:二分类交叉熵\n",
    "single_rnn_model.compile(optimizer = 'adam', loss = 'binary_crossentropy',\n",
    "              metrics = ['accuracy'])"
   ]
  },
  {
   "cell_type": "code",
   "execution_count": null,
   "metadata": {
    "scrolled": true
   },
   "outputs": [],
   "source": [
    "single_rnn_history = single_rnn_model.fit(train_data, train_labels,\n",
    "                    epochs = 30,\n",
    "                    batch_size = batch_size,\n",
    "                    validation_split = 0.2)"
   ]
  },
  {
   "cell_type": "code",
   "execution_count": null,
   "metadata": {},
   "outputs": [],
   "source": [
    "def plot_learning_curves(history, label, epochs, min_value, max_value):\n",
    "    data = {}\n",
    "    data[label] = history.history[label]\n",
    "    data['val_'+label] = history.history['val_'+label]\n",
    "    pd.DataFrame(data).plot(figsize=(8, 5))\n",
    "    plt.grid(True)\n",
    "    plt.axis([0, epochs, min_value, max_value])\n",
    "    plt.show()\n",
    "    \n",
    "plot_learning_curves(single_rnn_history, 'accuracy', 30, 0, 1)\n",
    "plot_learning_curves(single_rnn_history, 'loss', 30, 0, 1)"
   ]
  },
  {
   "cell_type": "markdown",
   "metadata": {},
   "source": [
    "- 二分类问题，准确率太低，没什么意义\n",
    "- 单层单向的rnn效果不理想"
   ]
  },
  {
   "cell_type": "code",
   "execution_count": null,
   "metadata": {},
   "outputs": [],
   "source": [
    "single_rnn_model.evaluate(\n",
    "    test_data, test_labels,\n",
    "    batch_size = batch_size,)"
   ]
  },
  {
   "cell_type": "markdown",
   "metadata": {},
   "source": [
    "# 多层双向rnn"
   ]
  },
  {
   "cell_type": "code",
   "execution_count": null,
   "metadata": {},
   "outputs": [],
   "source": [
    "# 定义模型\n",
    "# 多层双向rnnn\n",
    "embedding_dim = 16 # 每个词embedding（转换）成长度为16的向量\n",
    "batch_size = 128\n",
    "\n",
    "model = keras.models.Sequential([\n",
    "    # 1. define matrix: [vocab_size, embedding_dim]\n",
    "    # 2. [1,2,3,4..], max_length * embedding_dim\n",
    "    # 3. batch_size * max_length * embedding_dim\n",
    "    # Embedding详解:https://www.jianshu.com/p/b2c33d7e56a5\n",
    "    keras.layers.Embedding(vocab_size, embedding_dim,\n",
    "                           input_length = max_length),\n",
    "    \n",
    "    #  return_sequences : 如果设置return_sequences=True，意思是返回每个展开的RNN cell的输出\n",
    "    # return_sequences=False仅返回最后一个输出。 \n",
    "    \n",
    "    keras.layers.Bidirectional(keras.layers.LSTM(units=64,return_sequences=True)),\n",
    "    \n",
    "    keras.layers.Bidirectional(keras.layers.LSTM(units=64,return_sequences=False)),\n",
    "    \n",
    "    keras.layers.Dense(64,activation=\"relu\"),\n",
    "    keras.layers.Dense(1,activation=\"sigmoid\"),\n",
    "])\n",
    "\n",
    "model.summary()\n",
    "# binary_crossentropy:二分类交叉熵\n",
    "model.compile(optimizer = 'adam', loss = 'binary_crossentropy',\n",
    "              metrics = ['accuracy'])"
   ]
  },
  {
   "cell_type": "code",
   "execution_count": null,
   "metadata": {},
   "outputs": [],
   "source": [
    "history = model.fit(train_data, train_labels,\n",
    "                    epochs = 30,\n",
    "                    batch_size = batch_size,\n",
    "                    validation_split = 0.2)"
   ]
  },
  {
   "cell_type": "code",
   "execution_count": null,
   "metadata": {},
   "outputs": [],
   "source": [
    "def plot_learning_curves(history, label, epochs, min_value, max_value):\n",
    "    data = {}\n",
    "    data[label] = history.history[label]\n",
    "    data['val_'+label] = history.history['val_'+label]\n",
    "    pd.DataFrame(data).plot(figsize=(8, 5))\n",
    "    plt.grid(True)\n",
    "    plt.axis([0, epochs, min_value, max_value])\n",
    "    plt.show()\n",
    "plot_learning_curves(history, 'accuracy', 30, 0, 1)\n",
    "plot_learning_curves(history, 'loss', 30, 0, 1)"
   ]
  },
  {
   "cell_type": "markdown",
   "metadata": {},
   "source": [
    "### 双层双向RNN\n",
    "- 在过拟合现象严重，可能是模型过于复杂"
   ]
  },
  {
   "cell_type": "markdown",
   "metadata": {},
   "source": [
    "# 单层双向rnn"
   ]
  },
  {
   "cell_type": "code",
   "execution_count": null,
   "metadata": {},
   "outputs": [],
   "source": [
    "# 定义模型\n",
    "# 单层双向rnnn\n",
    "embedding_dim = 16 # 每个词embedding（转换）成长度为16的向量\n",
    "batch_size = 128\n",
    "\n",
    "bi_rnn_model = keras.models.Sequential([\n",
    "    # 1. define matrix: [vocab_size, embedding_dim]\n",
    "    # 2. [1,2,3,4..], max_length * embedding_dim\n",
    "    # 3. batch_size * max_length * embedding_dim\n",
    "    # Embedding详解:https://www.jianshu.com/p/b2c33d7e56a5\n",
    "    keras.layers.Embedding(vocab_size, embedding_dim,\n",
    "                           input_length = max_length),\n",
    "    \n",
    "    #  return_sequences : 如果设置return_sequences=True，意思是返回每个展开的RNN cell的输出\n",
    "    # return_sequences=False仅返回最后一个输出。 \n",
    "    \n",
    "    # 双向RNN层\n",
    "    keras.layers.Bidirectional(keras.layers.LSTM(units=32,return_sequences=False)),\n",
    "    \n",
    "   \n",
    "    # 全连接层\n",
    "    keras.layers.Dense(32,activation=\"relu\"),\n",
    "    # 输出层\n",
    "    keras.layers.Dense(1,activation=\"sigmoid\"),\n",
    "])\n",
    "\n",
    "bi_rnn_model.summary()\n",
    "# binary_crossentropy:二分类交叉熵\n",
    "bi_rnn_model.compile(optimizer = 'adam', loss = 'binary_crossentropy',\n",
    "              metrics = ['accuracy'])"
   ]
  },
  {
   "cell_type": "code",
   "execution_count": null,
   "metadata": {},
   "outputs": [],
   "source": [
    "bi_rnn_history = bi_rnn_model.fit(train_data, train_labels,\n",
    "                    epochs = 30,\n",
    "                    batch_size = batch_size,\n",
    "                    validation_split = 0.2)"
   ]
  },
  {
   "cell_type": "code",
   "execution_count": null,
   "metadata": {},
   "outputs": [],
   "source": [
    "plot_learning_curves(bi_rnn_history, 'accuracy', 30, 0, 1)\n",
    "plot_learning_curves(bi_rnn_history, 'loss', 30, 0, 1)"
   ]
  },
  {
   "cell_type": "markdown",
   "metadata": {},
   "source": [
    "- 在此模型中在第5次以后val_loss急剧上升,说明循环神经网络过拟合非常明显，由于rnn过于强大，所以才会造成此现象\n",
    "- 通过降低模型尺寸，两层-->单层，\n",
    "- 正则化向、dropout\n",
    "- 使用更强大的RNN-->LSTM"
   ]
  },
  {
   "cell_type": "code",
   "execution_count": null,
   "metadata": {},
   "outputs": [],
   "source": []
  }
 ],
 "metadata": {
  "kernelspec": {
   "display_name": "Python [conda env:tf2]",
   "language": "python",
   "name": "conda-env-tf2-py"
  },
  "language_info": {
   "codemirror_mode": {
    "name": "ipython",
    "version": 3
   },
   "file_extension": ".py",
   "mimetype": "text/x-python",
   "name": "python",
   "nbconvert_exporter": "python",
   "pygments_lexer": "ipython3",
   "version": "3.7.7"
  }
 },
 "nbformat": 4,
 "nbformat_minor": 2
}

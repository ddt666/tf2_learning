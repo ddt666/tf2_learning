{
 "cells": [
  {
   "cell_type": "markdown",
   "metadata": {},
   "source": [
    "# 文本生成案例——LSTM"
   ]
  },
  {
   "cell_type": "code",
   "execution_count": 1,
   "metadata": {},
   "outputs": [
    {
     "name": "stdout",
     "output_type": "stream",
     "text": [
      "2.0.0\n",
      "sys.version_info(major=3, minor=7, micro=7, releaselevel='final', serial=0)\n",
      "matplotlib 3.2.2\n",
      "numpy 1.18.5\n",
      "pandas 1.0.5\n",
      "sklearn 0.21.2\n",
      "tensorflow 2.0.0\n",
      "tensorflow_core.keras 2.2.4-tf\n"
     ]
    }
   ],
   "source": [
    "import matplotlib as mpl\n",
    "import matplotlib.pyplot as plt\n",
    "%matplotlib inline\n",
    "import numpy as np\n",
    "import sklearn\n",
    "import pandas as pd\n",
    "import os\n",
    "import sys\n",
    "import time\n",
    "import tensorflow as tf\n",
    "\n",
    "from tensorflow import keras\n",
    "\n",
    "print(tf.__version__)\n",
    "print(sys.version_info)\n",
    "for module in mpl, np, pd, sklearn, tf, keras:\n",
    "    print(module.__name__, module.__version__)"
   ]
  },
  {
   "cell_type": "code",
   "execution_count": 2,
   "metadata": {},
   "outputs": [
    {
     "name": "stdout",
     "output_type": "stream",
     "text": [
      "1115393\n",
      "First Citizen:\n",
      "Before we proceed any further, hear me speak.\n",
      "\n",
      "All:\n",
      "Speak, speak.\n",
      "\n",
      "First Citizen:\n",
      "You\n"
     ]
    }
   ],
   "source": [
    "# https://storage.googleapis.com/download.tensorflow.org/data/shakespeare.txt\n",
    "input_filepath = \"./data/shakespeare.txt\"\n",
    "text = open(input_filepath, 'r').read()\n",
    "\n",
    "print(len(text))\n",
    "print(text[0:100])"
   ]
  },
  {
   "cell_type": "code",
   "execution_count": 3,
   "metadata": {},
   "outputs": [
    {
     "name": "stdout",
     "output_type": "stream",
     "text": [
      "65\n",
      "['\\n', ' ', '!', '$', '&', \"'\", ',', '-', '.', '3', ':', ';', '?', 'A', 'B', 'C', 'D', 'E', 'F', 'G', 'H', 'I', 'J', 'K', 'L', 'M', 'N', 'O', 'P', 'Q', 'R', 'S', 'T', 'U', 'V', 'W', 'X', 'Y', 'Z', 'a', 'b', 'c', 'd', 'e', 'f', 'g', 'h', 'i', 'j', 'k', 'l', 'm', 'n', 'o', 'p', 'q', 'r', 's', 't', 'u', 'v', 'w', 'x', 'y', 'z']\n"
     ]
    }
   ],
   "source": [
    "# 1. generate vocab\n",
    "# 2. build mapping char->id\n",
    "# 3. data -> id_data\n",
    "# 4. abcd -> bcd<eos>\n",
    "\n",
    "# 生成词汇列表\n",
    "vocab = sorted(set(text))\n",
    "print(len(vocab))\n",
    "print(vocab)"
   ]
  },
  {
   "cell_type": "code",
   "execution_count": 4,
   "metadata": {},
   "outputs": [
    {
     "name": "stdout",
     "output_type": "stream",
     "text": [
      "{'\\n': 0, ' ': 1, '!': 2, '$': 3, '&': 4, \"'\": 5, ',': 6, '-': 7, '.': 8, '3': 9, ':': 10, ';': 11, '?': 12, 'A': 13, 'B': 14, 'C': 15, 'D': 16, 'E': 17, 'F': 18, 'G': 19, 'H': 20, 'I': 21, 'J': 22, 'K': 23, 'L': 24, 'M': 25, 'N': 26, 'O': 27, 'P': 28, 'Q': 29, 'R': 30, 'S': 31, 'T': 32, 'U': 33, 'V': 34, 'W': 35, 'X': 36, 'Y': 37, 'Z': 38, 'a': 39, 'b': 40, 'c': 41, 'd': 42, 'e': 43, 'f': 44, 'g': 45, 'h': 46, 'i': 47, 'j': 48, 'k': 49, 'l': 50, 'm': 51, 'n': 52, 'o': 53, 'p': 54, 'q': 55, 'r': 56, 's': 57, 't': 58, 'u': 59, 'v': 60, 'w': 61, 'x': 62, 'y': 63, 'z': 64}\n"
     ]
    }
   ],
   "source": [
    "# 生成{单词:id}的字典\n",
    "char2idx = {char:idx for idx, char in enumerate(vocab)}\n",
    "print(char2idx)"
   ]
  },
  {
   "cell_type": "code",
   "execution_count": 5,
   "metadata": {},
   "outputs": [
    {
     "name": "stdout",
     "output_type": "stream",
     "text": [
      "['\\n' ' ' '!' '$' '&' \"'\" ',' '-' '.' '3' ':' ';' '?' 'A' 'B' 'C' 'D' 'E'\n",
      " 'F' 'G' 'H' 'I' 'J' 'K' 'L' 'M' 'N' 'O' 'P' 'Q' 'R' 'S' 'T' 'U' 'V' 'W'\n",
      " 'X' 'Y' 'Z' 'a' 'b' 'c' 'd' 'e' 'f' 'g' 'h' 'i' 'j' 'k' 'l' 'm' 'n' 'o'\n",
      " 'p' 'q' 'r' 's' 't' 'u' 'v' 'w' 'x' 'y' 'z']\n"
     ]
    }
   ],
   "source": [
    "\n",
    "idx2char = np.array(vocab)\n",
    "print(idx2char)"
   ]
  },
  {
   "cell_type": "code",
   "execution_count": 6,
   "metadata": {},
   "outputs": [
    {
     "name": "stdout",
     "output_type": "stream",
     "text": [
      "[18 47 56 57 58  1 15 47 58 47]\n",
      "First Citi\n"
     ]
    }
   ],
   "source": [
    "# 生成莎士比亚文本中每个单词对应的id的ndarray\n",
    "text_as_int = np.array([char2idx[c] for c in text])\n",
    "print(text_as_int[0:10])\n",
    "print(text[0:10])\n",
    "\n",
    "# F对应id是18，i对应的id是47..."
   ]
  },
  {
   "cell_type": "code",
   "execution_count": 7,
   "metadata": {},
   "outputs": [],
   "source": [
    "def split_input_target(id_text):\n",
    "    \"\"\"\n",
    "    把输入的文本拆分成特征值和目标值\n",
    "    abcde -> abcd, bcde\n",
    "    a的目标值是b\n",
    "    b的目标值是c\n",
    "    ...\n",
    "    \"\"\"\n",
    "    return id_text[0:-1], id_text[1:]"
   ]
  },
  {
   "cell_type": "code",
   "execution_count": 8,
   "metadata": {},
   "outputs": [
    {
     "name": "stdout",
     "output_type": "stream",
     "text": [
      "tf.Tensor(18, shape=(), dtype=int32) F\n",
      "tf.Tensor(47, shape=(), dtype=int32) i\n"
     ]
    }
   ],
   "source": [
    "# 单词id的dataset\n",
    "char_dataset =tf.data.Dataset.from_tensor_slices(text_as_int)\n",
    "for ch_id in char_dataset.take(2):\n",
    "    print(ch_id, idx2char[ch_id.numpy()])"
   ]
  },
  {
   "cell_type": "code",
   "execution_count": 9,
   "metadata": {},
   "outputs": [
    {
     "data": {
      "text/plain": [
       "\"'First '\""
      ]
     },
     "execution_count": 9,
     "metadata": {},
     "output_type": "execute_result"
    }
   ],
   "source": [
    "repr(\"\".join(idx2char[[18,47,56,57,58,1]]))"
   ]
  },
  {
   "cell_type": "code",
   "execution_count": 10,
   "metadata": {},
   "outputs": [
    {
     "name": "stdout",
     "output_type": "stream",
     "text": [
      "tf.Tensor(\n",
      "[18 47 56 57 58  1 15 47 58 47 64 43 52 10  0 14 43 44 53 56 43  1 61 43\n",
      "  1 54 56 53 41 43 43 42  1 39 52 63  1 44 59 56 58 46 43 56  6  1 46 43\n",
      " 39 56  1 51 43  1 57 54 43 39 49  8  0  0 13 50 50 10  0 31 54 43 39 49\n",
      "  6  1 57 54 43 39 49  8  0  0 18 47 56 57 58  1 15 47 58 47 64 43 52 10\n",
      "  0 37 53 59  1], shape=(101,), dtype=int32)\n",
      "[18 47 56 57 58  1 15 47 58 47 64 43 52 10  0 14 43 44 53 56 43  1 61 43\n",
      "  1 54 56 53 41 43 43 42  1 39 52 63  1 44 59 56 58 46 43 56  6  1 46 43\n",
      " 39 56  1 51 43  1 57 54 43 39 49  8  0  0 13 50 50 10  0 31 54 43 39 49\n",
      "  6  1 57 54 43 39 49  8  0  0 18 47 56 57 58  1 15 47 58 47 64 43 52 10\n",
      "  0 37 53 59  1]\n",
      "'First Citizen:\\nBefore we proceed any further, hear me speak.\\n\\nAll:\\nSpeak, speak.\\n\\nFirst Citizen:\\nYou '\n",
      "tf.Tensor(\n",
      "[39 56 43  1 39 50 50  1 56 43 57 53 50 60 43 42  1 56 39 58 46 43 56  1\n",
      " 58 53  1 42 47 43  1 58 46 39 52  1 58 53  1 44 39 51 47 57 46 12  0  0\n",
      " 13 50 50 10  0 30 43 57 53 50 60 43 42  8  1 56 43 57 53 50 60 43 42  8\n",
      "  0  0 18 47 56 57 58  1 15 47 58 47 64 43 52 10  0 18 47 56 57 58  6  1\n",
      " 63 53 59  1 49], shape=(101,), dtype=int32)\n",
      "[39 56 43  1 39 50 50  1 56 43 57 53 50 60 43 42  1 56 39 58 46 43 56  1\n",
      " 58 53  1 42 47 43  1 58 46 39 52  1 58 53  1 44 39 51 47 57 46 12  0  0\n",
      " 13 50 50 10  0 30 43 57 53 50 60 43 42  8  1 56 43 57 53 50 60 43 42  8\n",
      "  0  0 18 47 56 57 58  1 15 47 58 47 64 43 52 10  0 18 47 56 57 58  6  1\n",
      " 63 53 59  1 49]\n",
      "'are all resolved rather to die than to famish?\\n\\nAll:\\nResolved. resolved.\\n\\nFirst Citizen:\\nFirst, you k'\n"
     ]
    }
   ],
   "source": [
    "\n",
    "seq_length = 100\n",
    "\n",
    "# 转变成句子的dataset，长度+1：因为split_input_target函数输出的特征值和目标值会减1，所以+1\n",
    "# drop_remainder= True：最后一个batch不够长了就丢弃\n",
    "seq_dataset = char_dataset.batch(seq_length + 1,\n",
    "                                 drop_remainder = True)\n",
    "\n",
    "for seq_id in seq_dataset.take(2):\n",
    "    print(seq_id)\n",
    "    print(seq_id.numpy())\n",
    "    print(repr(''.join(idx2char[seq_id.numpy()])))"
   ]
  },
  {
   "cell_type": "code",
   "execution_count": 11,
   "metadata": {
    "scrolled": false
   },
   "outputs": [
    {
     "name": "stdout",
     "output_type": "stream",
     "text": [
      "[18 47 56 57 58  1 15 47 58 47 64 43 52 10  0 14 43 44 53 56 43  1 61 43\n",
      "  1 54 56 53 41 43 43 42  1 39 52 63  1 44 59 56 58 46 43 56  6  1 46 43\n",
      " 39 56  1 51 43  1 57 54 43 39 49  8  0  0 13 50 50 10  0 31 54 43 39 49\n",
      "  6  1 57 54 43 39 49  8  0  0 18 47 56 57 58  1 15 47 58 47 64 43 52 10\n",
      "  0 37 53 59]\n",
      "[47 56 57 58  1 15 47 58 47 64 43 52 10  0 14 43 44 53 56 43  1 61 43  1\n",
      " 54 56 53 41 43 43 42  1 39 52 63  1 44 59 56 58 46 43 56  6  1 46 43 39\n",
      " 56  1 51 43  1 57 54 43 39 49  8  0  0 13 50 50 10  0 31 54 43 39 49  6\n",
      "  1 57 54 43 39 49  8  0  0 18 47 56 57 58  1 15 47 58 47 64 43 52 10  0\n",
      " 37 53 59  1]\n",
      "[39 56 43  1 39 50 50  1 56 43 57 53 50 60 43 42  1 56 39 58 46 43 56  1\n",
      " 58 53  1 42 47 43  1 58 46 39 52  1 58 53  1 44 39 51 47 57 46 12  0  0\n",
      " 13 50 50 10  0 30 43 57 53 50 60 43 42  8  1 56 43 57 53 50 60 43 42  8\n",
      "  0  0 18 47 56 57 58  1 15 47 58 47 64 43 52 10  0 18 47 56 57 58  6  1\n",
      " 63 53 59  1]\n",
      "[56 43  1 39 50 50  1 56 43 57 53 50 60 43 42  1 56 39 58 46 43 56  1 58\n",
      " 53  1 42 47 43  1 58 46 39 52  1 58 53  1 44 39 51 47 57 46 12  0  0 13\n",
      " 50 50 10  0 30 43 57 53 50 60 43 42  8  1 56 43 57 53 50 60 43 42  8  0\n",
      "  0 18 47 56 57 58  1 15 47 58 47 64 43 52 10  0 18 47 56 57 58  6  1 63\n",
      " 53 59  1 49]\n"
     ]
    }
   ],
   "source": [
    "# 通过split_input_target函数生成包含特征值和目标值的dataset\n",
    "seq_dataset = seq_dataset.map(split_input_target)\n",
    "for item_input, item_output in seq_dataset.take(2):\n",
    "    print(item_input.numpy())\n",
    "    print(item_output.numpy())"
   ]
  },
  {
   "cell_type": "code",
   "execution_count": 12,
   "metadata": {},
   "outputs": [],
   "source": [
    "batch_size = 64\n",
    "buffer_size = 10000\n",
    "\n",
    "# 打乱数据集\n",
    "seq_dataset = seq_dataset.shuffle(buffer_size).batch(\n",
    "    batch_size, drop_remainder=True)"
   ]
  },
  {
   "cell_type": "code",
   "execution_count": 13,
   "metadata": {},
   "outputs": [
    {
     "name": "stdout",
     "output_type": "stream",
     "text": [
      "Model: \"sequential\"\n",
      "_________________________________________________________________\n",
      "Layer (type)                 Output Shape              Param #   \n",
      "=================================================================\n",
      "embedding (Embedding)        (64, None, 256)           16640     \n",
      "_________________________________________________________________\n",
      "lstm (LSTM)                  (64, None, 1024)          5246976   \n",
      "_________________________________________________________________\n",
      "dense (Dense)                (64, None, 65)            66625     \n",
      "=================================================================\n",
      "Total params: 5,330,241\n",
      "Trainable params: 5,330,241\n",
      "Non-trainable params: 0\n",
      "_________________________________________________________________\n"
     ]
    }
   ],
   "source": [
    "# 定义模型\n",
    "vocab_size = len(vocab)\n",
    "embedding_dim = 256\n",
    "rnn_units = 1024\n",
    "\n",
    "def build_model(vocab_size, embedding_dim, rnn_units, batch_size):\n",
    "    model = keras.models.Sequential([\n",
    "        keras.layers.Embedding(vocab_size, embedding_dim,\n",
    "                               batch_input_shape = [batch_size, None]),\n",
    "        keras.layers.LSTM(units = rnn_units,\n",
    "                               stateful = True,\n",
    "                               recurrent_initializer = 'glorot_uniform',\n",
    "                               return_sequences = True),\n",
    "        keras.layers.Dense(vocab_size),\n",
    "    ])\n",
    "    return model\n",
    "\n",
    "model = build_model(\n",
    "    vocab_size = vocab_size,\n",
    "    embedding_dim = embedding_dim,\n",
    "    rnn_units = rnn_units,\n",
    "    batch_size = batch_size)\n",
    "\n",
    "model.summary()"
   ]
  },
  {
   "cell_type": "code",
   "execution_count": 14,
   "metadata": {},
   "outputs": [
    {
     "name": "stdout",
     "output_type": "stream",
     "text": [
      "(64, 100, 65)\n",
      "tf.Tensor(\n",
      "[[[-1.1876326e-03  9.7733317e-04 -7.3851668e-03 ...  3.2300442e-03\n",
      "   -3.3626442e-03 -2.2406557e-03]\n",
      "  [ 7.7993209e-03  1.5103130e-03 -6.3130804e-03 ...  8.2435869e-03\n",
      "    2.1060237e-03  5.1497063e-04]\n",
      "  [ 9.4396202e-03  8.8268472e-04 -1.1276608e-02 ...  3.1948793e-03\n",
      "    3.7252796e-03  1.4014239e-03]\n",
      "  ...\n",
      "  [-6.2655951e-03 -6.4251781e-03 -8.9515503e-03 ... -6.9505018e-03\n",
      "    1.2059066e-02  1.0622805e-02]\n",
      "  [-4.7497796e-03 -4.4976412e-03 -1.0173734e-02 ... -1.3298463e-03\n",
      "    7.8918189e-03  9.5540788e-03]\n",
      "  [-3.8118456e-03 -2.7011931e-03 -1.5954766e-02 ...  2.4028164e-03\n",
      "    2.1283012e-03  5.5212700e-03]]\n",
      "\n",
      " [[-8.8418939e-04  2.6744162e-03  5.3327610e-03 ... -8.5929455e-04\n",
      "    5.9714238e-04 -3.5738520e-04]\n",
      "  [-1.6508397e-03  5.1857885e-03  6.2998286e-03 ... -8.3844457e-03\n",
      "    4.5520952e-05  7.3345681e-04]\n",
      "  [-3.4527716e-03  2.6132623e-03  2.2972221e-03 ... -9.7772796e-03\n",
      "    4.3315212e-03  3.4748528e-03]\n",
      "  ...\n",
      "  [-1.1705618e-02 -1.7461402e-04 -6.9204774e-03 ... -5.4510962e-04\n",
      "    2.9800702e-03 -4.5998604e-03]\n",
      "  [-1.3650974e-02  1.7434623e-03 -9.3928687e-03 ...  2.1936528e-03\n",
      "    5.1208613e-03 -1.2290506e-03]\n",
      "  [-2.2263791e-02 -2.4669811e-03 -4.3413602e-03 ... -2.6639784e-05\n",
      "    6.4589176e-03 -1.9778814e-03]]\n",
      "\n",
      " [[ 4.4990694e-03  4.1282433e-04 -3.0605923e-03 ...  3.6860825e-03\n",
      "    2.9780003e-03  2.9533627e-03]\n",
      "  [ 2.7743503e-03  1.2625249e-03 -5.6114616e-03 ...  5.6535332e-03\n",
      "    4.5973866e-04  4.0010260e-03]\n",
      "  [ 2.0319386e-03  4.2180307e-03 -2.8494529e-03 ... -4.3255296e-03\n",
      "   -6.4426009e-04  4.2996057e-03]\n",
      "  ...\n",
      "  [-4.5735687e-03 -1.0370900e-02  2.2647399e-03 ... -9.6433144e-03\n",
      "    5.4301587e-03 -3.0360785e-03]\n",
      "  [-1.8488426e-03 -9.9468976e-03 -4.7045434e-03 ... -6.5266495e-03\n",
      "    1.8917894e-03 -5.4109702e-04]\n",
      "  [-1.1698306e-03 -6.9632037e-03 -1.1742193e-02 ... -4.4399407e-04\n",
      "   -2.5892789e-03 -3.0855718e-03]]\n",
      "\n",
      " ...\n",
      "\n",
      " [[-3.1949256e-03  2.3945433e-03 -2.0294599e-04 ... -4.8118015e-04\n",
      "    1.2821630e-03  1.7627771e-04]\n",
      "  [-9.8214624e-04  3.0556310e-03 -2.2922847e-03 ...  3.8906294e-03\n",
      "   -1.9394769e-03  3.2067206e-03]\n",
      "  [-4.8959376e-03  6.4036259e-03 -4.7968454e-03 ...  7.7331462e-03\n",
      "   -2.0168275e-03  5.7440773e-03]\n",
      "  ...\n",
      "  [-9.5016686e-03  2.5169994e-03 -9.9856984e-03 ... -1.8508832e-03\n",
      "    4.1498085e-03  2.5019941e-03]\n",
      "  [-1.9043377e-02 -1.5629055e-03 -4.6780207e-03 ... -3.2803738e-03\n",
      "    6.9695921e-03  1.1543566e-03]\n",
      "  [-1.5143501e-02  7.7431544e-04 -7.9981331e-03 ...  1.6851213e-03\n",
      "    4.2499476e-03  1.9675833e-03]]\n",
      "\n",
      " [[ 4.2052995e-03 -4.6740053e-04 -5.7105124e-03 ... -2.4148608e-03\n",
      "    2.6378809e-03  9.2265988e-04]\n",
      "  [ 2.0376791e-03 -2.2592801e-03 -5.7706898e-03 ... -1.0926535e-03\n",
      "    4.5703109e-03  4.1174246e-03]\n",
      "  [ 2.9265971e-03  1.2516311e-03 -4.7269613e-03 ... -7.6138424e-03\n",
      "    1.0173547e-03  1.9452191e-03]\n",
      "  ...\n",
      "  [ 5.9049660e-03  2.8138258e-04 -1.1594596e-02 ... -6.2600430e-04\n",
      "    8.6651165e-03  6.1090309e-03]\n",
      "  [ 6.3082306e-03  3.6640270e-03 -9.7653177e-03 ... -7.5319819e-03\n",
      "    3.2253121e-03  2.4191169e-03]\n",
      "  [ 6.5537794e-03  7.0636142e-03 -1.0761619e-02 ... -9.3957093e-03\n",
      "    2.0849926e-03 -7.1918755e-04]]\n",
      "\n",
      " [[ 4.9920147e-04 -2.7261127e-03  2.2380343e-03 ... -1.5587723e-03\n",
      "    3.2108086e-03 -5.7760603e-04]\n",
      "  [ 7.2398852e-03  3.0286368e-03  1.1639991e-03 ... -2.0019584e-03\n",
      "    1.0007832e-03 -4.2752950e-03]\n",
      "  [ 7.1147038e-04  3.8693121e-03 -1.6897735e-03 ...  2.7435089e-03\n",
      "    1.0650529e-03 -6.9393078e-03]\n",
      "  ...\n",
      "  [-1.6563542e-02 -7.9903733e-03  1.0904671e-03 ...  2.8186208e-03\n",
      "    4.5851665e-03  1.7734608e-03]\n",
      "  [-8.7356744e-03 -1.0363912e-02  1.6564209e-03 ... -3.7062177e-03\n",
      "    6.4787222e-03  8.3876047e-03]\n",
      "  [-5.1962095e-03 -1.0737969e-02 -5.0118421e-03 ... -2.1841875e-03\n",
      "    4.0742233e-03  7.2221765e-03]]], shape=(64, 100, 65), dtype=float32)\n"
     ]
    }
   ],
   "source": [
    "for input_example_batch, target_example_batch in seq_dataset.take(1):\n",
    "    example_batch_predictions = model(input_example_batch)\n",
    "    print(example_batch_predictions.shape)\n",
    "    print(example_batch_predictions)\n",
    "\n",
    "# 生成概率分布，对应65个字符的概率分布"
   ]
  },
  {
   "cell_type": "code",
   "execution_count": 15,
   "metadata": {},
   "outputs": [
    {
     "name": "stdout",
     "output_type": "stream",
     "text": [
      "tf.Tensor(\n",
      "[[23]\n",
      " [53]\n",
      " [ 7]\n",
      " [ 0]\n",
      " [47]\n",
      " [54]\n",
      " [38]\n",
      " [ 0]\n",
      " [39]\n",
      " [17]\n",
      " [54]\n",
      " [61]\n",
      " [13]\n",
      " [23]\n",
      " [27]\n",
      " [44]\n",
      " [30]\n",
      " [47]\n",
      " [ 7]\n",
      " [ 7]\n",
      " [47]\n",
      " [41]\n",
      " [24]\n",
      " [ 2]\n",
      " [28]\n",
      " [43]\n",
      " [12]\n",
      " [63]\n",
      " [14]\n",
      " [35]\n",
      " [31]\n",
      " [51]\n",
      " [18]\n",
      " [24]\n",
      " [26]\n",
      " [26]\n",
      " [21]\n",
      " [42]\n",
      " [55]\n",
      " [47]\n",
      " [23]\n",
      " [ 2]\n",
      " [41]\n",
      " [ 0]\n",
      " [ 3]\n",
      " [45]\n",
      " [29]\n",
      " [14]\n",
      " [58]\n",
      " [13]\n",
      " [ 3]\n",
      " [28]\n",
      " [34]\n",
      " [28]\n",
      " [ 8]\n",
      " [ 5]\n",
      " [30]\n",
      " [ 1]\n",
      " [55]\n",
      " [64]\n",
      " [48]\n",
      " [44]\n",
      " [ 9]\n",
      " [47]\n",
      " [ 7]\n",
      " [26]\n",
      " [34]\n",
      " [36]\n",
      " [47]\n",
      " [15]\n",
      " [ 7]\n",
      " [51]\n",
      " [43]\n",
      " [ 8]\n",
      " [ 4]\n",
      " [58]\n",
      " [43]\n",
      " [44]\n",
      " [10]\n",
      " [60]\n",
      " [16]\n",
      " [20]\n",
      " [42]\n",
      " [32]\n",
      " [23]\n",
      " [ 6]\n",
      " [42]\n",
      " [22]\n",
      " [61]\n",
      " [24]\n",
      " [32]\n",
      " [50]\n",
      " [47]\n",
      " [60]\n",
      " [53]\n",
      " [ 8]\n",
      " [58]\n",
      " [50]\n",
      " [ 2]\n",
      " [19]], shape=(100, 1), dtype=int64)\n",
      "tf.Tensor(\n",
      "[23 53  7  0 47 54 38  0 39 17 54 61 13 23 27 44 30 47  7  7 47 41 24  2\n",
      " 28 43 12 63 14 35 31 51 18 24 26 26 21 42 55 47 23  2 41  0  3 45 29 14\n",
      " 58 13  3 28 34 28  8  5 30  1 55 64 48 44  9 47  7 26 34 36 47 15  7 51\n",
      " 43  8  4 58 43 44 10 60 16 20 42 32 23  6 42 22 61 24 32 50 47 60 53  8\n",
      " 58 50  2 19], shape=(100,), dtype=int64)\n"
     ]
    }
   ],
   "source": [
    "# 随机采样 random sampling.\n",
    "# greedy, random.\n",
    "sample_indices = tf.random.categorical(\n",
    "    logits = example_batch_predictions[0], num_samples = 1)\n",
    "print(sample_indices)\n",
    "# (100, 65) -> (100, 1)\n",
    "\n",
    "# 把1的维度消除\n",
    "sample_indices = tf.squeeze(sample_indices, axis = -1)\n",
    "print(sample_indices)"
   ]
  },
  {
   "cell_type": "code",
   "execution_count": 16,
   "metadata": {},
   "outputs": [
    {
     "name": "stdout",
     "output_type": "stream",
     "text": [
      "Input:  \"iled keys off that hung in\\nchains: no hearing, no feeling, but my sir's song,\\nand admiring the nothi\"\n",
      "\n",
      "Output:  \"led keys off that hung in\\nchains: no hearing, no feeling, but my sir's song,\\nand admiring the nothin\"\n",
      "\n",
      "Predictions:  \"Ko-\\nipZ\\naEpwAKOfRi--icL!Pe?yBWSmFLNNIdqiK!c\\n$gQBtA$PVP.'R qzjf3i-NVXiC-me.&tef:vDHdTK,dJwLTlivo.tl!G\"\n"
     ]
    }
   ],
   "source": [
    "print(\"Input: \", repr(\"\".join(idx2char[input_example_batch[0]])))\n",
    "print()\n",
    "print(\"Output: \", repr(\"\".join(idx2char[target_example_batch[0]])))\n",
    "print()\n",
    "print(\"Predictions: \", repr(\"\".join(idx2char[sample_indices])))"
   ]
  },
  {
   "cell_type": "code",
   "execution_count": 17,
   "metadata": {},
   "outputs": [
    {
     "name": "stdout",
     "output_type": "stream",
     "text": [
      "(64, 100)\n",
      "4.174142\n"
     ]
    }
   ],
   "source": [
    "def loss(labels, logits):\n",
    "    \"\"\"\n",
    "    自定义损失函数\n",
    "    \"\"\"\n",
    "    return keras.losses.sparse_categorical_crossentropy(\n",
    "        labels, logits, from_logits=True)\n",
    "\n",
    "model.compile(optimizer = 'adam', loss = loss)\n",
    "example_loss = loss(target_example_batch, example_batch_predictions)\n",
    "print(example_loss.shape)\n",
    "print(example_loss.numpy().mean())"
   ]
  },
  {
   "cell_type": "code",
   "execution_count": 18,
   "metadata": {},
   "outputs": [
    {
     "name": "stdout",
     "output_type": "stream",
     "text": [
      "Epoch 1/100\n",
      "172/172 [==============================] - 36s 209ms/step - loss: 2.5672\n",
      "Epoch 2/100\n",
      "172/172 [==============================] - 34s 195ms/step - loss: 1.8660\n",
      "Epoch 3/100\n",
      "172/172 [==============================] - 34s 195ms/step - loss: 1.6242\n",
      "Epoch 4/100\n",
      "172/172 [==============================] - 33s 195ms/step - loss: 1.4957\n",
      "Epoch 5/100\n",
      "172/172 [==============================] - 34s 196ms/step - loss: 1.4195\n",
      "Epoch 6/100\n",
      "172/172 [==============================] - 34s 197ms/step - loss: 1.3643\n",
      "Epoch 7/100\n",
      "172/172 [==============================] - 34s 196ms/step - loss: 1.3209\n",
      "Epoch 8/100\n",
      "172/172 [==============================] - 34s 196ms/step - loss: 1.2833\n",
      "Epoch 9/100\n",
      "172/172 [==============================] - 34s 195ms/step - loss: 1.2471\n",
      "Epoch 10/100\n",
      "172/172 [==============================] - 34s 196ms/step - loss: 1.2130\n",
      "Epoch 11/100\n",
      "172/172 [==============================] - 34s 196ms/step - loss: 1.1781\n",
      "Epoch 12/100\n",
      "172/172 [==============================] - 34s 196ms/step - loss: 1.1425\n",
      "Epoch 13/100\n",
      "172/172 [==============================] - 34s 196ms/step - loss: 1.1066\n",
      "Epoch 14/100\n",
      "172/172 [==============================] - 34s 196ms/step - loss: 1.0679\n",
      "Epoch 15/100\n",
      "172/172 [==============================] - 34s 196ms/step - loss: 1.0288\n",
      "Epoch 16/100\n",
      "172/172 [==============================] - 34s 196ms/step - loss: 0.9886\n",
      "Epoch 17/100\n",
      "172/172 [==============================] - 34s 195ms/step - loss: 0.94822s - \n",
      "Epoch 18/100\n",
      "172/172 [==============================] - 33s 195ms/step - loss: 0.9081\n",
      "Epoch 19/100\n",
      "172/172 [==============================] - 34s 195ms/step - loss: 0.8659\n",
      "Epoch 20/100\n",
      "172/172 [==============================] - 34s 195ms/step - loss: 0.8309\n",
      "Epoch 21/100\n",
      "172/172 [==============================] - 33s 195ms/step - loss: 0.7957\n",
      "Epoch 22/100\n",
      "172/172 [==============================] - 34s 195ms/step - loss: 0.7609\n",
      "Epoch 23/100\n",
      "172/172 [==============================] - 34s 196ms/step - loss: 0.7299\n",
      "Epoch 24/100\n",
      "172/172 [==============================] - 33s 195ms/step - loss: 0.6993\n",
      "Epoch 25/100\n",
      "172/172 [==============================] - 33s 195ms/step - loss: 0.6741\n",
      "Epoch 26/100\n",
      "172/172 [==============================] - 34s 196ms/step - loss: 0.6486\n",
      "Epoch 27/100\n",
      "172/172 [==============================] - 34s 195ms/step - loss: 0.62732s -\n",
      "Epoch 28/100\n",
      "172/172 [==============================] - 34s 196ms/step - loss: 0.6052\n",
      "Epoch 29/100\n",
      "172/172 [==============================] - 34s 196ms/step - loss: 0.5901\n",
      "Epoch 30/100\n",
      "172/172 [==============================] - 33s 195ms/step - loss: 0.5707\n",
      "Epoch 31/100\n",
      "172/172 [==============================] - 34s 195ms/step - loss: 0.5562\n",
      "Epoch 32/100\n",
      "172/172 [==============================] - 34s 195ms/step - loss: 0.5434\n",
      "Epoch 33/100\n",
      "172/172 [==============================] - 34s 196ms/step - loss: 0.5332\n",
      "Epoch 34/100\n",
      "172/172 [==============================] - 34s 196ms/step - loss: 0.5208\n",
      "Epoch 35/100\n",
      "172/172 [==============================] - 34s 195ms/step - loss: 0.5123\n",
      "Epoch 36/100\n",
      "172/172 [==============================] - 34s 196ms/step - loss: 0.5003\n",
      "Epoch 37/100\n",
      "172/172 [==============================] - 34s 195ms/step - loss: 0.4940\n",
      "Epoch 38/100\n",
      "172/172 [==============================] - 34s 195ms/step - loss: 0.4846\n",
      "Epoch 39/100\n",
      "172/172 [==============================] - 34s 195ms/step - loss: 0.4789\n",
      "Epoch 40/100\n",
      "172/172 [==============================] - 33s 194ms/step - loss: 0.4728\n",
      "Epoch 41/100\n",
      "172/172 [==============================] - 34s 195ms/step - loss: 0.4675\n",
      "Epoch 42/100\n",
      "172/172 [==============================] - 34s 195ms/step - loss: 0.4632\n",
      "Epoch 43/100\n",
      "172/172 [==============================] - 34s 195ms/step - loss: 0.4580\n",
      "Epoch 44/100\n",
      "172/172 [==============================] - 34s 195ms/step - loss: 0.45292s - \n",
      "Epoch 45/100\n",
      "172/172 [==============================] - 34s 195ms/step - loss: 0.4481\n",
      "Epoch 46/100\n",
      "172/172 [==============================] - 34s 197ms/step - loss: 0.44540s - loss: 0.44\n",
      "Epoch 47/100\n",
      "172/172 [==============================] - 34s 196ms/step - loss: 0.4415\n",
      "Epoch 48/100\n",
      "172/172 [==============================] - 34s 197ms/step - loss: 0.4382\n",
      "Epoch 49/100\n",
      "172/172 [==============================] - 34s 198ms/step - loss: 0.435410s - - ETA: 8s - l  - ETA: 1s - loss:\n",
      "Epoch 50/100\n",
      "172/172 [==============================] - 34s 197ms/step - loss: 0.4333\n",
      "Epoch 51/100\n",
      "172/172 [==============================] - 34s 196ms/step - loss: 0.4296\n",
      "Epoch 52/100\n",
      "172/172 [==============================] - 34s 196ms/step - loss: 0.43040s - loss: 0.4\n",
      "Epoch 53/100\n",
      "172/172 [==============================] - 34s 197ms/step - loss: 0.4264\n",
      "Epoch 54/100\n",
      "172/172 [==============================] - 34s 198ms/step - loss: 0.4232\n",
      "Epoch 55/100\n",
      "172/172 [==============================] - 34s 196ms/step - loss: 0.4207\n",
      "Epoch 56/100\n",
      "172/172 [==============================] - 34s 197ms/step - loss: 0.4188\n",
      "Epoch 57/100\n",
      "172/172 [==============================] - 34s 197ms/step - loss: 0.4174\n",
      "Epoch 58/100\n",
      "172/172 [==============================] - 34s 196ms/step - loss: 0.4166\n",
      "Epoch 59/100\n",
      "172/172 [==============================] - 34s 197ms/step - loss: 0.4153\n",
      "Epoch 60/100\n",
      "172/172 [==============================] - 34s 196ms/step - loss: 0.4132\n",
      "Epoch 61/100\n",
      "172/172 [==============================] - 34s 197ms/step - loss: 0.4130\n",
      "Epoch 62/100\n",
      "172/172 [==============================] - 34s 196ms/step - loss: 0.4108\n",
      "Epoch 63/100\n",
      "172/172 [==============================] - 34s 197ms/step - loss: 0.4096\n",
      "Epoch 64/100\n",
      "172/172 [==============================] - 34s 199ms/step - loss: 0.4099\n",
      "Epoch 65/100\n",
      "172/172 [==============================] - 34s 200ms/step - loss: 0.4104\n",
      "Epoch 66/100\n",
      "172/172 [==============================] - 35s 201ms/step - loss: 0.4092\n",
      "Epoch 67/100\n",
      "172/172 [==============================] - 34s 201ms/step - loss: 0.4056\n",
      "Epoch 68/100\n",
      "172/172 [==============================] - 35s 202ms/step - loss: 0.4023\n",
      "Epoch 69/100\n",
      "172/172 [==============================] - 34s 200ms/step - loss: 0.4018\n",
      "Epoch 70/100\n",
      "172/172 [==============================] - 35s 201ms/step - loss: 0.4014\n",
      "Epoch 71/100\n",
      "172/172 [==============================] - 35s 202ms/step - loss: 0.4012\n",
      "Epoch 72/100\n",
      "172/172 [==============================] - 35s 201ms/step - loss: 0.40182s\n",
      "Epoch 73/100\n",
      "172/172 [==============================] - 34s 197ms/step - loss: 0.4027\n",
      "Epoch 74/100\n",
      "172/172 [==============================] - 34s 197ms/step - loss: 0.4021\n",
      "Epoch 75/100\n",
      "172/172 [==============================] - 34s 197ms/step - loss: 0.40196s - lo \n",
      "Epoch 76/100\n",
      "172/172 [==============================] - 34s 197ms/step - loss: 0.4011\n",
      "Epoch 77/100\n",
      "172/172 [==============================] - 34s 198ms/step - loss: 0.4001\n",
      "Epoch 78/100\n",
      "172/172 [==============================] - 34s 196ms/step - loss: 0.3979\n",
      "Epoch 79/100\n",
      "172/172 [==============================] - 34s 196ms/step - loss: 0.3985 9s - loss: - ETA:\n",
      "Epoch 80/100\n",
      "172/172 [==============================] - 34s 197ms/step - loss: 0.3957\n",
      "Epoch 81/100\n",
      "172/172 [==============================] - 34s 196ms/step - loss: 0.3951\n",
      "Epoch 82/100\n",
      "172/172 [==============================] - 34s 196ms/step - loss: 0.3939\n",
      "Epoch 83/100\n",
      "172/172 [==============================] - 34s 196ms/step - loss: 0.3966\n",
      "Epoch 84/100\n",
      "172/172 [==============================] - 34s 197ms/step - loss: 0.3958\n",
      "Epoch 85/100\n",
      "172/172 [==============================] - 34s 196ms/step - loss: 0.3963\n",
      "Epoch 86/100\n",
      "172/172 [==============================] - 34s 196ms/step - loss: 0.3957\n",
      "Epoch 87/100\n",
      "172/172 [==============================] - 34s 196ms/step - loss: 0.3969\n",
      "Epoch 88/100\n",
      "172/172 [==============================] - 34s 196ms/step - loss: 0.3989\n",
      "Epoch 89/100\n",
      "172/172 [==============================] - 34s 197ms/step - loss: 0.3983\n",
      "Epoch 90/100\n",
      "172/172 [==============================] - 34s 196ms/step - loss: 0.3985\n",
      "Epoch 91/100\n",
      "172/172 [==============================] - 34s 197ms/step - loss: 0.3986\n",
      "Epoch 92/100\n",
      "172/172 [==============================] - 34s 197ms/step - loss: 0.3939\n",
      "Epoch 93/100\n",
      "172/172 [==============================] - 34s 196ms/step - loss: 0.3922\n",
      "Epoch 94/100\n"
     ]
    },
    {
     "name": "stdout",
     "output_type": "stream",
     "text": [
      "172/172 [==============================] - 34s 196ms/step - loss: 0.3906\n",
      "Epoch 95/100\n",
      "172/172 [==============================] - 34s 197ms/step - loss: 0.3906\n",
      "Epoch 96/100\n",
      "172/172 [==============================] - 34s 197ms/step - loss: 0.3897\n",
      "Epoch 97/100\n",
      "172/172 [==============================] - 34s 196ms/step - loss: 0.3896\n",
      "Epoch 98/100\n",
      "172/172 [==============================] - 34s 196ms/step - loss: 0.3890\n",
      "Epoch 99/100\n",
      "172/172 [==============================] - 34s 196ms/step - loss: 0.39070s - loss: 0.\n",
      "Epoch 100/100\n",
      "172/172 [==============================] - 34s 196ms/step - loss: 0.3909\n"
     ]
    }
   ],
   "source": [
    "output_dir = \"./text_generation_checkpoints\"\n",
    "if not os.path.exists(output_dir):\n",
    "    os.mkdir(output_dir)\n",
    "checkpoint_prefix = os.path.join(output_dir, 'ckpt_{epoch}')\n",
    "checkpoint_callback = keras.callbacks.ModelCheckpoint(\n",
    "    filepath = checkpoint_prefix,\n",
    "    save_weights_only = True)\n",
    "\n",
    "epochs = 100\n",
    "history = model.fit(seq_dataset, epochs = epochs,\n",
    "                    callbacks = [checkpoint_callback])"
   ]
  },
  {
   "cell_type": "code",
   "execution_count": 19,
   "metadata": {},
   "outputs": [
    {
     "data": {
      "text/plain": [
       "'./text_generation_checkpoints\\\\ckpt_100'"
      ]
     },
     "execution_count": 19,
     "metadata": {},
     "output_type": "execute_result"
    }
   ],
   "source": [
    "# 查看最新保存的模型\n",
    "tf.train.latest_checkpoint(output_dir)"
   ]
  },
  {
   "cell_type": "code",
   "execution_count": 20,
   "metadata": {},
   "outputs": [
    {
     "name": "stdout",
     "output_type": "stream",
     "text": [
      "Model: \"sequential_1\"\n",
      "_________________________________________________________________\n",
      "Layer (type)                 Output Shape              Param #   \n",
      "=================================================================\n",
      "embedding_1 (Embedding)      (1, None, 256)            16640     \n",
      "_________________________________________________________________\n",
      "lstm_1 (LSTM)                (1, None, 1024)           5246976   \n",
      "_________________________________________________________________\n",
      "dense_1 (Dense)              (1, None, 65)             66625     \n",
      "=================================================================\n",
      "Total params: 5,330,241\n",
      "Trainable params: 5,330,241\n",
      "Non-trainable params: 0\n",
      "_________________________________________________________________\n"
     ]
    }
   ],
   "source": [
    "# 载入模型\n",
    "model2 = build_model(vocab_size,\n",
    "                     embedding_dim,\n",
    "                     rnn_units,\n",
    "                     batch_size = 1)\n",
    "\n",
    "# 从模型中载入权重参数\n",
    "model2.load_weights(tf.train.latest_checkpoint(output_dir))\n",
    "model2.build(tf.TensorShape([1, None]))\n",
    "# start ch sequence A,\n",
    "# A -> model -> b\n",
    "# A.append(b) -> B\n",
    "# B(Ab) -> model -> c\n",
    "# B.append(c) -> C\n",
    "# C(Abc) -> model -> ...\n",
    "model2.summary()"
   ]
  },
  {
   "cell_type": "code",
   "execution_count": 21,
   "metadata": {},
   "outputs": [
    {
     "name": "stdout",
     "output_type": "stream",
     "text": [
      "All: oy A side but y,\n",
      "Whipt his most roxes of him! We'll to yon\n",
      "in yout paith.:\n",
      "\n",
      "ROMEO:\n",
      "Pardon is you content til use you owing any thing we sueds to ass, or light\n",
      "My e sole,\n",
      "JAMILLO;\n",
      "Besides, the Lady Vanhon the point acaid!\n",
      "Down with me Duke of Clambertl.\n",
      "\n",
      "POLIXENES:\n",
      "Noble Pause. Can suddenly meant?\n",
      "What cannot tempe; you are\n",
      "never cast by, as Volsce Marcar thy joinfut queenus asuke\n",
      "Had I for Nap, s amam.\n",
      "Breasts! CORrule to me!\n",
      "Deap tickess\n",
      "Plantas art s! live can I fill myself a\n",
      "Clad right sed thee run away;\n",
      "Abud Aufidius loves me;\n",
      "Yet cliff, you n soldier. Shall IWinculeQudiers nor.\n",
      "\n",
      "DORCAS:\n",
      "If shadewnix\n",
      "Bianca\n",
      "knowing\n",
      "will I witnessence.\n",
      "But first Servant:\n",
      "My life, if York; but ifis I weep?\n",
      "I would I'll cursu gueedlf;\n",
      "Upon his part there; yet KING HENRY VI\n",
      "\n",
      "RICHARD:\n",
      "Nay, dood? Nam, then muracley? I have arrived at him sende soverended toads! is tro\n",
      "As thou caitiff! jest she breaking lieutenant, stay with his\n",
      "friar tellow.\n",
      "\n",
      "FLORIZEL:\n",
      "An't plain, ga awake's one\n",
      "weeping fles farther.\n",
      "\n",
      "PE\n"
     ]
    }
   ],
   "source": [
    "def generate_text(model, start_string, num_generate = 1000):\n",
    "    input_eval = [char2idx[ch] for ch in start_string]\n",
    "    input_eval = tf.expand_dims(input_eval, 0)\n",
    "    \n",
    "    text_generated = []\n",
    "    model.reset_states()\n",
    "    \n",
    "    # temperature > 1, random\n",
    "    # temperature < 1, greedy \n",
    "    temperature = 2\n",
    "    \n",
    "    for _ in range(num_generate):\n",
    "        # 1. model inference -> predictions\n",
    "        # 2. sample -> ch -> text_generated.\n",
    "        # 3. update input_eval\n",
    "        \n",
    "        # predictions : [batch_size, input_eval_len, vocab_size]\n",
    "        predictions = model(input_eval)\n",
    "        # predictions: logits -> softmax -> prob\n",
    "        # softmax: e^xi \n",
    "        # eg: 4,2 e^4/(e^4 + e^2) = 0.88, e^2 / (e^4 + e^2) = 0.12\n",
    "        # eg: 2,1 e^2/(e^2 + e) = 0.73, e / (e^2 + e) = 0.27\n",
    "        predictions = predictions / temperature\n",
    "        # predictions : [input_eval_len, vocab_size]\n",
    "        predictions = tf.squeeze(predictions, 0)\n",
    "        # predicted_ids: [input_eval_len, 1]\n",
    "        # a b c -> b c d\n",
    "        predicted_id = tf.random.categorical(\n",
    "            predictions, num_samples = 1)[-1, 0].numpy()\n",
    "        text_generated.append(idx2char[predicted_id])\n",
    "        # s, x -> rnn -> s', y\n",
    "        input_eval = tf.expand_dims([predicted_id], 0)\n",
    "    return start_string + ''.join(text_generated)\n",
    "\n",
    "new_text = generate_text(model2, \"All: \")\n",
    "print(new_text)"
   ]
  },
  {
   "cell_type": "code",
   "execution_count": null,
   "metadata": {},
   "outputs": [],
   "source": []
  }
 ],
 "metadata": {
  "kernelspec": {
   "display_name": "Python [conda env:tf2]",
   "language": "python",
   "name": "conda-env-tf2-py"
  },
  "language_info": {
   "codemirror_mode": {
    "name": "ipython",
    "version": 3
   },
   "file_extension": ".py",
   "mimetype": "text/x-python",
   "name": "python",
   "nbconvert_exporter": "python",
   "pygments_lexer": "ipython3",
   "version": "3.7.7"
  }
 },
 "nbformat": 4,
 "nbformat_minor": 2
}

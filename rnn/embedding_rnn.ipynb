{
 "cells": [
  {
   "cell_type": "code",
   "execution_count": 1,
   "metadata": {},
   "outputs": [
    {
     "name": "stdout",
     "output_type": "stream",
     "text": [
      "2.0.0\n",
      "sys.version_info(major=3, minor=7, micro=7, releaselevel='final', serial=0)\n",
      "matplotlib 3.2.2\n",
      "numpy 1.18.5\n",
      "pandas 1.0.5\n",
      "sklearn 0.21.2\n",
      "tensorflow 2.0.0\n",
      "tensorflow_core.keras 2.2.4-tf\n"
     ]
    }
   ],
   "source": [
    "import matplotlib as mpl\n",
    "import matplotlib.pyplot as plt\n",
    "%matplotlib inline\n",
    "import numpy as np\n",
    "import sklearn\n",
    "import pandas as pd\n",
    "import os\n",
    "import sys\n",
    "import time\n",
    "import tensorflow as tf\n",
    "\n",
    "from tensorflow import keras\n",
    "\n",
    "print(tf.__version__)\n",
    "print(sys.version_info)\n",
    "for module in mpl, np, pd, sklearn, tf, keras:\n",
    "    print(module.__name__, module.__version__)"
   ]
  },
  {
   "cell_type": "code",
   "execution_count": 2,
   "metadata": {},
   "outputs": [],
   "source": [
    "imdb = keras.datasets.imdb\n",
    "\n",
    " # num_words=10000的意思是训练集中我们指保留词频最高的前10000个单词。\n",
    " # 10000名之后的词汇都会被直接忽略，不出现在train_data和test_data中。\n",
    "vocab_size = 10000\n",
    "index_from = 3 \n",
    "\n",
    "# 词的索引+3，因为数据集中词的索引从1开始，向右挪3个位置，\n",
    "# 前面从0算起留出4个槽位，可以放0:【PAD】,1:【STAR】,2:【UNK】,3:【END】\n",
    "(train_data, train_labels), (test_data, test_labels) = imdb.load_data(\n",
    "    num_words = vocab_size, index_from = index_from)"
   ]
  },
  {
   "cell_type": "code",
   "execution_count": 4,
   "metadata": {},
   "outputs": [
    {
     "name": "stdout",
     "output_type": "stream",
     "text": [
      "88584\n",
      "fawn 34701\n"
     ]
    }
   ],
   "source": [
    "# 加载词典 \n",
    "word_index = imdb.get_word_index()\n",
    "print(len(word_index))\n",
    "\n",
    "for k,v in word_index.items():\n",
    "    print(k,v)\n",
    "    break\n",
    "# print(word_index)\n",
    "# 词对应的索引从1开始：the:1,and:2..."
   ]
  },
  {
   "cell_type": "code",
   "execution_count": 5,
   "metadata": {},
   "outputs": [
    {
     "name": "stdout",
     "output_type": "stream",
     "text": [
      "34701\n"
     ]
    }
   ],
   "source": [
    "for k,v in word_index.items():\n",
    "    if k==\"fawn\":\n",
    "        print(v)"
   ]
  },
  {
   "cell_type": "code",
   "execution_count": 6,
   "metadata": {},
   "outputs": [],
   "source": [
    "# 把词的索引向右挪三个位置\n",
    "word_index = {k:(v+3) for k, v in word_index.items()}"
   ]
  },
  {
   "cell_type": "code",
   "execution_count": 7,
   "metadata": {},
   "outputs": [],
   "source": [
    "# 前面空出的槽位，添加4个标记\n",
    "word_index['<PAD>'] = 0 # padding 填充位\n",
    "word_index['<START>'] = 1 # 起始位\n",
    "word_index['<UNK>'] = 2 # 空值\n",
    "word_index['<END>'] = 3 # 结束标志\n",
    "\n",
    "# 将词典中key、value置换\n",
    "reverse_word_index = dict(\n",
    "    [(value, key) for key, value in word_index.items()])\n"
   ]
  },
  {
   "cell_type": "code",
   "execution_count": 8,
   "metadata": {},
   "outputs": [],
   "source": [
    "\n",
    "def decode_review(text_ids):\n",
    "    \"\"\"解析训练数据的内容\"\"\"\n",
    "    return ' '.join(\n",
    "        [reverse_word_index.get(word_id, \"<UNK>\") for word_id in text_ids])"
   ]
  },
  {
   "cell_type": "code",
   "execution_count": 9,
   "metadata": {},
   "outputs": [
    {
     "data": {
      "text/plain": [
       "\"<START> this film was just brilliant casting location scenery story direction everyone's really suited the part they played and you could just imagine being there robert <UNK> is an amazing actor and now the same being director <UNK> father came from the same scottish island as myself so i loved the fact there was a real connection with this film the witty remarks throughout the film were great it was just brilliant so much that i bought the film as soon as it was released for <UNK> and would recommend it to everyone to watch and the fly fishing was amazing really cried at the end it was so sad and you know what they say if you cry at a film it must have been good and this definitely was also <UNK> to the two little boy's that played the <UNK> of norman and paul they were just brilliant children are often left out of the <UNK> list i think because the stars that play them all grown up are such a big profile for the whole film but these children are amazing and should be praised for what they have done don't you think the whole story was so lovely because it was true and was someone's life after all that was shared with us all\""
      ]
     },
     "execution_count": 9,
     "metadata": {},
     "output_type": "execute_result"
    }
   ],
   "source": [
    "decode_review(train_data[0])"
   ]
  },
  {
   "cell_type": "code",
   "execution_count": 10,
   "metadata": {},
   "outputs": [
    {
     "name": "stdout",
     "output_type": "stream",
     "text": [
      "this film\n"
     ]
    }
   ],
   "source": [
    "print(reverse_word_index[14],reverse_word_index[22])"
   ]
  },
  {
   "cell_type": "code",
   "execution_count": 11,
   "metadata": {},
   "outputs": [
    {
     "name": "stdout",
     "output_type": "stream",
     "text": [
      "<PAD>\n"
     ]
    }
   ],
   "source": [
    "for k,v in word_index.items():\n",
    "    if v==0:\n",
    "        print(k)"
   ]
  },
  {
   "cell_type": "code",
   "execution_count": 12,
   "metadata": {},
   "outputs": [
    {
     "name": "stdout",
     "output_type": "stream",
     "text": [
      "[   1   14   22   16   43  530  973 1622 1385   65  458 4468   66 3941\n",
      "    4  173   36  256    5   25  100   43  838  112   50  670    2    9\n",
      "   35  480  284    5  150    4  172  112  167    2  336  385   39    4\n",
      "  172 4536 1111   17  546   38   13  447    4  192   50   16    6  147\n",
      " 2025   19   14   22    4 1920 4613  469    4   22   71   87   12   16\n",
      "   43  530   38   76   15   13 1247    4   22   17  515   17   12   16\n",
      "  626   18    2    5   62  386   12    8  316    8  106    5    4 2223\n",
      " 5244   16  480   66 3785   33    4  130   12   16   38  619    5   25\n",
      "  124   51   36  135   48   25 1415   33    6   22   12  215   28   77\n",
      "   52    5   14  407   16   82    2    8    4  107  117 5952   15  256\n",
      "    4    2    7 3766    5  723   36   71   43  530  476   26  400  317\n",
      "   46    7    4    2 1029   13  104   88    4  381   15  297   98   32\n",
      " 2071   56   26  141    6  194 7486   18    4  226   22   21  134  476\n",
      "   26  480    5  144   30 5535   18   51   36   28  224   92   25  104\n",
      "    4  226   65   16   38 1334   88   12   16  283    5   16 4472  113\n",
      "  103   32   15   16 5345   19  178   32    0    0    0    0    0    0\n",
      "    0    0    0    0    0    0    0    0    0    0    0    0    0    0\n",
      "    0    0    0    0    0    0    0    0    0    0    0    0    0    0\n",
      "    0    0    0    0    0    0    0    0    0    0    0    0    0    0\n",
      "    0    0    0    0    0    0    0    0    0    0    0    0    0    0\n",
      "    0    0    0    0    0    0    0    0    0    0    0    0    0    0\n",
      "    0    0    0    0    0    0    0    0    0    0    0    0    0    0\n",
      "    0    0    0    0    0    0    0    0    0    0    0    0    0    0\n",
      "    0    0    0    0    0    0    0    0    0    0    0    0    0    0\n",
      "    0    0    0    0    0    0    0    0    0    0    0    0    0    0\n",
      "    0    0    0    0    0    0    0    0    0    0    0    0    0    0\n",
      "    0    0    0    0    0    0    0    0    0    0    0    0    0    0\n",
      "    0    0    0    0    0    0    0    0    0    0    0    0    0    0\n",
      "    0    0    0    0    0    0    0    0    0    0    0    0    0    0\n",
      "    0    0    0    0    0    0    0    0    0    0    0    0    0    0\n",
      "    0    0    0    0    0    0    0    0    0    0    0    0    0    0\n",
      "    0    0    0    0    0    0    0    0    0    0    0    0    0    0\n",
      "    0    0    0    0    0    0    0    0    0    0    0    0    0    0\n",
      "    0    0    0    0    0    0    0    0    0    0    0    0    0    0\n",
      "    0    0    0    0    0    0    0    0    0    0    0    0    0    0\n",
      "    0    0    0    0    0    0    0    0    0    0]\n"
     ]
    }
   ],
   "source": [
    "max_length = 500 # 句子高于500被截断，低于500被补全\n",
    "\n",
    "# 进行数据补全\n",
    "train_data = keras.preprocessing.sequence.pad_sequences(\n",
    "    train_data, # list of list\n",
    "    value = word_index['<PAD>'],# 用PAD的索引值0填充\n",
    "    padding = 'post', # 不够max_length，post:往句子后填充, pre:向句子前方进行填充 \n",
    "    maxlen = max_length)\n",
    "\n",
    "test_data = keras.preprocessing.sequence.pad_sequences(\n",
    "    test_data, # list of list\n",
    "    value = word_index['<PAD>'],\n",
    "    padding = 'post', # post, pre\n",
    "    maxlen = max_length)\n",
    "\n",
    "print(train_data[0])"
   ]
  },
  {
   "cell_type": "code",
   "execution_count": 13,
   "metadata": {},
   "outputs": [
    {
     "name": "stdout",
     "output_type": "stream",
     "text": [
      "Model: \"sequential\"\n",
      "_________________________________________________________________\n",
      "Layer (type)                 Output Shape              Param #   \n",
      "=================================================================\n",
      "embedding (Embedding)        (None, 500, 16)           160000    \n",
      "_________________________________________________________________\n",
      "simple_rnn (SimpleRNN)       (None, 64)                5184      \n",
      "_________________________________________________________________\n",
      "dense (Dense)                (None, 64)                4160      \n",
      "_________________________________________________________________\n",
      "dense_1 (Dense)              (None, 1)                 65        \n",
      "=================================================================\n",
      "Total params: 169,409\n",
      "Trainable params: 169,409\n",
      "Non-trainable params: 0\n",
      "_________________________________________________________________\n"
     ]
    }
   ],
   "source": [
    "# 定义模型\n",
    "embedding_dim = 16 # 每个词embedding（转换）成长度为16的向量\n",
    "batch_size = 128\n",
    "\n",
    "single_rnn_model = keras.models.Sequential([\n",
    "    # 1. define matrix: [vocab_size, embedding_dim]\n",
    "    # 2. [1,2,3,4..], max_length * embedding_dim\n",
    "    # 3. batch_size * max_length * embedding_dim\n",
    "    # Embedding详解:https://www.jianshu.com/p/b2c33d7e56a5\n",
    "    keras.layers.Embedding(vocab_size, embedding_dim,\n",
    "                           input_length = max_length),\n",
    "    #  return_sequences : 如果设置return_sequences=True，意思是返回每个展开的RNN cell的输出\n",
    "    # return_sequences=False仅返回最后一个输出。 \n",
    "    keras.layers.SimpleRNN(units=64,return_sequences=False),\n",
    "    keras.layers.Dense(64,activation=\"relu\"),\n",
    "    keras.layers.Dense(1,activation=\"sigmoid\"),\n",
    "])\n",
    "\n",
    "single_rnn_model.summary()\n",
    "# binary_crossentropy:二分类交叉熵\n",
    "single_rnn_model.compile(optimizer = 'adam', loss = 'binary_crossentropy',\n",
    "              metrics = ['accuracy'])"
   ]
  },
  {
   "cell_type": "code",
   "execution_count": 14,
   "metadata": {
    "scrolled": true
   },
   "outputs": [
    {
     "name": "stdout",
     "output_type": "stream",
     "text": [
      "Train on 20000 samples, validate on 5000 samples\n",
      "Epoch 1/30\n",
      "20000/20000 [==============================] - 44s 2ms/sample - loss: 0.6950 - accuracy: 0.5022 - val_loss: 0.6934 - val_accuracy: 0.5006\n",
      "Epoch 2/30\n",
      "20000/20000 [==============================] - 42s 2ms/sample - loss: 0.6956 - accuracy: 0.4999 - val_loss: 0.6930 - val_accuracy: 0.5054\n",
      "Epoch 3/30\n",
      "20000/20000 [==============================] - 41s 2ms/sample - loss: 0.6945 - accuracy: 0.5049 - val_loss: 0.6970 - val_accuracy: 0.4938\n",
      "Epoch 4/30\n",
      "20000/20000 [==============================] - 41s 2ms/sample - loss: 0.6962 - accuracy: 0.5117 - val_loss: 0.6960 - val_accuracy: 0.4956\n",
      "Epoch 5/30\n",
      "20000/20000 [==============================] - 41s 2ms/sample - loss: 0.6971 - accuracy: 0.5002 - val_loss: 0.6939 - val_accuracy: 0.4938\n",
      "Epoch 6/30\n",
      "20000/20000 [==============================] - 42s 2ms/sample - loss: 0.6945 - accuracy: 0.4979 - val_loss: 0.6935 - val_accuracy: 0.5062\n",
      "Epoch 7/30\n",
      "20000/20000 [==============================] - 41s 2ms/sample - loss: 0.6943 - accuracy: 0.4959 - val_loss: 0.6946 - val_accuracy: 0.5062\n",
      "Epoch 8/30\n",
      "20000/20000 [==============================] - 41s 2ms/sample - loss: 0.6936 - accuracy: 0.5053 - val_loss: 0.6929 - val_accuracy: 0.5072\n",
      "Epoch 9/30\n",
      "20000/20000 [==============================] - 42s 2ms/sample - loss: 0.6936 - accuracy: 0.5048 - val_loss: 0.6938 - val_accuracy: 0.5100\n",
      "Epoch 10/30\n",
      "20000/20000 [==============================] - 43s 2ms/sample - loss: 0.6928 - accuracy: 0.5051 - val_loss: 0.6927 - val_accuracy: 0.5066\n",
      "Epoch 11/30\n",
      "20000/20000 [==============================] - 41s 2ms/sample - loss: 0.6903 - accuracy: 0.5134 - val_loss: 0.6940 - val_accuracy: 0.4946\n",
      "Epoch 12/30\n",
      "20000/20000 [==============================] - 42s 2ms/sample - loss: 0.6888 - accuracy: 0.5134 - val_loss: 0.6971 - val_accuracy: 0.4958\n",
      "Epoch 13/30\n",
      "20000/20000 [==============================] - 41s 2ms/sample - loss: 0.6851 - accuracy: 0.5198 - val_loss: 0.6940 - val_accuracy: 0.5080\n",
      "Epoch 14/30\n",
      "20000/20000 [==============================] - 42s 2ms/sample - loss: 0.6805 - accuracy: 0.5232 - val_loss: 0.6965 - val_accuracy: 0.4970\n",
      "Epoch 15/30\n",
      "20000/20000 [==============================] - 42s 2ms/sample - loss: 0.6773 - accuracy: 0.5229 - val_loss: 0.6981 - val_accuracy: 0.5104\n",
      "Epoch 16/30\n",
      "20000/20000 [==============================] - 41s 2ms/sample - loss: 0.6733 - accuracy: 0.5275 - val_loss: 0.7043 - val_accuracy: 0.4972\n",
      "Epoch 17/30\n",
      "20000/20000 [==============================] - 42s 2ms/sample - loss: 0.6696 - accuracy: 0.5307 - val_loss: 0.6993 - val_accuracy: 0.5000\n",
      "Epoch 18/30\n",
      "20000/20000 [==============================] - 43s 2ms/sample - loss: 0.6656 - accuracy: 0.5304 - val_loss: 0.7038 - val_accuracy: 0.5124\n",
      "Epoch 19/30\n",
      "20000/20000 [==============================] - 41s 2ms/sample - loss: 0.6616 - accuracy: 0.5392 - val_loss: 0.7081 - val_accuracy: 0.5016\n",
      "Epoch 20/30\n",
      "20000/20000 [==============================] - 42s 2ms/sample - loss: 0.6605 - accuracy: 0.5322 - val_loss: 0.7135 - val_accuracy: 0.5104\n",
      "Epoch 21/30\n",
      "20000/20000 [==============================] - 41s 2ms/sample - loss: 0.6540 - accuracy: 0.5332 - val_loss: 0.7263 - val_accuracy: 0.4994\n",
      "Epoch 22/30\n",
      "20000/20000 [==============================] - 41s 2ms/sample - loss: 0.6495 - accuracy: 0.5451 - val_loss: 0.7391 - val_accuracy: 0.5074\n",
      "Epoch 23/30\n",
      "20000/20000 [==============================] - 41s 2ms/sample - loss: 0.6465 - accuracy: 0.5414 - val_loss: 0.7514 - val_accuracy: 0.5074\n",
      "Epoch 24/30\n",
      "20000/20000 [==============================] - 42s 2ms/sample - loss: 0.6411 - accuracy: 0.5458 - val_loss: 0.7569 - val_accuracy: 0.5060\n",
      "Epoch 25/30\n",
      "20000/20000 [==============================] - 41s 2ms/sample - loss: 0.6428 - accuracy: 0.5333 - val_loss: 0.7403 - val_accuracy: 0.5098\n",
      "Epoch 26/30\n",
      "20000/20000 [==============================] - 41s 2ms/sample - loss: 0.6463 - accuracy: 0.5426 - val_loss: 0.7663 - val_accuracy: 0.4976\n",
      "Epoch 27/30\n",
      "20000/20000 [==============================] - 42s 2ms/sample - loss: 0.6379 - accuracy: 0.5415 - val_loss: 0.8025 - val_accuracy: 0.4992\n",
      "Epoch 28/30\n",
      "20000/20000 [==============================] - 41s 2ms/sample - loss: 0.6381 - accuracy: 0.5447 - val_loss: 0.7972 - val_accuracy: 0.5076\n",
      "Epoch 29/30\n",
      "20000/20000 [==============================] - 41s 2ms/sample - loss: 0.6358 - accuracy: 0.5508 - val_loss: 0.8096 - val_accuracy: 0.5012\n",
      "Epoch 30/30\n",
      "20000/20000 [==============================] - 41s 2ms/sample - loss: 0.6377 - accuracy: 0.5429 - val_loss: 0.8177 - val_accuracy: 0.5082\n"
     ]
    }
   ],
   "source": [
    "history = single_rnn_model.fit(train_data, train_labels,\n",
    "                    epochs = 30,\n",
    "                    batch_size = batch_size,\n",
    "                    validation_split = 0.2)"
   ]
  },
  {
   "cell_type": "code",
   "execution_count": 15,
   "metadata": {},
   "outputs": [
    {
     "data": {
      "image/png": "[encoded data removed]",
      "text/plain": [
       "<Figure size 576x360 with 1 Axes>"
      ]
     },
     "metadata": {
      "needs_background": "light"
     },
     "output_type": "display_data"
    },
    {
     "data": {
      "image/png": "[encoded data removed]",
      "text/plain": [
       "<Figure size 576x360 with 1 Axes>"
      ]
     },
     "metadata": {
      "needs_background": "light"
     },
     "output_type": "display_data"
    }
   ],
   "source": [
    "def plot_learning_curves(history, label, epochs, min_value, max_value):\n",
    "    data = {}\n",
    "    data[label] = history.history[label]\n",
    "    data['val_'+label] = history.history['val_'+label]\n",
    "    pd.DataFrame(data).plot(figsize=(8, 5))\n",
    "    plt.grid(True)\n",
    "    plt.axis([0, epochs, min_value, max_value])\n",
    "    plt.show()\n",
    "    \n",
    "plot_learning_curves(history, 'accuracy', 30, 0, 1)\n",
    "plot_learning_curves(history, 'loss', 30, 0, 1)"
   ]
  },
  {
   "cell_type": "markdown",
   "metadata": {},
   "source": [
    "- 二分类问题，准确率太低，没什么意义\n",
    "- 单层单向的rnn效果不理想"
   ]
  },
  {
   "cell_type": "code",
   "execution_count": null,
   "metadata": {},
   "outputs": [],
   "source": [
    "single_rnn_model.evaluate(\n",
    "    test_data, test_labels,\n",
    "    batch_size = batch_size,)"
   ]
  }
 ],
 "metadata": {
  "kernelspec": {
   "display_name": "Python [conda env:tf2]",
   "language": "python",
   "name": "conda-env-tf2-py"
  },
  "language_info": {
   "codemirror_mode": {
    "name": "ipython",
    "version": 3
   },
   "file_extension": ".py",
   "mimetype": "text/x-python",
   "name": "python",
   "nbconvert_exporter": "python",
   "pygments_lexer": "ipython3",
   "version": "3.7.7"
  }
 },
 "nbformat": 4,
 "nbformat_minor": 2
}

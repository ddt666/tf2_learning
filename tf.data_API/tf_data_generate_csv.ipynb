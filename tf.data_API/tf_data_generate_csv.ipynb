{
 "cells": [
  {
   "cell_type": "code",
   "execution_count": 1,
   "metadata": {},
   "outputs": [
    {
     "name": "stdout",
     "output_type": "stream",
     "text": [
      "True\n",
      "2.0.0\n",
      "sys.version_info(major=3, minor=7, micro=7, releaselevel='final', serial=0)\n",
      "matplotlib 3.2.2\n",
      "numpy 1.18.5\n",
      "pandas 1.0.5\n",
      "sklearn 0.21.2\n",
      "tensorflow 2.0.0\n",
      "tensorflow_core.keras 2.2.4-tf\n"
     ]
    }
   ],
   "source": [
    "import matplotlib as mpl\n",
    "import matplotlib.pyplot as plt\n",
    "%matplotlib inline\n",
    "import numpy as np\n",
    "import sklearn\n",
    "import pandas as pd\n",
    "import os\n",
    "import sys\n",
    "import time\n",
    "import tensorflow as tf\n",
    "\n",
    "from tensorflow import keras\n",
    "\n",
    "\n",
    "print(tf.test.is_gpu_available())\n",
    "print(tf.__version__)\n",
    "print(sys.version_info)\n",
    "\n",
    "for module in mpl,np,pd,sklearn,tf,keras:\n",
    "    print(module.__name__,module.__version__)"
   ]
  },
  {
   "cell_type": "code",
   "execution_count": 2,
   "metadata": {},
   "outputs": [
    {
     "name": "stdout",
     "output_type": "stream",
     "text": [
      ".. _california_housing_dataset:\n",
      "\n",
      "California Housing dataset\n",
      "--------------------------\n",
      "\n",
      "**Data Set Characteristics:**\n",
      "\n",
      "    :Number of Instances: 20640\n",
      "\n",
      "    :Number of Attributes: 8 numeric, predictive attributes and the target\n",
      "\n",
      "    :Attribute Information:\n",
      "        - MedInc        median income in block\n",
      "        - HouseAge      median house age in block\n",
      "        - AveRooms      average number of rooms\n",
      "        - AveBedrms     average number of bedrooms\n",
      "        - Population    block population\n",
      "        - AveOccup      average house occupancy\n",
      "        - Latitude      house block latitude\n",
      "        - Longitude     house block longitude\n",
      "\n",
      "    :Missing Attribute Values: None\n",
      "\n",
      "This dataset was obtained from the StatLib repository.\n",
      "http://lib.stat.cmu.edu/datasets/\n",
      "\n",
      "The target variable is the median house value for California districts.\n",
      "\n",
      "This dataset was derived from the 1990 U.S. census, using one row per census\n",
      "block group. A block group is the smallest geographical unit for which the U.S.\n",
      "Census Bureau publishes sample data (a block group typically has a population\n",
      "of 600 to 3,000 people).\n",
      "\n",
      "It can be downloaded/loaded using the\n",
      ":func:`sklearn.datasets.fetch_california_housing` function.\n",
      "\n",
      ".. topic:: References\n",
      "\n",
      "    - Pace, R. Kelley and Ronald Barry, Sparse Spatial Autoregressions,\n",
      "      Statistics and Probability Letters, 33 (1997) 291-297\n",
      "\n",
      "(20640, 8)\n",
      "(20640,)\n"
     ]
    }
   ],
   "source": [
    "from sklearn.datasets import fetch_california_housing\n",
    "\n",
    "housing = fetch_california_housing()\n",
    "print(housing.DESCR)\n",
    "print(housing.data.shape)\n",
    "print(housing.target.shape)"
   ]
  },
  {
   "cell_type": "code",
   "execution_count": 3,
   "metadata": {
    "scrolled": true
   },
   "outputs": [
    {
     "name": "stdout",
     "output_type": "stream",
     "text": [
      "(11610, 8) (11610,)\n",
      "(3870, 8) (3870,)\n",
      "(5160, 8) (5160,)\n"
     ]
    }
   ],
   "source": [
    "from sklearn.model_selection import train_test_split\n",
    "\n",
    "x_train_all,x_test,y_train_all,y_test = train_test_split(housing.data,housing.target,random_state=7)\n",
    "\n",
    "x_train,x_valid,y_train,y_vaild=train_test_split(x_train_all,y_train_all,random_state=11)\n",
    "\n",
    "print(x_train.shape,y_train.shape)\n",
    "print(x_valid.shape,y_vaild.shape)\n",
    "print(x_test.shape,y_test.shape)"
   ]
  },
  {
   "cell_type": "code",
   "execution_count": 4,
   "metadata": {},
   "outputs": [],
   "source": [
    "# 数据标准化\n",
    "\n",
    "from sklearn.preprocessing import StandardScaler\n",
    "\n",
    "saclar = StandardScaler()\n",
    "x_train_sacled = saclar.fit_transform(x_train)\n",
    "x_valid_sacled = saclar.transform(x_valid)\n",
    "x_test_sacled=saclar.transform(x_test)"
   ]
  },
  {
   "cell_type": "code",
   "execution_count": 5,
   "metadata": {},
   "outputs": [
    {
     "name": "stdout",
     "output_type": "stream",
     "text": [
      "train 0\n",
      "train 1\n",
      "train 2\n",
      "train 3\n",
      "train 4\n",
      "train 5\n",
      "train 6\n",
      "train 7\n",
      "train 8\n",
      "train 9\n",
      "train 10\n",
      "train 11\n",
      "train 12\n",
      "train 13\n",
      "train 14\n",
      "train 15\n",
      "train 16\n",
      "train 17\n",
      "train 18\n",
      "train 19\n",
      "valid 0\n",
      "valid 1\n",
      "valid 2\n",
      "valid 3\n",
      "valid 4\n",
      "valid 5\n",
      "valid 6\n",
      "valid 7\n",
      "valid 8\n",
      "valid 9\n",
      "test 0\n",
      "test 1\n",
      "test 2\n",
      "test 3\n",
      "test 4\n",
      "test 5\n",
      "test 6\n",
      "test 7\n",
      "test 8\n",
      "test 9\n"
     ]
    }
   ],
   "source": [
    "# 生成CSV文件\n",
    "output_dir = \"generate_csv\"\n",
    "\n",
    "if not os.path.exists(output_dir):\n",
    "    os.mkdir(output_dir)\n",
    "\n",
    "def save_to_csv(output_dir,data,name_prefix,header=None,n_parts=10):\n",
    "    path_format=os.path.join(output_dir,\"{}_{:02d}.csv\")\n",
    "    filenames = []\n",
    "    \n",
    "    for file_idx, row_indices in enumerate(\n",
    "                                np.array_split(np.arange(len(data)),n_parts)):\n",
    "        print(name_prefix,file_idx)\n",
    "        part_csv = path_format.format(name_prefix,file_idx)\n",
    "        filenames.append(part_csv)\n",
    "        with open(part_csv,\"wt\",encoding=\"utf-8\") as f:\n",
    "            if header is not None:\n",
    "                f.write(header+\"\\n\")\n",
    "            for row_index in row_indices:\n",
    "                f.write(\",\".join(\n",
    "                    [repr(col) for col in data[row_index]]))\n",
    "                f.write(\"\\n\")\n",
    "    return filenames\n",
    "\n",
    "# merge合并数据\n",
    "train_data = np.c_[x_train_sacled,y_train]\n",
    "valid_data = np.c_[x_valid_sacled,y_vaild]\n",
    "test_data = np.c_[x_test_sacled,y_test]\n",
    "\n",
    "header_cols = housing.feature_names+[\"MidianHouseValue\"]\n",
    "header_str = \",\".join(header_cols)\n",
    "\n",
    "train_filenames = save_to_csv(output_dir,train_data,\"train\",header_str,n_parts=20)\n",
    "valid_filenames = save_to_csv(output_dir,valid_data,\"valid\",header_str,n_parts=10)\n",
    "test_filenames = save_to_csv(output_dir,test_data,\"test\",header_str,n_parts=10)"
   ]
  },
  {
   "cell_type": "code",
   "execution_count": 6,
   "metadata": {},
   "outputs": [
    {
     "name": "stdout",
     "output_type": "stream",
     "text": [
      "train filenames:\n",
      "['generate_csv\\\\train_00.csv',\n",
      " 'generate_csv\\\\train_01.csv',\n",
      " 'generate_csv\\\\train_02.csv',\n",
      " 'generate_csv\\\\train_03.csv',\n",
      " 'generate_csv\\\\train_04.csv',\n",
      " 'generate_csv\\\\train_05.csv',\n",
      " 'generate_csv\\\\train_06.csv',\n",
      " 'generate_csv\\\\train_07.csv',\n",
      " 'generate_csv\\\\train_08.csv',\n",
      " 'generate_csv\\\\train_09.csv',\n",
      " 'generate_csv\\\\train_10.csv',\n",
      " 'generate_csv\\\\train_11.csv',\n",
      " 'generate_csv\\\\train_12.csv',\n",
      " 'generate_csv\\\\train_13.csv',\n",
      " 'generate_csv\\\\train_14.csv',\n",
      " 'generate_csv\\\\train_15.csv',\n",
      " 'generate_csv\\\\train_16.csv',\n",
      " 'generate_csv\\\\train_17.csv',\n",
      " 'generate_csv\\\\train_18.csv',\n",
      " 'generate_csv\\\\train_19.csv']\n",
      "valid filenames:\n",
      "['generate_csv\\\\valid_00.csv',\n",
      " 'generate_csv\\\\valid_01.csv',\n",
      " 'generate_csv\\\\valid_02.csv',\n",
      " 'generate_csv\\\\valid_03.csv',\n",
      " 'generate_csv\\\\valid_04.csv',\n",
      " 'generate_csv\\\\valid_05.csv',\n",
      " 'generate_csv\\\\valid_06.csv',\n",
      " 'generate_csv\\\\valid_07.csv',\n",
      " 'generate_csv\\\\valid_08.csv',\n",
      " 'generate_csv\\\\valid_09.csv']\n",
      "test filenames:\n",
      "['generate_csv\\\\test_00.csv',\n",
      " 'generate_csv\\\\test_01.csv',\n",
      " 'generate_csv\\\\test_02.csv',\n",
      " 'generate_csv\\\\test_03.csv',\n",
      " 'generate_csv\\\\test_04.csv',\n",
      " 'generate_csv\\\\test_05.csv',\n",
      " 'generate_csv\\\\test_06.csv',\n",
      " 'generate_csv\\\\test_07.csv',\n",
      " 'generate_csv\\\\test_08.csv',\n",
      " 'generate_csv\\\\test_09.csv']\n"
     ]
    }
   ],
   "source": [
    "# 读取CSV文件\n",
    "\n",
    "import pprint\n",
    "print(\"train filenames:\")\n",
    "pprint.pprint(train_filenames)\n",
    "print(\"valid filenames:\")\n",
    "pprint.pprint(valid_filenames)\n",
    "print(\"test filenames:\")\n",
    "pprint.pprint(test_filenames)\n"
   ]
  },
  {
   "cell_type": "code",
   "execution_count": 7,
   "metadata": {},
   "outputs": [
    {
     "name": "stdout",
     "output_type": "stream",
     "text": [
      "tf.Tensor(b'generate_csv\\\\train_17.csv', shape=(), dtype=string)\n",
      "tf.Tensor(b'generate_csv\\\\train_09.csv', shape=(), dtype=string)\n",
      "tf.Tensor(b'generate_csv\\\\train_01.csv', shape=(), dtype=string)\n",
      "tf.Tensor(b'generate_csv\\\\train_07.csv', shape=(), dtype=string)\n",
      "tf.Tensor(b'generate_csv\\\\train_13.csv', shape=(), dtype=string)\n",
      "tf.Tensor(b'generate_csv\\\\train_10.csv', shape=(), dtype=string)\n",
      "tf.Tensor(b'generate_csv\\\\train_08.csv', shape=(), dtype=string)\n",
      "tf.Tensor(b'generate_csv\\\\train_14.csv', shape=(), dtype=string)\n",
      "tf.Tensor(b'generate_csv\\\\train_15.csv', shape=(), dtype=string)\n",
      "tf.Tensor(b'generate_csv\\\\train_05.csv', shape=(), dtype=string)\n",
      "tf.Tensor(b'generate_csv\\\\train_16.csv', shape=(), dtype=string)\n",
      "tf.Tensor(b'generate_csv\\\\train_00.csv', shape=(), dtype=string)\n",
      "tf.Tensor(b'generate_csv\\\\train_06.csv', shape=(), dtype=string)\n",
      "tf.Tensor(b'generate_csv\\\\train_02.csv', shape=(), dtype=string)\n",
      "tf.Tensor(b'generate_csv\\\\train_19.csv', shape=(), dtype=string)\n",
      "tf.Tensor(b'generate_csv\\\\train_12.csv', shape=(), dtype=string)\n",
      "tf.Tensor(b'generate_csv\\\\train_04.csv', shape=(), dtype=string)\n",
      "tf.Tensor(b'generate_csv\\\\train_18.csv', shape=(), dtype=string)\n",
      "tf.Tensor(b'generate_csv\\\\train_03.csv', shape=(), dtype=string)\n",
      "tf.Tensor(b'generate_csv\\\\train_11.csv', shape=(), dtype=string)\n",
      "tf.Tensor(b'0.6303435674178064,1.874166156711919,-0.06713214279531016,-0.12543366804152128,-0.19737553788322462,-0.022722631725889016,-0.692407235065288,0.7265233438487496,2.419', shape=(), dtype=string)\n",
      "tf.Tensor(b'0.8115083791797953,-0.04823952235146133,0.5187339067174729,-0.029386394873127775,-0.034064024638222286,-0.05081594842905086,-0.7157356834231196,0.9162751241885168,2.147', shape=(), dtype=string)\n",
      "tf.Tensor(b'-1.1199749330438333,-1.329843308393715,0.1419004518620726,0.4658136987980791,-0.10301777467500105,-0.10744184416176107,-0.7950524078397521,1.5304716763409,0.66', shape=(), dtype=string)\n",
      "tf.Tensor(b'0.4853051504718848,-0.8492418886278699,-0.06530126513877861,-0.023379656040017353,1.4974350551260218,-0.07790657783453239,-0.9023632702857819,0.7814514907892068,2.956', shape=(), dtype=string)\n",
      "tf.Tensor(b'0.801544314532886,0.27216142415910205,-0.11624392696666119,-0.2023115137272354,-0.5430515742518128,-0.021039615516440048,-0.5897620622908205,-0.08241845654707416,3.226', shape=(), dtype=string)\n",
      "tf.Tensor(b'1.6312258686346301,0.3522616607867429,0.04080576110152256,-0.1408895163348976,-0.4632103899987006,-0.06751623819156843,-0.8277122355407183,0.5966931783531273,3.376', shape=(), dtype=string)\n",
      "tf.Tensor(b'-0.6906143291679195,-0.1283397589791022,7.0201810347470595,5.624287386169439,-0.2663292879200034,-0.03662080416157129,-0.6457503383496215,1.2058962626018372,1.352', shape=(), dtype=string)\n",
      "tf.Tensor(b'-0.9490938885377456,0.6726626072973063,0.28370554761513944,0.10655529643465292,-0.6546477749692311,-0.0623949278698749,0.21273656121863005,0.0024704978154519064,0.607', shape=(), dtype=string)\n",
      "tf.Tensor(b'-0.7432054083470616,0.9129633171802288,-0.644320243857189,-0.1479096959813185,0.7398510909061499,0.11427691039226903,-0.7950524078397521,0.6815821327156534,1.438', shape=(), dtype=string)\n",
      "tf.Tensor(b'-0.2980728090942217,0.3522616607867429,-0.10920507530549702,-0.25055520947444,-0.034064024638222286,-0.006034004264459185,1.080554840130013,-1.0611381656679573,1.514', shape=(), dtype=string)\n"
     ]
    }
   ],
   "source": [
    "#  1. filename-> dataset\n",
    "#  2. read file ->dataset -> datasets -> merge\n",
    "#  3. parse csv\n",
    "filename_dataset = tf.data.Dataset.list_files(train_filenames)\n",
    "for item in filename_dataset:\n",
    "    print(item)\n",
    "    \n",
    "n_readers = 5\n",
    "dataset = filename_dataset.interleave(\n",
    "        # header不要，跳过\n",
    "        lambda filename : tf.data.TextLineDataset(filename).skip(1),\n",
    "        cycle_length = n_readers\n",
    ")\n",
    "for line in dataset.take(10):\n",
    "    print(line)"
   ]
  },
  {
   "cell_type": "code",
   "execution_count": 8,
   "metadata": {},
   "outputs": [
    {
     "name": "stdout",
     "output_type": "stream",
     "text": [
      "[<tf.Tensor: id=91, shape=(), dtype=int32, numpy=1>, <tf.Tensor: id=92, shape=(), dtype=int32, numpy=2>, <tf.Tensor: id=93, shape=(), dtype=int32, numpy=3>, <tf.Tensor: id=94, shape=(), dtype=int32, numpy=4>, <tf.Tensor: id=95, shape=(), dtype=int32, numpy=5>]\n"
     ]
    }
   ],
   "source": [
    "# tf.io.decode_scv(str, record_defaults)\n",
    "# 把一个字符串转换成Tensor列表\n",
    "sample_str =\"1,2,3,4,5\"\n",
    "record_defaults = [tf.constant(0, dtype=tf.int32)] * 5\n",
    "parsed_fields = tf.io.decode_csv(sample_str,record_defaults)\n",
    "print(parsed_fields)"
   ]
  },
  {
   "cell_type": "code",
   "execution_count": 9,
   "metadata": {},
   "outputs": [
    {
     "name": "stdout",
     "output_type": "stream",
     "text": [
      "[<tf.Tensor: id=102, shape=(), dtype=int32, numpy=1>, <tf.Tensor: id=103, shape=(), dtype=int32, numpy=2>, <tf.Tensor: id=104, shape=(), dtype=float32, numpy=3.0>, <tf.Tensor: id=105, shape=(), dtype=string, numpy=b'4'>, <tf.Tensor: id=106, shape=(), dtype=float32, numpy=5.0>]\n"
     ]
    }
   ],
   "source": [
    "sample_str =\"1,2,3,4,5\"\n",
    "record_defaults = [\n",
    "    tf.constant(0, dtype=tf.int32),\n",
    "    0,\n",
    "    np.nan,\n",
    "    \"hello\",\n",
    "    tf.constant([])\n",
    "] \n",
    "parsed_fields = tf.io.decode_csv(sample_str,record_defaults)\n",
    "print(parsed_fields)"
   ]
  },
  {
   "cell_type": "code",
   "execution_count": 10,
   "metadata": {},
   "outputs": [
    {
     "name": "stdout",
     "output_type": "stream",
     "text": [
      "Field 4 is required but missing in record 0! [Op:DecodeCSV]\n"
     ]
    }
   ],
   "source": [
    "try:\n",
    "    tf.io.decode_csv(\",,,,\",record_defaults)\n",
    "except Exception as ex:\n",
    "    print(ex)"
   ]
  },
  {
   "cell_type": "code",
   "execution_count": 11,
   "metadata": {},
   "outputs": [
    {
     "name": "stdout",
     "output_type": "stream",
     "text": [
      "Expect 5 fields but have 7 in record 0 [Op:DecodeCSV]\n"
     ]
    }
   ],
   "source": [
    "try:\n",
    "    tf.io.decode_csv(\"1,2,3,4,5,6,7\",record_defaults)\n",
    "except Exception as ex:\n",
    "    print(ex)"
   ]
  },
  {
   "cell_type": "code",
   "execution_count": 12,
   "metadata": {},
   "outputs": [
    {
     "data": {
      "text/plain": [
       "(<tf.Tensor: id=126, shape=(8,), dtype=float32, numpy=\n",
       " array([-0.82195884,  1.8741661 ,  0.1821235 , -0.03170019, -0.6011179 ,\n",
       "        -0.14337493,  1.0852206 , -0.8613995 ], dtype=float32)>,\n",
       " <tf.Tensor: id=127, shape=(1,), dtype=float32, numpy=array([1.054], dtype=float32)>)"
      ]
     },
     "execution_count": 12,
     "metadata": {},
     "output_type": "execute_result"
    }
   ],
   "source": [
    "def parse_csv_line(line,n_fields=9):\n",
    "    defs = [tf.constant(np.nan)] * n_fields\n",
    "    parsed_fields = tf.io.decode_csv(line,record_defaults=defs)\n",
    "    # 特征值和目标值转换成向量     \n",
    "    x = tf.stack(parsed_fields[0:-1])\n",
    "    y = tf.stack(parsed_fields[-1:])\n",
    "    return x,y\n",
    "    \n",
    "parse_csv_line(b'-0.8219588176953616,1.874166156711919,0.18212349433218608,-0.03170019246279883,-0.6011178900722581,-0.14337494105109344,1.0852205298015787,-0.8613994495208361,1.054'\n",
    "              ,n_fields=9)"
   ]
  },
  {
   "cell_type": "code",
   "execution_count": 13,
   "metadata": {},
   "outputs": [
    {
     "name": "stdout",
     "output_type": "stream",
     "text": [
      "<DatasetV1Adapter shapes: ((None, 8), (None, 1)), types: (tf.float32, tf.float32)>\n",
      "x:\n",
      "<tf.Tensor: id=211, shape=(3, 8), dtype=float32, numpy=\n",
      "array([[ 0.4240821 ,  0.91296333, -0.04437482, -0.15297213, -0.24727628,\n",
      "        -0.10539167,  0.86126745, -1.335779  ],\n",
      "       [ 0.15782312,  0.4323619 ,  0.3379948 , -0.01588031, -0.37338907,\n",
      "        -0.05305246,  0.80061346, -1.2359096 ],\n",
      "       [-1.1157656 ,  0.99306357, -0.334192  , -0.06535219, -0.32893205,\n",
      "         0.04343066, -0.12785879,  0.30707204]], dtype=float32)>\n",
      "y:\n",
      "<tf.Tensor: id=212, shape=(3, 1), dtype=float32, numpy=\n",
      "array([[3.955],\n",
      "       [3.169],\n",
      "       [0.524]], dtype=float32)>\n",
      "x:\n",
      "<tf.Tensor: id=213, shape=(3, 8), dtype=float32, numpy=\n",
      "array([[ 0.48530516, -0.8492419 , -0.06530126, -0.02337966,  1.4974351 ,\n",
      "        -0.07790658, -0.90236324,  0.78145146],\n",
      "       [-1.119975  , -1.3298433 ,  0.14190045,  0.4658137 , -0.10301778,\n",
      "        -0.10744184, -0.7950524 ,  1.5304717 ],\n",
      "       [ 0.4369235 , -1.9706452 , -0.16642106,  0.05486205, -0.8379196 ,\n",
      "        -0.1323988 , -0.99567705,  0.94124246]], dtype=float32)>\n",
      "y:\n",
      "<tf.Tensor: id=214, shape=(3, 1), dtype=float32, numpy=\n",
      "array([[2.956],\n",
      "       [0.66 ],\n",
      "       [1.73 ]], dtype=float32)>\n"
     ]
    }
   ],
   "source": [
    "#  1. filename-> dataset\n",
    "#  2. read file ->dataset -> datasets -> merge\n",
    "#  3. parse csv\n",
    "\n",
    "def csv_reader_dataset(filenames,n_readers=5,batch_size=32,n_parse_theads=5,shuffle_buffer_size=10000):\n",
    "    dataset = tf.data.Dataset.list_files(filenames)\n",
    "    dataset = dataset.repeat()\n",
    "    dataset = dataset.interleave(\n",
    "        lambda filename : tf.data.TextLineDataset(filename).skip(1),\n",
    "        cycle_length=n_readers\n",
    "    )\n",
    "    dataset.shuffle(shuffle_buffer_size)\n",
    "    dataset=dataset.map(parse_csv_line,num_parallel_calls = n_parse_theads)\n",
    "    dataset = dataset.batch(batch_size)\n",
    "    return dataset\n",
    "\n",
    "train_set = csv_reader_dataset(train_filenames,batch_size=3)\n",
    "print(train_set)\n",
    "for x_batch,y_batch in train_set.take(2):\n",
    "    print(\"x:\")\n",
    "    pprint.pprint(x_batch)\n",
    "    print(\"y:\")\n",
    "    pprint.pprint(y_batch)"
   ]
  },
  {
   "cell_type": "code",
   "execution_count": 14,
   "metadata": {},
   "outputs": [],
   "source": [
    "batch_size = 32\n",
    "train_set = csv_reader_dataset(train_filenames,batch_size=batch_size)\n",
    "valid_set = csv_reader_dataset(valid_filenames,batch_size=batch_size)\n",
    "test_set = csv_reader_dataset(test_filenames,batch_size=batch_size)"
   ]
  },
  {
   "cell_type": "code",
   "execution_count": 15,
   "metadata": {},
   "outputs": [
    {
     "name": "stdout",
     "output_type": "stream",
     "text": [
      "Model: \"sequential\"\n",
      "_________________________________________________________________\n",
      "Layer (type)                 Output Shape              Param #   \n",
      "=================================================================\n",
      "dense (Dense)                (None, 30)                270       \n",
      "_________________________________________________________________\n",
      "dense_1 (Dense)              (None, 1)                 31        \n",
      "=================================================================\n",
      "Total params: 301\n",
      "Trainable params: 301\n",
      "Non-trainable params: 0\n",
      "_________________________________________________________________\n",
      "Train for 348 steps, validate for 120 steps\n",
      "Epoch 1/100\n",
      "348/348 [==============================] - 2s 5ms/step - loss: 1.0282 - val_loss: 1.4354\n",
      "Epoch 2/100\n",
      "348/348 [==============================] - 1s 2ms/step - loss: 1.0075 - val_loss: 0.5657\n",
      "Epoch 3/100\n",
      "348/348 [==============================] - 1s 2ms/step - loss: 0.4736 - val_loss: 0.4721\n",
      "Epoch 4/100\n",
      "348/348 [==============================] - 1s 2ms/step - loss: 0.4276 - val_loss: 0.4335\n",
      "Epoch 5/100\n",
      "348/348 [==============================] - 1s 2ms/step - loss: 0.3959 - val_loss: 0.4168\n",
      "Epoch 6/100\n",
      "348/348 [==============================] - 1s 3ms/step - loss: 0.3896 - val_loss: 0.4039\n",
      "Epoch 7/100\n",
      "348/348 [==============================] - 1s 3ms/step - loss: 0.3800 - val_loss: 0.4201\n",
      "Epoch 8/100\n",
      "348/348 [==============================] - 1s 3ms/step - loss: 0.3811 - val_loss: 0.3872\n",
      "Epoch 9/100\n",
      "348/348 [==============================] - 1s 3ms/step - loss: 0.3702 - val_loss: 0.3835\n",
      "Epoch 10/100\n",
      "348/348 [==============================] - 1s 3ms/step - loss: 0.3637 - val_loss: 0.3776\n",
      "Epoch 11/100\n",
      "348/348 [==============================] - 1s 3ms/step - loss: 0.3763 - val_loss: 0.3820\n",
      "Epoch 12/100\n",
      "348/348 [==============================] - 1s 2ms/step - loss: 0.3735 - val_loss: 0.3751\n",
      "Epoch 13/100\n",
      "348/348 [==============================] - 1s 2ms/step - loss: 0.3516 - val_loss: 0.3678\n",
      "Epoch 14/100\n",
      "348/348 [==============================] - 1s 2ms/step - loss: 0.3532 - val_loss: 0.3664\n",
      "Epoch 15/100\n",
      "348/348 [==============================] - 1s 2ms/step - loss: 0.3669 - val_loss: 0.3684\n",
      "Epoch 16/100\n",
      "348/348 [==============================] - 1s 2ms/step - loss: 0.3528 - val_loss: 0.3612\n",
      "Epoch 17/100\n",
      "348/348 [==============================] - 1s 2ms/step - loss: 0.3780 - val_loss: 0.3753\n",
      "Epoch 18/100\n",
      "348/348 [==============================] - 1s 2ms/step - loss: 0.3558 - val_loss: 0.3699\n",
      "Epoch 19/100\n",
      "348/348 [==============================] - 1s 2ms/step - loss: 0.3469 - val_loss: 0.3617\n",
      "Epoch 20/100\n",
      "348/348 [==============================] - 1s 2ms/step - loss: 0.3558 - val_loss: 0.3600\n",
      "Epoch 21/100\n",
      "348/348 [==============================] - 1s 2ms/step - loss: 0.3429 - val_loss: 0.3614\n",
      "Epoch 22/100\n",
      "348/348 [==============================] - 1s 2ms/step - loss: 0.3481 - val_loss: 0.3561\n",
      "Epoch 23/100\n",
      "348/348 [==============================] - 1s 2ms/step - loss: 0.3518 - val_loss: 0.3576\n",
      "Epoch 24/100\n",
      "348/348 [==============================] - 1s 2ms/step - loss: 0.3437 - val_loss: 0.3540\n",
      "Epoch 25/100\n",
      "348/348 [==============================] - 1s 2ms/step - loss: 0.3476 - val_loss: 0.3553\n",
      "Epoch 26/100\n",
      "348/348 [==============================] - 1s 2ms/step - loss: 0.3443 - val_loss: 0.3558\n",
      "Epoch 27/100\n",
      "348/348 [==============================] - 1s 2ms/step - loss: 0.3714 - val_loss: 0.3709\n",
      "Epoch 28/100\n",
      "348/348 [==============================] - 1s 2ms/step - loss: 0.3383 - val_loss: 0.3523\n",
      "Epoch 29/100\n",
      "348/348 [==============================] - 1s 2ms/step - loss: 0.3435 - val_loss: 0.3546\n",
      "Epoch 30/100\n",
      "348/348 [==============================] - 1s 2ms/step - loss: 0.3402 - val_loss: 0.3563\n",
      "Epoch 31/100\n",
      "348/348 [==============================] - 1s 2ms/step - loss: 0.3508 - val_loss: 0.3539\n",
      "Epoch 32/100\n",
      "348/348 [==============================] - 1s 2ms/step - loss: 0.3388 - val_loss: 0.3489\n",
      "Epoch 33/100\n",
      "348/348 [==============================] - 1s 2ms/step - loss: 0.3330 - val_loss: 0.3479\n",
      "Epoch 34/100\n",
      "348/348 [==============================] - 1s 2ms/step - loss: 0.3353 - val_loss: 0.3492\n",
      "Epoch 35/100\n",
      "348/348 [==============================] - 1s 2ms/step - loss: 0.3332 - val_loss: 0.3469\n",
      "Epoch 36/100\n",
      "348/348 [==============================] - 1s 2ms/step - loss: 0.3402 - val_loss: 0.3463\n",
      "Epoch 37/100\n",
      "348/348 [==============================] - 1s 2ms/step - loss: 0.3365 - val_loss: 0.3468\n",
      "Epoch 38/100\n",
      "348/348 [==============================] - 1s 2ms/step - loss: 0.3384 - val_loss: 0.3502\n",
      "Epoch 39/100\n",
      "348/348 [==============================] - 1s 2ms/step - loss: 0.3308 - val_loss: 0.3469\n",
      "Epoch 40/100\n",
      "348/348 [==============================] - 1s 2ms/step - loss: 0.3307 - val_loss: 0.3493\n"
     ]
    }
   ],
   "source": [
    "\n",
    "model = keras.models.Sequential([\n",
    " \n",
    "    keras.layers.Dense(30,activation=\"relu\",input_shape=[8]),\n",
    "    keras.layers.Dense(1),\n",
    "])\n",
    "model.summary()\n",
    "# 目标函数：均方差，optimizer：随机梯度下降\n",
    "model.compile(loss=\"mean_squared_error\",optimizer=\"sgd\")\n",
    "callbacks=[keras.callbacks.EarlyStopping(patience=5,min_delta=1e-3)]\n",
    "history = model.fit(train_set,\n",
    "                    validation_data=valid_set,\n",
    "                    steps_per_epoch = 11160 // batch_size,\n",
    "                    validation_steps = 3870 // batch_size, \n",
    "                    epochs=100,\n",
    "                    callbacks=callbacks)"
   ]
  },
  {
   "cell_type": "code",
   "execution_count": 17,
   "metadata": {},
   "outputs": [
    {
     "name": "stdout",
     "output_type": "stream",
     "text": [
      "161/161 [==============================] - 0s 1ms/step - loss: 0.3559\n"
     ]
    },
    {
     "data": {
      "text/plain": [
       "0.35589015187684053"
      ]
     },
     "execution_count": 17,
     "metadata": {},
     "output_type": "execute_result"
    }
   ],
   "source": [
    "model.evaluate(test_set,steps = 5160 // batch_size)"
   ]
  },
  {
   "cell_type": "code",
   "execution_count": null,
   "metadata": {},
   "outputs": [],
   "source": []
  }
 ],
 "metadata": {
  "kernelspec": {
   "display_name": "Python [conda env:tf2]",
   "language": "python",
   "name": "conda-env-tf2-py"
  },
  "language_info": {
   "codemirror_mode": {
    "name": "ipython",
    "version": 3
   },
   "file_extension": ".py",
   "mimetype": "text/x-python",
   "name": "python",
   "nbconvert_exporter": "python",
   "pygments_lexer": "ipython3",
   "version": "3.7.7"
  }
 },
 "nbformat": 4,
 "nbformat_minor": 4
}

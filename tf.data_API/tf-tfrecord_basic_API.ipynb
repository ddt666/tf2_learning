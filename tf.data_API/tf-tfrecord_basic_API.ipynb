{
 "cells": [
  {
   "cell_type": "code",
   "execution_count": 1,
   "metadata": {},
   "outputs": [
    {
     "name": "stdout",
     "output_type": "stream",
     "text": [
      "True\n",
      "2.0.0\n",
      "sys.version_info(major=3, minor=7, micro=7, releaselevel='final', serial=0)\n",
      "matplotlib 3.2.2\n",
      "numpy 1.18.5\n",
      "pandas 1.0.5\n",
      "sklearn 0.21.2\n",
      "tensorflow 2.0.0\n",
      "tensorflow_core.keras 2.2.4-tf\n"
     ]
    }
   ],
   "source": [
    "import matplotlib as mpl\n",
    "import matplotlib.pyplot as plt\n",
    "%matplotlib inline\n",
    "import numpy as np\n",
    "import sklearn\n",
    "import pandas as pd\n",
    "import os\n",
    "import sys\n",
    "import time\n",
    "import tensorflow as tf\n",
    "\n",
    "from tensorflow import keras\n",
    "\n",
    "\n",
    "print(tf.test.is_gpu_available())\n",
    "print(tf.__version__)\n",
    "print(sys.version_info)\n",
    "\n",
    "for module in mpl,np,pd,sklearn,tf,keras:\n",
    "    print(module.__name__,module.__version__)"
   ]
  },
  {
   "cell_type": "code",
   "execution_count": 3,
   "metadata": {},
   "outputs": [
    {
     "name": "stdout",
     "output_type": "stream",
     "text": [
      "value: 15.5\n",
      "value: 9.5\n",
      "value: 7.0\n",
      "value: 8.0\n",
      "\n",
      "value: 42\n",
      "\n",
      "feature {\n",
      "  key: \"age\"\n",
      "  value {\n",
      "    int64_list {\n",
      "      value: 42\n",
      "    }\n",
      "  }\n",
      "}\n",
      "feature {\n",
      "  key: \"favorite_books\"\n",
      "  value {\n",
      "    bytes_list {\n",
      "      value: \"machine learning\"\n",
      "      value: \"cc150\"\n",
      "    }\n",
      "  }\n",
      "}\n",
      "feature {\n",
      "  key: \"hours\"\n",
      "  value {\n",
      "    float_list {\n",
      "      value: 15.5\n",
      "      value: 9.5\n",
      "      value: 7.0\n",
      "      value: 8.0\n",
      "    }\n",
      "  }\n",
      "}\n",
      "\n"
     ]
    }
   ],
   "source": [
    "# tfrecord 文件格式\n",
    "# -->tf.train.Example\n",
    "#   -> tf.train.Features -> {\"key\": tf.train.Feature}\n",
    "#         -> tf.train.Feature -> tf.train.ByteList/FloatList/Int64List\n",
    "\n",
    "favorites_books = [name.encode(\"utf-8\") for name in [\"machine learning\", \"cc150\"]]\n",
    "# favorites_books = [name for name in [\"machine learning\", \"cc150\"]]\n",
    "favorites_books_bytelist = tf.train.BytesList(value = favorites_books)\n",
    "\n",
    "\n",
    "\n",
    "hours_floatlist = tf.train.FloatList(value = [15.5,9.5,7.0,8.0])\n",
    "print(hours_floatlist)\n",
    "\n",
    "age_int64list = tf.train.Int64List(value = [42])\n",
    "print(age_int64list)\n",
    "\n",
    "features = tf.train.Features(\n",
    "    feature = {\n",
    "        \"favorite_books\":tf.train.Feature(\n",
    "            bytes_list = favorites_books_bytelist\n",
    "        ),\n",
    "        \"hours\":tf.train.Feature(\n",
    "            float_list = hours_floatlist\n",
    "        ),\n",
    "        \"age\":tf.train.Feature(int64_list=age_int64list),\n",
    "    }\n",
    ")\n",
    "print(features)"
   ]
  },
  {
   "cell_type": "code",
   "execution_count": null,
   "metadata": {},
   "outputs": [],
   "source": [
    "example = tf.train.Example(features = features)\n",
    "print(example)"
   ]
  },
  {
   "cell_type": "code",
   "execution_count": null,
   "metadata": {},
   "outputs": [],
   "source": [
    "# 序列化\n",
    "serialize_exmaple = example.SerializeToString()\n",
    "print(serialize_exmaple)"
   ]
  },
  {
   "cell_type": "code",
   "execution_count": null,
   "metadata": {},
   "outputs": [],
   "source": [
    "output_dir = \"tfrecord_basic\"\n",
    "\n",
    "if not os.path.exists(output_dir):\n",
    "    os.mkdir(output_dir)\n",
    "filename = \"test.rfrecords\"\n",
    "filename_fullpath = os.path.join(output_dir,filename)\n",
    "with tf.io.TFRecordWriter(filename_fullpath) as writer:\n",
    "    for i in range(3):\n",
    "        writer.write(serialize_exmaple)"
   ]
  },
  {
   "cell_type": "code",
   "execution_count": null,
   "metadata": {},
   "outputs": [],
   "source": [
    "dataset = tf.data.TFRecordDataset([filename_fullpath])"
   ]
  },
  {
   "cell_type": "code",
   "execution_count": null,
   "metadata": {},
   "outputs": [],
   "source": [
    "for serialize_exmaple_tensor in dataset:\n",
    "    print(serialize_exmaple_tensor)"
   ]
  },
  {
   "cell_type": "code",
   "execution_count": null,
   "metadata": {},
   "outputs": [],
   "source": [
    "expected_features ={\n",
    "    \n",
    "    \"favorite_books\":tf.io.VarLenFeature(dtype=tf.string),\n",
    "    \"hours\":tf.io.VarLenFeature(dtype=tf.float32),\n",
    "    \"age\":tf.io.FixedLenFeature([],dtype=tf.int64)\n",
    "}\n",
    "dataset = tf.data.TFRecordDataset([filename_fullpath])\n",
    "for serialize_exmaple_tensor in dataset:\n",
    "    example = tf.io.parse_single_example(\n",
    "        serialize_exmaple_tensor,\n",
    "        expected_features\n",
    "    )\n",
    "    books =tf.sparse.to_dense(example[\"favorite_books\"],default_value=b\"\")\n",
    "    for book in books:\n",
    "        print(book.numpy().decode(\"utf-8\"))\n",
    "    "
   ]
  },
  {
   "cell_type": "code",
   "execution_count": null,
   "metadata": {},
   "outputs": [],
   "source": [
    "# 把tfrecords文件存成压缩文件\n",
    "filename_fullpath_zip = filename_fullpath + \".zip\"\n",
    "options = tf.io.TFRecordOptions(compression_type=\"GZIP\")\n",
    " \n",
    "with tf.io.TFRecordWriter(filename_fullpath_zip,options) as writer:\n",
    "    for i in range(3):\n",
    "        writer.write(serialize_exmaple)"
   ]
  },
  {
   "cell_type": "code",
   "execution_count": null,
   "metadata": {},
   "outputs": [],
   "source": [
    "# 读取tfrecords压缩文件\n",
    "dataset_zip = tf.data.TFRecordDataset([filename_fullpath_zip],compression_type=\"GZIP\")\n",
    "for serialize_exmaple_tensor in dataset_zip:\n",
    "    example = tf.io.parse_single_example(\n",
    "        serialize_exmaple_tensor,\n",
    "        expected_features\n",
    "    )\n",
    "    books =tf.sparse.to_dense(example[\"favorite_books\"],default_value=b\"\")\n",
    "    for book in books:\n",
    "        print(book.numpy().decode(\"utf-8\"))\n",
    "    "
   ]
  },
  {
   "cell_type": "code",
   "execution_count": null,
   "metadata": {},
   "outputs": [],
   "source": []
  }
 ],
 "metadata": {
  "kernelspec": {
   "display_name": "Python [conda env:tf2]",
   "language": "python",
   "name": "conda-env-tf2-py"
  },
  "language_info": {
   "codemirror_mode": {
    "name": "ipython",
    "version": 3
   },
   "file_extension": ".py",
   "mimetype": "text/x-python",
   "name": "python",
   "nbconvert_exporter": "python",
   "pygments_lexer": "ipython3",
   "version": "3.7.7"
  }
 },
 "nbformat": 4,
 "nbformat_minor": 2
}

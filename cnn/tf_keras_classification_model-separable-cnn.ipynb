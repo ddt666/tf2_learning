{
 "cells": [
  {
   "cell_type": "code",
   "execution_count": 1,
   "metadata": {},
   "outputs": [
    {
     "name": "stdout",
     "output_type": "stream",
     "text": [
      "2.0.0\n",
      "sys.version_info(major=3, minor=7, micro=7, releaselevel='final', serial=0)\n",
      "matplotlib 3.2.2\n",
      "numpy 1.18.5\n",
      "pandas 1.0.5\n",
      "sklearn 0.21.2\n",
      "tensorflow 2.0.0\n",
      "tensorflow_core.keras 2.2.4-tf\n"
     ]
    }
   ],
   "source": [
    "import matplotlib as mpl\n",
    "import matplotlib.pyplot as plt\n",
    "%matplotlib inline\n",
    "import numpy as np\n",
    "import sklearn\n",
    "import pandas as pd\n",
    "import os\n",
    "import sys\n",
    "import time\n",
    "import tensorflow as tf\n",
    "\n",
    "from tensorflow import keras\n",
    "\n",
    "\n",
    "print(tf.__version__)\n",
    "print(sys.version_info)\n",
    "\n",
    "for module in mpl,np,pd,sklearn,tf,keras:\n",
    "    print(module.__name__,module.__version__)"
   ]
  },
  {
   "cell_type": "code",
   "execution_count": 2,
   "metadata": {},
   "outputs": [],
   "source": [
    "fashion_mnist = keras.datasets.fashion_mnist\n",
    "(x_train_all,y_train_all),(x_test,y_test) = fashion_mnist.load_data()\n",
    "x_valid,x_train =  x_train_all[:5000],x_train_all[5000:]\n",
    "y_valid,y_train =  y_train_all[:5000],y_train_all[5000:]"
   ]
  },
  {
   "cell_type": "code",
   "execution_count": 3,
   "metadata": {},
   "outputs": [],
   "source": [
    "# 对数据做标准化(归一化)\n",
    "# x = (x - u)/std (u:均值,std:方差)\n",
    "\n",
    "from sklearn.preprocessing import StandardScaler\n",
    "\n",
    "scalar = StandardScaler()\n",
    "\n",
    "# 需要一个二维矩阵 x_train是三维的，要转成二维矩阵，再转成三维\n",
    "# [None,28,28] ---> [None,784]\n",
    "x_train_sacled = scalar.fit_transform(\n",
    "x_train.astype(np.float32).reshape(-1,1)\n",
    ").reshape(-1,28,28,1)\n",
    "\n",
    "x_valid_scaled = scalar.transform(x_valid.astype(np.float32).reshape(-1,1)).reshape(-1,28,28,1)\n",
    "\n",
    "x_test_scaled = scalar.transform(x_test.astype(np.float32).reshape(-1,1)).reshape(-1,28,28,1)"
   ]
  },
  {
   "cell_type": "code",
   "execution_count": 4,
   "metadata": {},
   "outputs": [
    {
     "name": "stdout",
     "output_type": "stream",
     "text": [
      "Model: \"sequential\"\n",
      "_________________________________________________________________\n",
      "Layer (type)                 Output Shape              Param #   \n",
      "=================================================================\n",
      "conv2d (Conv2D)              (None, 28, 28, 32)        320       \n",
      "_________________________________________________________________\n",
      "separable_conv2d (SeparableC (None, 28, 28, 32)        1344      \n",
      "_________________________________________________________________\n",
      "max_pooling2d (MaxPooling2D) (None, 14, 14, 32)        0         \n",
      "_________________________________________________________________\n",
      "separable_conv2d_1 (Separabl (None, 14, 14, 64)        2400      \n",
      "_________________________________________________________________\n",
      "separable_conv2d_2 (Separabl (None, 14, 14, 64)        4736      \n",
      "_________________________________________________________________\n",
      "max_pooling2d_1 (MaxPooling2 (None, 7, 7, 64)          0         \n",
      "_________________________________________________________________\n",
      "separable_conv2d_3 (Separabl (None, 7, 7, 128)         8896      \n",
      "_________________________________________________________________\n",
      "separable_conv2d_4 (Separabl (None, 7, 7, 128)         17664     \n",
      "_________________________________________________________________\n",
      "max_pooling2d_2 (MaxPooling2 (None, 3, 3, 128)         0         \n",
      "_________________________________________________________________\n",
      "flatten (Flatten)            (None, 1152)              0         \n",
      "_________________________________________________________________\n",
      "dense (Dense)                (None, 128)               147584    \n",
      "_________________________________________________________________\n",
      "dense_1 (Dense)              (None, 10)                1290      \n",
      "=================================================================\n",
      "Total params: 184,234\n",
      "Trainable params: 184,234\n",
      "Non-trainable params: 0\n",
      "_________________________________________________________________\n"
     ]
    }
   ],
   "source": [
    "\n",
    "\n",
    "model = keras.models.Sequential()\n",
    "\n",
    "# 添加卷积层1\n",
    "model.add(keras.layers.Conv2D(filters=32, kernel_size=3, padding=\"same\",\n",
    "                              activation=\"selu\",\n",
    "                              input_shape=(28,28,1)\n",
    "                            ))\n",
    "\n",
    "\n",
    "model.add(keras.layers.SeparableConv2D(filters=32, kernel_size=3, padding=\"same\",\n",
    "                              activation=\"selu\"\n",
    "                            ))\n",
    "model.add(keras.layers.MaxPool2D(pool_size=2))\n",
    "\n",
    "# 添加卷积层2\n",
    "model.add(keras.layers.SeparableConv2D(filters=64, kernel_size=3, padding=\"same\",\n",
    "                              activation=\"selu\"\n",
    "                            ))\n",
    "\n",
    "\n",
    "model.add(keras.layers.SeparableConv2D(filters=64, kernel_size=3, padding=\"same\",\n",
    "                              activation=\"selu\"\n",
    "                            ))\n",
    "model.add(keras.layers.MaxPool2D(pool_size=2))\n",
    "\n",
    "# 添加卷积层1\n",
    "model.add(keras.layers.SeparableConv2D(filters=128, kernel_size=3, padding=\"same\",\n",
    "                              activation=\"selu\"\n",
    "                            ))\n",
    "\n",
    "\n",
    "model.add(keras.layers.SeparableConv2D(filters=128, kernel_size=3, padding=\"same\",\n",
    "                              activation=\"selu\"\n",
    "                            ))\n",
    "model.add(keras.layers.MaxPool2D(pool_size=2))\n",
    "\n",
    "# Flatten层用来将输入“压平”，即把多维的输入一维化，常用在从卷积层到全连接层的过渡。\n",
    "model.add(keras.layers.Flatten())\n",
    "\n",
    "# 全连接层\n",
    "model.add(keras.layers.Dense(128,activation=\"selu\"))\n",
    "\n",
    "# 输出层\n",
    "model.add(keras.layers.Dense(10,activation=\"softmax\"))\n",
    "\n",
    "\n",
    "\n",
    "\n",
    "#  计算交叉熵损失\n",
    "# reasone for sparse: y是一个单纯的数字(index),要变成one_hot编码\n",
    "# 如果y已经是一个向量了就用categorical_crossentropy\n",
    "# loss：损失函数 交叉熵损失\n",
    "# optmizer：优化器 sgd 越来越小\n",
    "# metrics:验证指标\n",
    "model.compile(loss=\"sparse_categorical_crossentropy\",optimizer = \"sgd\",metrics=[\"accuracy\"])\n",
    "\n",
    "\n",
    "model.summary()"
   ]
  },
  {
   "cell_type": "code",
   "execution_count": 5,
   "metadata": {},
   "outputs": [
    {
     "name": "stdout",
     "output_type": "stream",
     "text": [
      "Train on 55000 samples, validate on 5000 samples\n",
      "Epoch 1/10\n",
      "   32/55000 [..............................] - ETA: 1:36:59 - loss: 2.3026 - accuracy: 0.0625WARNING:tensorflow:Method (on_train_batch_end) is slow compared to the batch update (0.215881). Check your callbacks.\n",
      "55000/55000 [==============================] - 31s 559us/sample - loss: 0.5166 - accuracy: 0.8074 - val_loss: 0.3664 - val_accuracy: 0.8666\n",
      "Epoch 2/10\n",
      "55000/55000 [==============================] - 26s 480us/sample - loss: 0.3241 - accuracy: 0.8836 - val_loss: 0.3195 - val_accuracy: 0.8820\n",
      "Epoch 3/10\n",
      "55000/55000 [==============================] - 26s 480us/sample - loss: 0.2766 - accuracy: 0.9005 - val_loss: 0.2898 - val_accuracy: 0.8956\n",
      "Epoch 4/10\n",
      "55000/55000 [==============================] - 27s 487us/sample - loss: 0.2446 - accuracy: 0.9122 - val_loss: 0.2645 - val_accuracy: 0.9066\n",
      "Epoch 5/10\n",
      "55000/55000 [==============================] - 27s 485us/sample - loss: 0.2221 - accuracy: 0.9201 - val_loss: 0.2518 - val_accuracy: 0.9110\n",
      "Epoch 6/10\n",
      "55000/55000 [==============================] - 27s 487us/sample - loss: 0.2023 - accuracy: 0.9260 - val_loss: 0.2433 - val_accuracy: 0.9140\n",
      "Epoch 7/10\n",
      "55000/55000 [==============================] - 27s 485us/sample - loss: 0.1852 - accuracy: 0.9310 - val_loss: 0.2593 - val_accuracy: 0.9090\n",
      "Epoch 8/10\n",
      "55000/55000 [==============================] - 27s 485us/sample - loss: 0.1710 - accuracy: 0.9368 - val_loss: 0.2819 - val_accuracy: 0.9050\n",
      "Epoch 9/10\n",
      "55000/55000 [==============================] - 27s 487us/sample - loss: 0.1586 - accuracy: 0.9422 - val_loss: 0.2710 - val_accuracy: 0.9100\n",
      "Epoch 10/10\n",
      "55000/55000 [==============================] - 27s 488us/sample - loss: 0.1466 - accuracy: 0.9468 - val_loss: 0.2624 - val_accuracy: 0.9138\n"
     ]
    }
   ],
   "source": [
    "\n",
    "logdir=os.path.join('serparable-cnn-selu-callbacks')\n",
    "\n",
    "if not os.path.exists(logdir):\n",
    "    os.mkdir(logdir)\n",
    "\n",
    "outout_model_file = os.path.join(logdir,\"fashion_mnist_model.h5\")\n",
    "\n",
    "callbacks = [\n",
    "    keras.callbacks.TensorBoard(log_dir=logdir),\n",
    "    keras.callbacks.ModelCheckpoint(outout_model_file,save_best_only=True),\n",
    "    tf.keras.callbacks.EarlyStopping(min_delta=1e-3, patience=5)\n",
    "]\n",
    "\n",
    "history = model.fit(x_train_sacled,y_train,epochs=10,validation_data=(x_valid_scaled,y_valid),callbacks=callbacks)"
   ]
  },
  {
   "cell_type": "code",
   "execution_count": null,
   "metadata": {},
   "outputs": [],
   "source": [
    "def plot_learning_curves(history):\n",
    "    pd.DataFrame(history.history).plot(figsize=(8,5))\n",
    "    plt.grid(True)\n",
    "    plt.gca().set_ylim(0,1)\n",
    "    plt.show()"
   ]
  },
  {
   "cell_type": "code",
   "execution_count": null,
   "metadata": {
    "scrolled": true
   },
   "outputs": [],
   "source": [
    "plot_learning_curves(history)"
   ]
  },
  {
   "cell_type": "code",
   "execution_count": null,
   "metadata": {},
   "outputs": [],
   "source": [
    "model.evaluate(x_test_scaled,y_test)"
   ]
  },
  {
   "cell_type": "code",
   "execution_count": null,
   "metadata": {},
   "outputs": [],
   "source": []
  }
 ],
 "metadata": {
  "kernelspec": {
   "display_name": "Python [conda env:tf2]",
   "language": "python",
   "name": "conda-env-tf2-py"
  },
  "language_info": {
   "codemirror_mode": {
    "name": "ipython",
    "version": 3
   },
   "file_extension": ".py",
   "mimetype": "text/x-python",
   "name": "python",
   "nbconvert_exporter": "python",
   "pygments_lexer": "ipython3",
   "version": "3.7.7"
  }
 },
 "nbformat": 4,
 "nbformat_minor": 4
}

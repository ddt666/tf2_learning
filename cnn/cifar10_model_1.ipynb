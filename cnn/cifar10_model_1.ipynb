{
 "cells": [
  {
   "cell_type": "code",
   "execution_count": 1,
   "metadata": {
    "_cell_guid": "79c7e3d0-c299-4dcb-8224-4455121ee9b0",
    "_uuid": "d629ff2d2480ee46fbb7e2d37f6b5fab8052498a"
   },
   "outputs": [
    {
     "name": "stdout",
     "output_type": "stream",
     "text": [
      "True\n",
      "2.0.0\n",
      "sys.version_info(major=3, minor=7, micro=7, releaselevel='final', serial=0)\n",
      "matplotlib 3.2.2\n",
      "numpy 1.18.5\n",
      "pandas 1.0.5\n",
      "sklearn 0.21.2\n",
      "tensorflow 2.0.0\n",
      "tensorflow_core.keras 2.2.4-tf\n"
     ]
    }
   ],
   "source": [
    "import matplotlib as mpl\n",
    "import matplotlib.pyplot as plt\n",
    "%matplotlib inline\n",
    "import numpy as np\n",
    "import sklearn\n",
    "import pandas as pd\n",
    "import os\n",
    "import sys\n",
    "import time\n",
    "import tensorflow as tf\n",
    "\n",
    "from tensorflow import keras\n",
    "\n",
    "print(tf.test.is_gpu_available())\n",
    "print(tf.__version__)\n",
    "print(sys.version_info)\n",
    "\n",
    "for module in mpl,np,pd,sklearn,tf,keras:\n",
    "    print(module.__name__,module.__version__)"
   ]
  },
  {
   "cell_type": "code",
   "execution_count": 2,
   "metadata": {},
   "outputs": [
    {
     "name": "stdout",
     "output_type": "stream",
     "text": [
      "[('./data/cifar10/train_test/train/train/1.png', 'frog'),\n",
      " ('./data/cifar10/train_test/train/train/2.png', 'truck'),\n",
      " ('./data/cifar10/train_test/train/train/3.png', 'truck'),\n",
      " ('./data/cifar10/train_test/train/train/4.png', 'deer'),\n",
      " ('./data/cifar10/train_test/train/train/5.png', 'automobile')]\n",
      "[('./data/cifar10/train_test/test/test/1.png', 'cat'),\n",
      " ('./data/cifar10/train_test/test/test/2.png', 'cat'),\n",
      " ('./data/cifar10/train_test/test/test/3.png', 'cat'),\n",
      " ('./data/cifar10/train_test/test/test/4.png', 'cat'),\n",
      " ('./data/cifar10/train_test/test/test/5.png', 'cat')]\n",
      "50000 300000\n"
     ]
    }
   ],
   "source": [
    "class_names = [\n",
    "    'airplane',\n",
    "    'automobile',\n",
    "    'bird',\n",
    "    'cat',\n",
    "    'deer',\n",
    "    'dog',\n",
    "    'frog',\n",
    "    'horse',\n",
    "    'ship',\n",
    "    'truck',\n",
    "]\n",
    "\n",
    "train_lables_file = './data/cifar10/trainLabels.csv'\n",
    "test_csv_file = './data/cifar10/sampleSubmission.csv'\n",
    "train_folder = './data/cifar10/train_test/train/train/'\n",
    "test_folder = './data/cifar10/train_test/test/test/'\n",
    "\n",
    "def parse_csv_file(filepath, folder):\n",
    "    \"\"\"Parses csv files into (filename(path), label) format\"\"\"\n",
    "    results = []\n",
    "    with open(filepath, 'r') as f:\n",
    "        lines = f.readlines()[1:]\n",
    "    for line in lines:\n",
    "        image_id, label_str = line.strip('\\n').split(',')\n",
    "        image_full_path = os.path.join(folder, image_id + '.png')\n",
    "        results.append((image_full_path, label_str))\n",
    "    return results\n",
    "\n",
    "train_labels_info = parse_csv_file(train_lables_file, train_folder)\n",
    "test_csv_info = parse_csv_file(test_csv_file, test_folder)\n",
    "\n",
    "import pprint\n",
    "pprint.pprint(train_labels_info[0:5])\n",
    "pprint.pprint(test_csv_info[0:5])\n",
    "print(len(train_labels_info), len(test_csv_info))"
   ]
  },
  {
   "cell_type": "code",
   "execution_count": 3,
   "metadata": {},
   "outputs": [
    {
     "name": "stdout",
     "output_type": "stream",
     "text": [
      "                                      filepath       class\n",
      "0  ./data/cifar10/train_test/train/train/1.png        frog\n",
      "1  ./data/cifar10/train_test/train/train/2.png       truck\n",
      "2  ./data/cifar10/train_test/train/train/3.png       truck\n",
      "3  ./data/cifar10/train_test/train/train/4.png        deer\n",
      "4  ./data/cifar10/train_test/train/train/5.png  automobile\n",
      "                                          filepath       class\n",
      "0  ./data/cifar10/train_test/train/train/45001.png       horse\n",
      "1  ./data/cifar10/train_test/train/train/45002.png  automobile\n",
      "2  ./data/cifar10/train_test/train/train/45003.png        deer\n",
      "3  ./data/cifar10/train_test/train/train/45004.png  automobile\n",
      "4  ./data/cifar10/train_test/train/train/45005.png    airplane\n",
      "                                    filepath class\n",
      "0  ./data/cifar10/train_test/test/test/1.png   cat\n",
      "1  ./data/cifar10/train_test/test/test/2.png   cat\n",
      "2  ./data/cifar10/train_test/test/test/3.png   cat\n",
      "3  ./data/cifar10/train_test/test/test/4.png   cat\n",
      "4  ./data/cifar10/train_test/test/test/5.png   cat\n"
     ]
    }
   ],
   "source": [
    "# train_df = pd.DataFrame(train_labels_info)\n",
    "train_df = pd.DataFrame(train_labels_info[0:45000])\n",
    "valid_df = pd.DataFrame(train_labels_info[45000:])\n",
    "test_df = pd.DataFrame(test_csv_info)\n",
    "\n",
    "# 设定列名\n",
    "train_df.columns = ['filepath', 'class']\n",
    "valid_df.columns = ['filepath', 'class']\n",
    "test_df.columns = ['filepath', 'class']\n",
    "\n",
    "print(train_df.head())\n",
    "print(valid_df.head())\n",
    "print(test_df.head())"
   ]
  },
  {
   "cell_type": "code",
   "execution_count": 4,
   "metadata": {},
   "outputs": [],
   "source": [
    "height = 32\n",
    "width = 32\n",
    "channels = 3\n",
    "batch_size = 32\n",
    "num_classes = 10\n",
    "\n",
    "# 训练集\n",
    "train_datagen = keras.preprocessing.image.ImageDataGenerator(\n",
    "    rescale=1./255, # 每个像素点都是0到255的值，处理后得到一个0~1的数\n",
    "    rotation_range=40,# 图像随机旋转的角度-40~40度之间\n",
    "    width_shift_range=0.2,# 水平方向平移0~20% >1是像素值,<1是比例\n",
    "    height_shift_range=0.2, # 垂直方向平移0~20% >1是像素值,<1是比例\n",
    "    shear_range=0.2, # 剪切强度\n",
    "    zoom_range=0.2, # 缩放强度\n",
    "    horizontal_flip=True, # 水平翻转\n",
    "    fill_mode=\"nearest\", # 图像放大后填充像素的方式，“nearrest”:邻近像素填充\n",
    "\n",
    ")"
   ]
  },
  {
   "cell_type": "code",
   "execution_count": 5,
   "metadata": {},
   "outputs": [
    {
     "name": "stdout",
     "output_type": "stream",
     "text": [
      "Found 45000 validated image filenames belonging to 10 classes.\n"
     ]
    },
    {
     "data": {
      "text/plain": [
       "45000"
      ]
     },
     "execution_count": 5,
     "metadata": {},
     "output_type": "execute_result"
    }
   ],
   "source": [
    "# class_mode=\"categorical\":目标值输出的是onehot编码\n",
    "# class_mode=\"sparse\":目标值输出的类别的索引值数字\n",
    "\n",
    "train_generrator = train_datagen.flow_from_dataframe(\n",
    "                                            train_df,\n",
    "    directory=\"./\",\n",
    "    x_col=\"filepath\",\n",
    "    y_col=\"class\",\n",
    "    classes=class_names,\n",
    "    target_size=(height,width),batch_size=batch_size,seed=7,shuffle=True,class_mode=\"sparse\"\n",
    ")\n",
    "\n",
    "\n",
    "\n",
    "# 训练集样本数\n",
    "train_generrator.samples"
   ]
  },
  {
   "cell_type": "code",
   "execution_count": 6,
   "metadata": {},
   "outputs": [],
   "source": [
    "train_num = train_generrator.samples"
   ]
  },
  {
   "cell_type": "code",
   "execution_count": 7,
   "metadata": {},
   "outputs": [
    {
     "name": "stdout",
     "output_type": "stream",
     "text": [
      "Found 5000 validated image filenames belonging to 10 classes.\n"
     ]
    },
    {
     "data": {
      "text/plain": [
       "5000"
      ]
     },
     "execution_count": 7,
     "metadata": {},
     "output_type": "execute_result"
    }
   ],
   "source": [
    "# 验证集\n",
    "valid_datagen = keras.preprocessing.image.ImageDataGenerator(\n",
    "    rescale=1./255, # 每个像素点都是0到255的值，处理后得到一个0~1的数\n",
    ")\n",
    "vaild_generrator = train_datagen.flow_from_dataframe(valid_df,\n",
    "                                                    directory=\"./\",\n",
    "                                                    x_col=\"filepath\",\n",
    "                                                    y_col=\"class\",\n",
    "                                                    classes=class_names,\n",
    "                                                    target_size=(height,width),\n",
    "                                                     batch_size=batch_size,\n",
    "                                                     seed=7,\n",
    "                                                     shuffle=True,\n",
    "                                                     class_mode=\"sparse\")\n",
    "\n",
    "# 验证集样本数\n",
    "vaild_generrator.samples"
   ]
  },
  {
   "cell_type": "code",
   "execution_count": 8,
   "metadata": {},
   "outputs": [],
   "source": [
    "valid_num = train_generrator.samples"
   ]
  },
  {
   "cell_type": "code",
   "execution_count": 9,
   "metadata": {},
   "outputs": [
    {
     "name": "stdout",
     "output_type": "stream",
     "text": [
      "(32, 32, 32, 3) (32,)\n",
      "[2. 1. 4. 4. 4. 4. 6. 5. 2. 8. 4. 6. 6. 3. 7. 1. 7. 2. 8. 8. 3. 0. 5. 3.\n",
      " 9. 1. 4. 5. 6. 7. 9. 2.]\n",
      "(32, 32, 32, 3) (32,)\n",
      "[0. 7. 2. 7. 5. 5. 7. 0. 5. 4. 9. 7. 6. 3. 0. 4. 4. 4. 6. 3. 5. 4. 6. 6.\n",
      " 4. 1. 8. 2. 4. 4. 3. 0.]\n"
     ]
    }
   ],
   "source": [
    "for i in range(2):\n",
    "    x,y = train_generrator.next()\n",
    "    print(x.shape,y.shape)\n",
    "    print(y)"
   ]
  },
  {
   "cell_type": "code",
   "execution_count": 10,
   "metadata": {},
   "outputs": [
    {
     "name": "stdout",
     "output_type": "stream",
     "text": [
      "Model: \"sequential\"\n",
      "_________________________________________________________________\n",
      "Layer (type)                 Output Shape              Param #   \n",
      "=================================================================\n",
      "conv2d (Conv2D)              (None, 32, 32, 128)       3584      \n",
      "_________________________________________________________________\n",
      "batch_normalization (BatchNo (None, 32, 32, 128)       512       \n",
      "_________________________________________________________________\n",
      "conv2d_1 (Conv2D)            (None, 32, 32, 128)       147584    \n",
      "_________________________________________________________________\n",
      "batch_normalization_1 (Batch (None, 32, 32, 128)       512       \n",
      "_________________________________________________________________\n",
      "max_pooling2d (MaxPooling2D) (None, 16, 16, 128)       0         \n",
      "_________________________________________________________________\n",
      "conv2d_2 (Conv2D)            (None, 16, 16, 256)       295168    \n",
      "_________________________________________________________________\n",
      "batch_normalization_2 (Batch (None, 16, 16, 256)       1024      \n",
      "_________________________________________________________________\n",
      "conv2d_3 (Conv2D)            (None, 16, 16, 256)       590080    \n",
      "_________________________________________________________________\n",
      "batch_normalization_3 (Batch (None, 16, 16, 256)       1024      \n",
      "_________________________________________________________________\n",
      "max_pooling2d_1 (MaxPooling2 (None, 8, 8, 256)         0         \n",
      "_________________________________________________________________\n",
      "conv2d_4 (Conv2D)            (None, 8, 8, 512)         1180160   \n",
      "_________________________________________________________________\n",
      "batch_normalization_4 (Batch (None, 8, 8, 512)         2048      \n",
      "_________________________________________________________________\n",
      "conv2d_5 (Conv2D)            (None, 8, 8, 512)         2359808   \n",
      "_________________________________________________________________\n",
      "batch_normalization_5 (Batch (None, 8, 8, 512)         2048      \n",
      "_________________________________________________________________\n",
      "max_pooling2d_2 (MaxPooling2 (None, 4, 4, 512)         0         \n",
      "_________________________________________________________________\n",
      "flatten (Flatten)            (None, 8192)              0         \n",
      "_________________________________________________________________\n",
      "dense (Dense)                (None, 512)               4194816   \n",
      "_________________________________________________________________\n",
      "dense_1 (Dense)              (None, 10)                5130      \n",
      "=================================================================\n",
      "Total params: 8,783,498\n",
      "Trainable params: 8,779,914\n",
      "Non-trainable params: 3,584\n",
      "_________________________________________________________________\n"
     ]
    }
   ],
   "source": [
    "# 定义卷积神经网络模型\n",
    "model = keras.models.Sequential([\n",
    "    keras.layers.Conv2D(filters=128,kernel_size=3,padding=\"same\",activation=\"relu\",input_shape=[width,height,channels]),\n",
    "    # 层次比较深，为了训练更快，在每个卷积层后面使用批归一化    \n",
    "    keras.layers.BatchNormalization(),\n",
    "    \n",
    "    keras.layers.Conv2D(filters=128, kernel_size=3, padding=\"same\",\n",
    "                              activation=\"relu\"),\n",
    "     # 层次比较深，为了训练更快，在每个卷积层后面使用批归一化    \n",
    "    keras.layers.BatchNormalization(),\n",
    "    \n",
    "    keras.layers.MaxPool2D(pool_size=2),\n",
    "    \n",
    "   \n",
    "\n",
    "    # 添加卷积层2\n",
    "    keras.layers.Conv2D(filters=256, kernel_size=3, padding=\"same\",\n",
    "                                  activation=\"relu\"\n",
    "                                ),\n",
    "\n",
    "     # 层次比较深，为了训练更快，在每个卷积层后面使用批归一化    \n",
    "    keras.layers.BatchNormalization(),\n",
    "    \n",
    "    keras.layers.Conv2D(filters=256, kernel_size=3, padding=\"same\",\n",
    "                              activation=\"relu\"\n",
    "                            ),\n",
    "    # 层次比较深，为了训练更快，在每个卷积层后面使用批归一化    \n",
    "    keras.layers.BatchNormalization(),\n",
    "    \n",
    "    keras.layers.MaxPool2D(pool_size=2),\n",
    "    \n",
    "    \n",
    "    \n",
    "    # 添加卷积层3\n",
    "    keras.layers.Conv2D(filters=512, kernel_size=3, padding=\"same\",\n",
    "                                  activation=\"relu\"\n",
    "                                ),\n",
    "    # 层次比较深，为了训练更快，在每个卷积层后面使用批归一化    \n",
    "    keras.layers.BatchNormalization(),\n",
    "\n",
    "    keras.layers.Conv2D(filters=512, kernel_size=3, padding=\"same\",\n",
    "                              activation=\"relu\"\n",
    "                            ),\n",
    "    # 层次比较深，为了训练更快，在每个卷积层后面使用批归一化    \n",
    "    keras.layers.BatchNormalization(),\n",
    "    \n",
    "    keras.layers.MaxPool2D(pool_size=2),\n",
    "    \n",
    "   \n",
    "    # Flatten层用来将输入“压平”，即把多维的输入一维化，常用在从卷积层到全连接层的过渡。\n",
    "    keras.layers.Flatten(),\n",
    "\n",
    "    # 全连接层\n",
    "    keras.layers.Dense(512,activation=\"relu\"),\n",
    "\n",
    "    # 输出层\n",
    "    keras.layers.Dense(num_classes,activation=\"softmax\")\n",
    "])\n",
    "\n",
    "\n",
    "#  计算交叉熵损失\n",
    "# reasone for sparse: y是一个单纯的数字(index),要变成one_hot编码\n",
    "# 如果y已经是一个向量了就用categorical_crossentropy\n",
    "# loss：损失函数 交叉熵损失\n",
    "# optmizer：优化器 sgd 越来越小\n",
    "# metrics:验证指标\n",
    "\n",
    "# 取数据是用class_mode:sparse对应的损失函数是sparse_categorical_crossentropy\n",
    "# 取数据是用class_mode:categorical对应的损失函数是categorical_crossentropy\n",
    "model.compile(loss=\"sparse_categorical_crossentropy\",optimizer = \"adam\",metrics=[\"accuracy\"])\n",
    "model.summary()"
   ]
  },
  {
   "cell_type": "code",
   "execution_count": 11,
   "metadata": {
    "scrolled": true
   },
   "outputs": [
    {
     "name": "stdout",
     "output_type": "stream",
     "text": [
      "Epoch 1/20\n",
      "1406/1406 [==============================] - 253s 180ms/step - loss: 2.1389 - accuracy: 0.3252 - val_loss: 1.7042 - val_accuracy: 0.4082\n",
      "Epoch 2/20\n",
      "1406/1406 [==============================] - 252s 179ms/step - loss: 1.5191 - accuracy: 0.4512 - val_loss: 1.7900 - val_accuracy: 0.3961\n",
      "Epoch 3/20\n",
      "1406/1406 [==============================] - 251s 179ms/step - loss: 1.3346 - accuracy: 0.5227 - val_loss: 1.2882 - val_accuracy: 0.5481\n",
      "Epoch 4/20\n",
      "1406/1406 [==============================] - 251s 179ms/step - loss: 1.1636 - accuracy: 0.5932 - val_loss: 1.1371 - val_accuracy: 0.6084\n",
      "Epoch 5/20\n",
      "1406/1406 [==============================] - 256s 182ms/step - loss: 1.0305 - accuracy: 0.6412 - val_loss: 1.1391 - val_accuracy: 0.6031\n",
      "Epoch 6/20\n",
      "1406/1406 [==============================] - 247s 175ms/step - loss: 0.9315 - accuracy: 0.6801 - val_loss: 0.9161 - val_accuracy: 0.6906\n",
      "Epoch 7/20\n",
      "1406/1406 [==============================] - 246s 175ms/step - loss: 0.8536 - accuracy: 0.7090 - val_loss: 1.0196 - val_accuracy: 0.6574\n",
      "Epoch 8/20\n",
      "1406/1406 [==============================] - 247s 175ms/step - loss: 0.7845 - accuracy: 0.7323 - val_loss: 0.7735 - val_accuracy: 0.7383\n",
      "Epoch 9/20\n",
      "1406/1406 [==============================] - 247s 175ms/step - loss: 0.7413 - accuracy: 0.7473 - val_loss: 1.0132 - val_accuracy: 0.6601\n",
      "Epoch 10/20\n",
      "1406/1406 [==============================] - 246s 175ms/step - loss: 0.7035 - accuracy: 0.7605 - val_loss: 0.7469 - val_accuracy: 0.7449\n",
      "Epoch 11/20\n",
      "1406/1406 [==============================] - 245s 175ms/step - loss: 0.6649 - accuracy: 0.7732 - val_loss: 0.7492 - val_accuracy: 0.7455\n",
      "Epoch 12/20\n",
      "1406/1406 [==============================] - 249s 177ms/step - loss: 0.6264 - accuracy: 0.7856 - val_loss: 0.7452 - val_accuracy: 0.7468\n",
      "Epoch 13/20\n",
      "1406/1406 [==============================] - 247s 176ms/step - loss: 0.6064 - accuracy: 0.7937 - val_loss: 0.7943 - val_accuracy: 0.7380\n",
      "Epoch 14/20\n",
      "1406/1406 [==============================] - 247s 175ms/step - loss: 0.5847 - accuracy: 0.8010 - val_loss: 0.6527 - val_accuracy: 0.7778\n",
      "Epoch 15/20\n",
      "1406/1406 [==============================] - 246s 175ms/step - loss: 0.5599 - accuracy: 0.8085 - val_loss: 0.6417 - val_accuracy: 0.7856\n",
      "Epoch 16/20\n",
      "1406/1406 [==============================] - 246s 175ms/step - loss: 0.5318 - accuracy: 0.8196 - val_loss: 0.6159 - val_accuracy: 0.7919\n",
      "Epoch 17/20\n",
      "1406/1406 [==============================] - 247s 176ms/step - loss: 0.5205 - accuracy: 0.8217 - val_loss: 0.6936 - val_accuracy: 0.7731\n",
      "Epoch 18/20\n",
      "1406/1406 [==============================] - 247s 175ms/step - loss: 0.4972 - accuracy: 0.8313 - val_loss: 0.6380 - val_accuracy: 0.7906\n",
      "Epoch 19/20\n",
      "1406/1406 [==============================] - 246s 175ms/step - loss: 0.4777 - accuracy: 0.8379 - val_loss: 0.6133 - val_accuracy: 0.7917\n",
      "Epoch 20/20\n",
      "1406/1406 [==============================] - 247s 175ms/step - loss: 0.4722 - accuracy: 0.8392 - val_loss: 0.6055 - val_accuracy: 0.7982\n"
     ]
    }
   ],
   "source": [
    "epochs = 20\n",
    "history = model.fit_generator(train_generrator,\n",
    "                             steps_per_epoch= train_num // batch_size,\n",
    "                              epochs=epochs,\n",
    "                              validation_data= vaild_generrator,\n",
    "                              validation_steps= valid_num // batch_size\n",
    "                             )"
   ]
  },
  {
   "cell_type": "code",
   "execution_count": 12,
   "metadata": {},
   "outputs": [
    {
     "data": {
      "text/plain": [
       "dict_keys(['loss', 'accuracy', 'val_loss', 'val_accuracy'])"
      ]
     },
     "execution_count": 12,
     "metadata": {},
     "output_type": "execute_result"
    }
   ],
   "source": [
    "history.history.keys()"
   ]
  },
  {
   "cell_type": "code",
   "execution_count": 13,
   "metadata": {},
   "outputs": [
    {
     "data": {
      "image/png": "[encoded data removed]",
      "text/plain": [
       "<Figure size 576x360 with 1 Axes>"
      ]
     },
     "metadata": {
      "needs_background": "light"
     },
     "output_type": "display_data"
    },
    {
     "data": {
      "image/png": "[encoded data removed]",
      "text/plain": [
       "<Figure size 576x360 with 1 Axes>"
      ]
     },
     "metadata": {
      "needs_background": "light"
     },
     "output_type": "display_data"
    }
   ],
   "source": [
    "def plot_learning_curvse(history,label,epochs, min_value, max_value):\n",
    "    data = {}\n",
    "    data[label] = history.history[label]\n",
    "    data[\"val_\" + label] = history.history[\"val_\" + label]\n",
    "    pd.DataFrame(data).plot(figsize=(8,5))\n",
    "    plt.grid(True)\n",
    "    plt.axis([0, epochs,min_value,max_value])\n",
    "    plt.show()\n",
    "    \n",
    "plot_learning_curvse(history,\"accuracy\",epochs,0,1)\n",
    "plot_learning_curvse(history,\"loss\",epochs,1.3,2.5)"
   ]
  },
  {
   "cell_type": "code",
   "execution_count": 14,
   "metadata": {},
   "outputs": [
    {
     "name": "stdout",
     "output_type": "stream",
     "text": [
      "Found 300000 validated image filenames belonging to 10 classes.\n",
      "300000\n"
     ]
    }
   ],
   "source": [
    "test_datagen = keras.preprocessing.image.ImageDataGenerator(\n",
    "    rescale = 1./255)\n",
    "test_generator = valid_datagen.flow_from_dataframe(\n",
    "    test_df,\n",
    "    directory = './',\n",
    "    x_col = 'filepath',\n",
    "    y_col = 'class',\n",
    "    classes = class_names,\n",
    "    target_size = (height, width),\n",
    "    batch_size = batch_size,\n",
    "    seed = 7,\n",
    "    shuffle = False,\n",
    "    class_mode = \"sparse\")\n",
    "test_num = test_generator.samples\n",
    "print(test_num)"
   ]
  },
  {
   "cell_type": "code",
   "execution_count": 15,
   "metadata": {
    "scrolled": true
   },
   "outputs": [],
   "source": [
    "# workers并行数，use_multiprocessing是否开启进程\n",
    "test_predict = model.predict_generator(test_generator,\n",
    "                                       workers = 10,\n",
    "                                       \n",
    "                                       use_multiprocessing = False)"
   ]
  },
  {
   "cell_type": "code",
   "execution_count": 16,
   "metadata": {},
   "outputs": [
    {
     "name": "stdout",
     "output_type": "stream",
     "text": [
      "(300000, 10)\n"
     ]
    }
   ],
   "source": [
    "print(test_predict.shape)"
   ]
  },
  {
   "cell_type": "code",
   "execution_count": 17,
   "metadata": {},
   "outputs": [
    {
     "name": "stdout",
     "output_type": "stream",
     "text": [
      "[[6.5585703e-02 2.5609169e-02 3.7356269e-02 8.3760582e-02 2.7500901e-01\n",
      "  2.3800941e-02 1.1668644e-01 3.3312377e-02 3.4286082e-02 3.0459344e-01]\n",
      " [9.6854848e-01 3.5938638e-06 2.2952257e-02 3.7070189e-04 4.9403505e-03\n",
      "  7.9052123e-05 9.9690992e-04 5.6254496e-05 1.9654655e-03 8.6922671e-05]\n",
      " [9.2765222e-05 9.6755958e-01 4.8420894e-08 3.3908182e-07 4.6842223e-09\n",
      "  4.4672448e-09 4.4319435e-07 5.9997795e-08 6.9117136e-06 3.2339979e-02]\n",
      " [5.0621995e-05 1.9062282e-06 2.6192333e-07 6.0558082e-06 1.1391654e-06\n",
      "  1.3675279e-08 1.0190122e-05 2.9555565e-06 9.9989641e-01 3.0392799e-05]\n",
      " [9.8996443e-01 9.0991052e-06 2.5701420e-03 5.3480075e-04 1.8905876e-03\n",
      "  1.7933325e-04 2.0376308e-04 1.9217643e-04 4.1514840e-03 3.0424175e-04]]\n"
     ]
    }
   ],
   "source": [
    "print(test_predict[0:5])\n",
    "# 得到每个类别的概率分布"
   ]
  },
  {
   "cell_type": "code",
   "execution_count": 18,
   "metadata": {},
   "outputs": [],
   "source": [
    "# 取最大概率值的索引值\n",
    "test_predict_class_indices = np.argmax(test_predict, axis = 1)"
   ]
  },
  {
   "cell_type": "code",
   "execution_count": 19,
   "metadata": {},
   "outputs": [
    {
     "name": "stdout",
     "output_type": "stream",
     "text": [
      "[9 0 1 8 0]\n"
     ]
    }
   ],
   "source": [
    "print(test_predict_class_indices[0:5])"
   ]
  },
  {
   "cell_type": "code",
   "execution_count": 20,
   "metadata": {},
   "outputs": [],
   "source": [
    "test_predict_class = [class_names[index] \n",
    "                      for index in test_predict_class_indices]"
   ]
  },
  {
   "cell_type": "code",
   "execution_count": 21,
   "metadata": {},
   "outputs": [
    {
     "name": "stdout",
     "output_type": "stream",
     "text": [
      "['truck', 'airplane', 'automobile', 'ship', 'airplane']\n"
     ]
    }
   ],
   "source": [
    "print(test_predict_class[0:5])"
   ]
  },
  {
   "cell_type": "code",
   "execution_count": 22,
   "metadata": {},
   "outputs": [],
   "source": [
    "def generate_submissions(filename, predict_class):\n",
    "    \"\"\"将预测结果写入submission.csv\"\"\"\n",
    "    with open(filename, 'w') as f:\n",
    "        f.write('id,label\\n')\n",
    "        for i in range(len(predict_class)):\n",
    "            f.write('%d,%s\\n' % (i+1, predict_class[i]))\n",
    "\n",
    "output_file = \"./data/cifar10/submission.csv\"\n",
    "generate_submissions(output_file, test_predict_class)"
   ]
  }
 ],
 "metadata": {
  "kernelspec": {
   "display_name": "Python [conda env:tf2]",
   "language": "python",
   "name": "conda-env-tf2-py"
  },
  "language_info": {
   "codemirror_mode": {
    "name": "ipython",
    "version": 3
   },
   "file_extension": ".py",
   "mimetype": "text/x-python",
   "name": "python",
   "nbconvert_exporter": "python",
   "pygments_lexer": "ipython3",
   "version": "3.7.7"
  }
 },
 "nbformat": 4,
 "nbformat_minor": 4
}

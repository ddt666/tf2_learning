{
 "cells": [
  {
   "cell_type": "code",
   "execution_count": 1,
   "metadata": {},
   "outputs": [
    {
     "name": "stdout",
     "output_type": "stream",
     "text": [
      "True\n",
      "2.0.0\n",
      "sys.version_info(major=3, minor=7, micro=7, releaselevel='final', serial=0)\n",
      "matplotlib 3.2.2\n",
      "numpy 1.18.5\n",
      "pandas 1.0.5\n",
      "sklearn 0.21.2\n",
      "tensorflow 2.0.0\n",
      "tensorflow_core.keras 2.2.4-tf\n"
     ]
    }
   ],
   "source": [
    "import matplotlib as mpl\n",
    "import matplotlib.pyplot as plt\n",
    "%matplotlib inline\n",
    "import numpy as np\n",
    "import sklearn\n",
    "import pandas as pd\n",
    "import os\n",
    "import sys\n",
    "import time\n",
    "import tensorflow as tf\n",
    "\n",
    "from tensorflow import keras\n",
    "\n",
    "\n",
    "print(tf.test.is_gpu_available())\n",
    "print(tf.__version__)\n",
    "print(sys.version_info)\n",
    "\n",
    "for module in mpl,np,pd,sklearn,tf,keras:\n",
    "    print(module.__name__,module.__version__)"
   ]
  },
  {
   "cell_type": "code",
   "execution_count": 2,
   "metadata": {},
   "outputs": [
    {
     "name": "stdout",
     "output_type": "stream",
     "text": [
      ".. _california_housing_dataset:\n",
      "\n",
      "California Housing dataset\n",
      "--------------------------\n",
      "\n",
      "**Data Set Characteristics:**\n",
      "\n",
      "    :Number of Instances: 20640\n",
      "\n",
      "    :Number of Attributes: 8 numeric, predictive attributes and the target\n",
      "\n",
      "    :Attribute Information:\n",
      "        - MedInc        median income in block\n",
      "        - HouseAge      median house age in block\n",
      "        - AveRooms      average number of rooms\n",
      "        - AveBedrms     average number of bedrooms\n",
      "        - Population    block population\n",
      "        - AveOccup      average house occupancy\n",
      "        - Latitude      house block latitude\n",
      "        - Longitude     house block longitude\n",
      "\n",
      "    :Missing Attribute Values: None\n",
      "\n",
      "This dataset was obtained from the StatLib repository.\n",
      "http://lib.stat.cmu.edu/datasets/\n",
      "\n",
      "The target variable is the median house value for California districts.\n",
      "\n",
      "This dataset was derived from the 1990 U.S. census, using one row per census\n",
      "block group. A block group is the smallest geographical unit for which the U.S.\n",
      "Census Bureau publishes sample data (a block group typically has a population\n",
      "of 600 to 3,000 people).\n",
      "\n",
      "It can be downloaded/loaded using the\n",
      ":func:`sklearn.datasets.fetch_california_housing` function.\n",
      "\n",
      ".. topic:: References\n",
      "\n",
      "    - Pace, R. Kelley and Ronald Barry, Sparse Spatial Autoregressions,\n",
      "      Statistics and Probability Letters, 33 (1997) 291-297\n",
      "\n",
      "(20640, 8)\n",
      "(20640,)\n"
     ]
    }
   ],
   "source": [
    "from sklearn.datasets import fetch_california_housing\n",
    "\n",
    "housing = fetch_california_housing()\n",
    "print(housing.DESCR)\n",
    "print(housing.data.shape)\n",
    "print(housing.target.shape)"
   ]
  },
  {
   "cell_type": "code",
   "execution_count": 3,
   "metadata": {
    "scrolled": true
   },
   "outputs": [
    {
     "name": "stdout",
     "output_type": "stream",
     "text": [
      "(11610, 8) (11610,)\n",
      "(3870, 8) (3870,)\n",
      "(5160, 8) (5160,)\n"
     ]
    }
   ],
   "source": [
    "from sklearn.model_selection import train_test_split\n",
    "\n",
    "x_train_all,x_test,y_train_all,y_test = train_test_split(housing.data,housing.target,random_state=7)\n",
    "\n",
    "x_train,x_valid,y_train,y_vaild=train_test_split(x_train_all,y_train_all,random_state=11)\n",
    "\n",
    "print(x_train.shape,y_train.shape)\n",
    "print(x_valid.shape,y_vaild.shape)\n",
    "print(x_test.shape,y_test.shape)"
   ]
  },
  {
   "cell_type": "code",
   "execution_count": 4,
   "metadata": {},
   "outputs": [],
   "source": [
    "# 数据标准化\n",
    "\n",
    "from sklearn.preprocessing import StandardScaler\n",
    "\n",
    "saclar = StandardScaler()\n",
    "x_train_sacled = saclar.fit_transform(x_train)\n",
    "x_valid_sacled = saclar.transform(x_valid)\n",
    "x_test_sacled=saclar.transform(x_test)"
   ]
  },
  {
   "cell_type": "code",
   "execution_count": 5,
   "metadata": {},
   "outputs": [
    {
     "name": "stdout",
     "output_type": "stream",
     "text": [
      "tf.Tensor(9.0, shape=(), dtype=float32)\n",
      "tf.Tensor(5.0, shape=(), dtype=float32)\n",
      "tf.Tensor(5.0, shape=(), dtype=float32)\n",
      "tf.Tensor(4.0, shape=(), dtype=float32)\n"
     ]
    }
   ],
   "source": [
    "# metric使用\n",
    "# 均方差\n",
    "metric = keras.metrics.MeanSquaredError()\n",
    "print(metric([5.],[2]))\n",
    "print(metric([0.],[1.]))\n",
    "# 可以累加\n",
    "print(metric.result())\n",
    "\n",
    "# 不累加\n",
    "metric.reset_states()\n",
    "\n",
    "print(metric([1.],[3]))"
   ]
  },
  {
   "cell_type": "code",
   "execution_count": 6,
   "metadata": {},
   "outputs": [
    {
     "name": "stdout",
     "output_type": "stream",
     "text": [
      "WARNING:tensorflow:Layer dense is casting an input tensor from dtype float64 to the layer's dtype of float32, which is new behavior in TensorFlow 2.  The layer has dtype float32 because it's dtype defaults to floatx.\n",
      "\n",
      "If you intended to run this layer in float32, you can safely ignore this warning. If in doubt, this warning is likely only an issue if you are porting a TensorFlow 1.X model to TensorFlow 2.\n",
      "\n",
      "To change all layers to have dtype float64 by default, call `tf.keras.backend.set_floatx('float64')`. To change just this layer, pass dtype='float64' to the layer constructor. If you are the author of this layer, you can disable autocasting by passing autocast=False to the base Layer constructor.\n",
      "\n",
      "Epoch 0 train mse: 1.7637064\t valid mse: 5.072939349954521 mse: 2.4532516 0 train mse: 2.1564357 0 train mse: 1.9521608 0 train mse: 1.8144933 0 train mse: 1.7618549 0 train mse: 1.7295204 0 train mse: 1.7041945 0 train mse: 1.6288625 0 train mse: 1.8373284 0 train mse: 1.8038394 0 train mse: 1.7903012\n",
      "Epoch 1 train mse: nan\t valid mse: nanmse: 1.3456103 1 train mse: 1.4032915 1 train mse: 1.4431543 1 train mse: 1.4122431 1 train mse: 1.382667 1 train mse: 1.394864 1 train mse: 1.4556907 1 train mse: 1.4611329 1 train mse: nan 1 train mse: nantrain mse: nan 1 train mse: nan 1 train mse: nan 1 train mse: nan train mse: nan\n",
      "Epoch 2 train mse: nan\t valid mse: nann 2 train mse: nan 2 train mse: nan 2 train mse: nan 2 train mse: nan 2 train mse: nan 2 train mse: nan 2 train mse: nan 2 train mse: nannan 2 train mse: nan 2 train mse: nan\n",
      "Epoch 3 train mse: nan\t valid mse: nann 3 train mse: nan 3 train mse: nan 3 train mse: nan 3 train mse: nan 3 train mse: nan 3 train mse: nan 3 train mse: nan 3 train mse: nan 3 train mse: nan 3 train mse: nan\n",
      "Epoch 4 train mse: nan\t4 train mse: nan 4 train mse: nan 4 train mse: nannan 4 train mse: nan 4 train mse: nan 4 train mse: nan 4 train mse: nan 4 train mse: nan 4 train mse: nan 4 train mse: nan 4 train mse: nan valid mse: nan\n",
      "Epoch 5 train mse: nan\t valid mse: nann 5 train mse: nan 5 train mse: nan 5 train mse: nan 5 train mse: nan 5 train mse: nan 5 train mse: nan 5 train mse: nan 5 train mse: nan 5 train mse: nan 5 train mse: nan 5 train mse: nan\n",
      "Epoch 6 train mse: nan\t valid mse: nann train mse: nan 6 train mse: nan 6 train mse: nan 6 train mse: nan 6 train mse: nan 6 train mse: nan 6 train mse: nan 6 train mse: nan 6 train mse: nan 6 train mse: nan 6 train mse: nan 6 train mse: nan\n",
      "Epoch 7 train mse: nan\t valid mse: nann 7 train mse: nan 7 train mse: nan 7 train mse: nan 7 train mse: nan 7 train mse: nan 7 train mse: nan 7 train mse: nan 7 train mse: nan 7 train mse: nan 7 train mse: nan 7 train mse: nan\n",
      "Epoch 8 train mse: nan\t valid mse: nann 8 train mse: nan 8 train mse: nan 8 train mse: nan 8 train mse: nan 8 train mse: nan 8 train mse: nan 8 train mse: nan\n",
      "Epoch 9 train mse: nan\t valid mse: nann 9 train mse: nan 9 train mse: nan 9 train mse: nan 9 train mse: nan 9 train mse: nan 9 train mse: nan 9 train mse: nan 9 train mse: nan 9 train mse: nan 9 train mse: nan 9 train mse: nan 9 train mse: nan\n",
      "Epoch 10 train mse: nan\t valid mse: nanan 10 train mse: nan 10 train mse: nan 10 train mse: nan 10 train mse: nan 10 train mse: nan 10 train mse: nan 10 train mse: nan 10 train mse: nan 10 train mse: nan 10 train mse: nan 10 train mse: nan 10 train mse: nan\n",
      "Epoch 11 train mse: nan\t valid mse: nanan 11 train mse: nan train mse: nan 11 train mse: nannan 11 train mse: nan 11 train mse: nan 11 train mse: nan 11 train mse: nantrain mse: nan 11 train mse: nan\n",
      "Epoch 12 train mse: nan\tnan 12 train mse: nan 12 train mse: nan 12 train mse: nan 12 train mse: nan 12 train mse: nan 12 train mse: nan 12 train mse: nan 12 train mse: nan12 train mse: nan 12 train mse: nan 12 train mse: nan 12 train mse: nan valid mse: nan\n",
      "Epoch 13 train mse: nan\t valid mse: nanan 13 train mse: nan 13 train mse: nan 13 train mse: nan 13 train mse: nan 13 train mse: nan 13 train mse: nan 13 train mse: nan 13 train mse: nan 13 train mse: nan 13 train mse: nan 13 train mse: nan\n",
      "Epoch 14 train mse: nan\t valid mse: nanan 14 train mse: nan 14 train mse: nan 14 train mse: nan 14 train mse: nan 14 train mse: nan 14 train mse: nan 14 train mse: nan 14 train mse: nan 14 train mse: nan 14 train mse: nan\n",
      "Epoch 15 train mse: nantrain mse: nan 15 train mse: nan 15 train mse: nan 15 train mse: nan 15 train mse: nan 15 train mse: nan 15 train mse: nan 15 train mse: nan 15 train mse: nan 15 train mse: nan 15 train mse: nan 15 train mse: nan 15 train mse: nan\t valid mse: nan\n",
      "Epoch 16 train mse: nan\t valid mse: nanan 16 train mse: nan 16 train mse: nan 16 train mse: nan 16 train mse: nan 16 train mse: nan 16 train mse: nan 16 train mse: nan 16 train mse: nan 16 train mse: nan 16 train mse: nan\n",
      "Epoch 17 train mse: nan\t valid mse: nanan 17 train mse: nan 17 train mse: nan 17 train mse: nan 17 train mse: nan 17 train mse: nan nan 17 train mse: nan 17 train mse: nan 17 train mse: nan 17 train mse: nan 17 train mse: nan\n",
      "Epoch 18 train mse: nan 18 train mse: nan 18 train mse: nan 18 train mse: nan 18 train mse: nan 18 train mse: nan 18 train mse: nan 18 train mse: nan nan 18 train mse: nan 18 train mse: nannan\t valid mse: nan\n",
      "Epoch 19 train mse: nan\t valid mse: nanan 19 train mse: nan 19 train mse: nan 19 train mse: nan 19 train mse: nan 19 train mse: nan 19 train mse: nan 19 train mse: nan 19 train mse: nan 19 train mse: nan 19 train mse: nan 19 train mse: nan\n",
      "Epoch 20 train mse: nan\t valid mse: nanan 20 train mse: nan 20 train mse: nan 20 train mse: nan 20 train mse: nan 20 train mse: nan 20 train mse: nan 20 train mse: nan 20 train mse: nan 20 train mse: nan 20 train mse: nan 20 train mse: nan 20 train mse: nan 20 train mse: nan\n",
      "Epoch 21 train mse: nan 21 train mse: nan 21 train mse: nan 21 train mse: nan train mse: nan 21 train mse: nan 21 train mse: nan 21 train mse: nan 21 train mse: nan 21 train mse: nan 21 train mse: nan 21 train mse: nan nan 21 train mse: nan nan\t valid mse: nan\n",
      "Epoch 22 train mse: nan\t valid mse: nanan 22 train mse: nan22 train mse: nan 22 train mse: nantrain mse: nan 22 train mse: nannan 22 train mse: nan 22 train mse: nan 22 train mse: nan 22 train mse: nan\n",
      "Epoch 23 train mse: nan\t valid mse: nanan 23 train mse: nan 23 train mse: nan 23 train mse: nan 23 train mse: nan 23 train mse: nantrain mse: nan 23 train mse: nan 23 train mse: nan 23 train mse: nannan 23 train mse: nan\n",
      "Epoch 24 train mse: nan\t valid mse: nanan 24 train mse: nan 24 train mse: nan 24 train mse: nan 24 train mse: nannan 24 train mse: nan 24 train mse: nan 24 train mse: nan 24 train mse: nan 24 train mse: nan 24 train mse: nan train mse: nan\n",
      "Epoch 25 train mse: nan\t valid mse: nannan 25 train mse: nan 25 train mse: nan 25 train mse: nan 25 train mse: nan 25 train mse: nan 25 train mse: nan 25 train mse: nan 25 train mse: nan 25 train mse: nan25 train mse: nan\n",
      "Epoch 26 train mse: nan\t valid mse: nanan 26 train mse: nan 26 train mse: nan 26 train mse: nan 26 train mse: nan 26 train mse: nan26 train mse: nan 26 train mse: nan 26 train mse: nan\n",
      "Epoch 27 train mse: nan\t valid mse: nanan 27 train mse: nan 27 train mse: nan 27 train mse: nan 27 train mse: nan 27 train mse: nan 27 train mse: nan 27 train mse: nan 27 train mse: nan 27 train mse: nan 27 train mse: nan 27 train mse: nan 27 train mse: nan\n",
      "Epoch 28 train mse: nan\t valid mse: nanan 28 train mse: nannan 28 train mse: nan 28 train mse: nan 28 train mse: nan 28 train mse: nan 28 train mse: nan 28 train mse: nan 28 train mse: nan 28 train mse: nan 28 train mse: nan 28 train mse: nan\n",
      "Epoch 29 train mse: nan\t valid mse: nanan29 train mse: nan 29 train mse: nan 29 train mse: nan 29 train mse: nan 29 train mse: nan nan 29 train mse: nan 29 train mse: nannan 29 train mse: nan\n",
      "Epoch 30 train mse: nan\t valid mse: nanan 30 train mse: nan train mse: nan 30 train mse: nan 30 train mse: nan 30 train mse: nan 30 train mse: nan 30 train mse: nan 30 train mse: nan 30 train mse: nan 30 train mse: nan 30 train mse: nan 30 train mse: nan\n"
     ]
    },
    {
     "name": "stdout",
     "output_type": "stream",
     "text": [
      "Epoch 31 train mse: nan\t valid mse: nanan 31 train mse: nan 31 train mse: nan 31 train mse: nan 31 train mse: nan 31 train mse: nan 31 train mse: nan 31 train mse: nan 31 train mse: nannan 31 train mse: nan 31 train mse: nan\n",
      "Epoch 32 train mse: nan 32 train mse: nan 32 train mse: nan 32 train mse: nan 32 train mse: nan 32 train mse: nan 32 train mse: nan 32 train mse: nan 32 train mse: nan 32 train mse: nan 32 train mse: nan 32 train mse: nannan 32 train mse: nan 32 train mse: nan\t valid mse: nan\n",
      "Epoch 33 train mse: nan\t valid mse: nanan 33 train mse: nan 33 train mse: nan 33 train mse: nan 33 train mse: nan 33 train mse: nan 33 train mse: nan train mse: nan 33 train mse: nan 33 train mse: nan 33 train mse: nan 33 train mse: nan 33 train mse: nan\n",
      "Epoch 34 train mse: nan\t valid mse: nanan 34 train mse: nan 34 train mse: nan 34 train mse: nan 34 train mse: nan 34 train mse: nan nan 34 train mse: nan 34 train mse: nan 34 train mse: nan 34 train mse: nan 34 train mse: nan\n",
      "Epoch 35 train mse: nan\t valid mse: nanan 35 train mse: nan 35 train mse: nan 35 train mse: nan 35 train mse: nan 35 train mse: nan 35 train mse: nan 35 train mse: nan 35 train mse: nan 35 train mse: nan 35 train mse: nan\n",
      "Epoch 36 train mse: nan\t valid mse: nanan nan 36 train mse: nan 36 train mse: nan 36 train mse: nan 36 train mse: nan 36 train mse: nan 36 train mse: nan 36 train mse: nan 36 train mse: nan 36 train mse: nan 36 train mse: nan 36 train mse: nan\n",
      "Epoch 37 train mse: nan\t valid mse: nanan train mse: nan 37 train mse: nan 37 train mse: nan 37 train mse: nan 37 train mse: nan 37 train mse: nan37 train mse: nan 37 train mse: nan 37 train mse: nan 37 train mse: nan\n",
      "Epoch 38 train mse: nan\t valid mse: nanan 38 train mse: nan 38 train mse: nan 38 train mse: nan 38 train mse: nan train mse: nan 38 train mse: nan 38 train mse: nan 38 train mse: nan 38 train mse: nan 38 train mse: nan 38 train mse: nan 38 train mse: nan 38 train mse: nan\n",
      "Epoch 39 train mse: nan\t valid mse: nann 39 train mse: nan 39 train mse: nan 39 train mse: nan 39 train mse: nan 39 train mse: nan nan 39 train mse: nan 39 train mse: nan\n",
      "Epoch 40 train mse: nan\t valid mse: nanan 40 train mse: nan40 train mse: nan40 train mse: nan 40 train mse: nan 40 train mse: nan 40 train mse: nan 40 train mse: nan 40 train mse: nan 40 train mse: nan 40 train mse: nan 40 train mse: nan 40 train mse: nan\n",
      "Epoch 41 train mse: nan\t valid mse: nanan 41 train mse: nan 41 train mse: nan 41 train mse: nan 41 train mse: nan 41 train mse: nan 41 train mse: nan 41 train mse: nan 41 train mse: nan 41 train mse: nan 41 train mse: nan 41 train mse: nantrain mse: nan\n",
      "Epoch 42 train mse: nan\t valid mse: nanan nan 42 train mse: nan 42 train mse: nan 42 train mse: nan 42 train mse: nantrain mse: nan 42 train mse: nan 42 train mse: nannan\n",
      "Epoch 43 train mse: nan\t valid mse: nanan 43 train mse: nan 43 train mse: nan 43 train mse: nan 43 train mse: nan 43 train mse: nan 43 train mse: nan 43 train mse: nan 43 train mse: nan 43 train mse: nan 43 train mse: nan 43 train mse: nan\n",
      "Epoch 44 train mse: nan\t valid mse: nanan 44 train mse: nan 44 train mse: nan 44 train mse: nan 44 train mse: nan 44 train mse: nan 44 train mse: nan 44 train mse: nan 44 train mse: nan 44 train mse: nan 44 train mse: nan\n",
      "Epoch 45 train mse: nan\t valid mse: nanan 45 train mse: nan 45 train mse: nan 45 train mse: nan 45 train mse: nan 45 train mse: nan 45 train mse: nan 45 train mse: nan 45 train mse: nan 45 train mse: nan 45 train mse: nan 45 train mse: nan 45 train mse: nan\n",
      "Epoch 46 train mse: nan\tan 46 train mse: nan 46 train mse: nan 46 train mse: nan 46 train mse: nan 46 train mse: nan 46 train mse: nan 46 train mse: nan 46 train mse: nan 46 train mse: nan 46 train mse: nan 46 train mse: nan valid mse: nan\n",
      "Epoch 47 train mse: nan\t valid mse: nanan 47 train mse: nan 47 train mse: nan 47 train mse: nan 47 train mse: nan 47 train mse: nan 47 train mse: nan 47 train mse: nan 47 train mse: nan 47 train mse: nan 47 train mse: nan 47 train mse: nannan\n",
      "Epoch 48 train mse: nan\t valid mse: nanan 48 train mse: nan 48 train mse: nan 48 train mse: nan 48 train mse: nan 48 train mse: nan 48 train mse: nan 48 train mse: nan 48 train mse: nan 48 train mse: nan 48 train mse: nan 48 train mse: nan 48 train mse: nan 48 train mse: nan\n",
      "Epoch 49 train mse: nan\t valid mse: nanan 49 train mse: nan 49 train mse: nannan 49 train mse: nannan 49 train mse: nan 49 train mse: nan 49 train mse: nan 49 train mse: nan 49 train mse: nan 49 train mse: nan 49 train mse: nan\n",
      "Epoch 50 train mse: nan\t valid mse: nanan nan 50 train mse: nan 50 train mse: nannan 50 train mse: nan 50 train mse: nan 50 train mse: nan 50 train mse: nan 50 train mse: nan 50 train mse: nan 50 train mse: nan\n",
      "Epoch 51 train mse: nan 51 train mse: nan 51 train mse: nan 51 train mse: nan 51 train mse: nan 51 train mse: nan 51 train mse: nan 51 train mse: nan 51 train mse: nan 51 train mse: nan 51 train mse: nan 51 train mse: nan 51 train mse: nan\t valid mse: nan\n",
      "Epoch 52 train mse: nan\t valid mse: nanantrain mse: nan 52 train mse: nan 52 train mse: nan 52 train mse: nan 52 train mse: nan 52 train mse: nan train mse: nan 52 train mse: nan 52 train mse: nantrain mse: nan 52 train mse: nan 52 train mse: nan52 train mse: nan\n",
      "Epoch 53 train mse: nan\t valid mse: nan3 train mse: nan 53 train mse: nan 53 train mse: nan 53 train mse: nan 53 train mse: nan 53 train mse: nan 53 train mse: nan\n",
      "Epoch 54 train mse: nan\t valid mse: nanan 54 train mse: nan 54 train mse: nan 54 train mse: nan 54 train mse: nan 54 train mse: nan 54 train mse: nan 54 train mse: nan 54 train mse: nan 54 train mse: nan 54 train mse: nan 54 train mse: nan 54 train mse: nan 54 train mse: nan\n",
      "Epoch 55 train mse: nan\t valid mse: nanan 55 train mse: nan 55 train mse: nan 55 train mse: nan 55 train mse: nan 55 train mse: nan 55 train mse: nan 55 train mse: nan 55 train mse: nan 55 train mse: nan 55 train mse: nan\n",
      "Epoch 56 train mse: nan\t valid mse: nanan 56 train mse: nan 56 train mse: nan 56 train mse: nan 56 train mse: nantrain mse: nan 56 train mse: nan 56 train mse: nan 56 train mse: nan 56 train mse: nan\n",
      "Epoch 57 train mse: nan\t valid mse: nanan 57 train mse: nan 57 train mse: nan 57 train mse: nan 57 train mse: nan 57 train mse: nan 57 train mse: nan 57 train mse: nan 57 train mse: nan 57 train mse: nan 57 train mse: nan 57 train mse: nan 57 train mse: nan 57 train mse: nan\n",
      "Epoch 58 train mse: nan\t valid mse: nanan 58 train mse: nan 58 train mse: nan 58 train mse: nan 58 train mse: nan 58 train mse: nan 58 train mse: nan 58 train mse: nan 58 train mse: nan 58 train mse: nan 58 train mse: nan 58 train mse: nan\n",
      "Epoch 59 train mse: nan\t valid mse: nanan 59 train mse: nan 59 train mse: nan 59 train mse: nan 59 train mse: nan 59 train mse: nan 59 train mse: nan 59 train mse: nan 59 train mse: nan 59 train mse: nan 59 train mse: nan 59 train mse: nan\n",
      "Epoch 60 train mse: nan\t valid mse: nanan 60 train mse: nan train mse: nan 60 train mse: nan 60 train mse: nan 60 train mse: nan 60 train mse: nan 60 train mse: nan 60 train mse: nan 60 train mse: nan 60 train mse: nan 60 train mse: nan\n",
      "Epoch 61 train mse: nan\t valid mse: nanan 61 train mse: nan 61 train mse: nan 61 train mse: nan 61 train mse: nan train mse: nan 61 train mse: nan 61 train mse: nan 61 train mse: nan 61 train mse: nantrain mse: nan 61 train mse: nan 61 train mse: nan\n",
      "Epoch 62 train mse: nan\t valid mse: nanannan 62 train mse: nan 62 train mse: nan 62 train mse: nan 62 train mse: nan 62 train mse: nan 62 train mse: nan 62 train mse: nan 62 train mse: nan 62 train mse: nan nan 62 train mse: nan 62 train mse: nan\n",
      "Epoch 63 train mse: nan\t valid mse: nanan 63 train mse: nan 63 train mse: nan 63 train mse: nan 63 train mse: nan 63 train mse: nan 63 train mse: nan 63 train mse: nan 63 train mse: nan\n",
      "Epoch 64 train mse: nan\t valid mse: nanan 64 train mse: nan 64 train mse: nan 64 train mse: nan 64 train mse: nan 64 train mse: nan 64 train mse: nan 64 train mse: nan 64 train mse: nan 64 train mse: nan 64 train mse: nan 64 train mse: nan 64 train mse: nan\n"
     ]
    },
    {
     "name": "stdout",
     "output_type": "stream",
     "text": [
      "Epoch 65 train mse: nan 65 train mse: nan 65 train mse: nan65 train mse: nan 65 train mse: nan 65 train mse: nan 65 train mse: nan 65 train mse: nan 65 train mse: nan 65 train mse: nan 65 train mse: nan 65 train mse: nan 65 train mse: nan\t valid mse: nan\n",
      "Epoch 66 train mse: nan\t valid mse: nanan 66 train mse: nan 66 train mse: nan 66 train mse: nan 66 train mse: nan 66 train mse: nan 66 train mse: nan 66 train mse: nan 66 train mse: nan 66 train mse: nan 66 train mse: nan 66 train mse: nan\n",
      "Epoch 67 train mse: nan 67 train mse: nan 67 train mse: nan 67 train mse: nan 67 train mse: nan 67 train mse: nan 67 train mse: nan 67 train mse: nan 67 train mse: nan 67 train mse: nan 67 train mse: nan 67 train mse: nan\t valid mse: nan\n",
      "Epoch 68 train mse: nan\t valid mse: nane: nan 68 train mse: nan 68 train mse: nan 68 train mse: nan 68 train mse: nan68 train mse: nan 68 train mse: nan 68 train mse: nan 68 train mse: nan 68 train mse: nan\n",
      "Epoch 69 train mse: nan\t valid mse: nanan 69 train mse: nan 69 train mse: nannan 69 train mse: nan 69 train mse: nan 69 train mse: nan 69 train mse: nan 69 train mse: nan 69 train mse: nan69 train mse: nan 69 train mse: nan\n",
      "Epoch 70 train mse: nan\t valid mse: nanan train mse: nan 70 train mse: nan 70 train mse: nan 70 train mse: nan 70 train mse: nan 70 train mse: nan nan\n",
      "Epoch 71 train mse: nan\t valid mse: nanan71 train mse: nan 71 train mse: nan 71 train mse: nan 71 train mse: nantrain mse: nan 71 train mse: nan 71 train mse: nan 71 train mse: nan 71 train mse: nan 71 train mse: nan 71 train mse: nan71 train mse: nan\n",
      "Epoch 72 train mse: nan\t valid mse: nanantrain mse: nan 72 train mse: nan 72 train mse: nan 72 train mse: nan train mse: nan 72 train mse: nan 72 train mse: nantrain mse: nan72 train mse: nan 72 train mse: nan 72 train mse: nan\n",
      "Epoch 73 train mse: nan\t valid mse: nanan 73 train mse: nan 73 train mse: nan 73 train mse: nan 73 train mse: nan 73 train mse: nannan 73 train mse: nan 73 train mse: nan73 train mse: nan 73 train mse: nan 73 train mse: nan\n",
      "Epoch 74 train mse: nan\t valid mse: nanan 74 train mse: nan 74 train mse: nan 74 train mse: nan 74 train mse: nan train mse: nan 74 train mse: nan 74 train mse: nan 74 train mse: nan 74 train mse: nan 74 train mse: nan 74 train mse: nan\n",
      "Epoch 75 train mse: nan\t valid mse: nanan 75 train mse: nan 75 train mse: nan 75 train mse: nan 75 train mse: nan 75 train mse: nan 75 train mse: nan 75 train mse: nan 75 train mse: nan 75 train mse: nan 75 train mse: nan 75 train mse: nan 75 train mse: nan\n",
      "Epoch 76 train mse: nan\t valid mse: nanan 76 train mse: nan 76 train mse: nan 76 train mse: nan 76 train mse: nan train mse: nan 76 train mse: nan 76 train mse: nan 76 train mse: nan 76 train mse: nan 76 train mse: nan 76 train mse: nan 76 train mse: nan\n",
      "Epoch 77 train mse: nan\t valid mse: nanantrain mse: nan 77 train mse: nan 77 train mse: nan 77 train mse: nan 77 train mse: nan 77 train mse: nan 77 train mse: nan 77 train mse: nan 77 train mse: nan 77 train mse: nan 77 train mse: nan 77 train mse: nan\n",
      "Epoch 78 train mse: nan\t valid mse: nanan 78 train mse: nan 78 train mse: nan 78 train mse: nan 78 train mse: nantrain mse: nan 78 train mse: nan 78 train mse: nan 78 train mse: nan 78 train mse: nan 78 train mse: nan\n",
      "Epoch 79 train mse: nan\t valid mse: nanan 79 train mse: nan 79 train mse: nan 79 train mse: nan 79 train mse: nan 79 train mse: nan 79 train mse: nan 79 train mse: nan 79 train mse: nan 79 train mse: nan 79 train mse: nan\n",
      "Epoch 80 train mse: nan\t valid mse: nanan 80 train mse: nan 80 train mse: nan 80 train mse: nan 80 train mse: nan 80 train mse: nan 80 train mse: nan 80 train mse: nan 80 train mse: nan 80 train mse: nan 80 train mse: nan 80 train mse: nan\n",
      "Epoch 81 train mse: nan\t valid mse: nanan nan 81 train mse: nan 81 train mse: nan81 train mse: nan 81 train mse: nan 81 train mse: nan 81 train mse: nan 81 train mse: nan 81 train mse: nan 81 train mse: nan 81 train mse: nan\n",
      "Epoch 82 train mse: nan 82 train mse: nan 82 train mse: nan 82 train mse: nan 82 train mse: nannan 82 train mse: nan 82 train mse: nannan 82 train mse: nantrain mse: nan 82 train mse: nan 82 train mse: nan 82 train mse: nan 82 train mse: nan\t valid mse: nan\n",
      "Epoch 83 train mse: nan\t valid mse: nanan 83 train mse: nan 83 train mse: nan 83 train mse: nan 83 train mse: nan 83 train mse: nan 83 train mse: nan 83 train mse: nan 83 train mse: nan 83 train mse: nan 83 train mse: nannan\n",
      "Epoch 84 train mse: nan\t valid mse: nan84 train mse: nan 84 train mse: nan 84 train mse: nan 84 train mse: nan 84 train mse: nan 84 train mse: nan 84 train mse: nan 84 train mse: nan\n",
      "Epoch 85 train mse: nan\t valid mse: nanan 85 train mse: nan 85 train mse: nan 85 train mse: nan 85 train mse: nan 85 train mse: nan 85 train mse: nan nan85 train mse: nan 85 train mse: nan85 train mse: nan 85 train mse: nan 85 train mse: nan 85 train mse: nan\n",
      "Epoch 86 train mse: nan\t valid mse: nanan 86 train mse: nan 86 train mse: nan 86 train mse: nan 86 train mse: nan 86 train mse: nan 86 train mse: nan 86 train mse: nantrain mse: nannan 86 train mse: nan 86 train mse: nan 86 train mse: nan\n",
      "Epoch 87 train mse: nan\t valid mse: nanan 87 train mse: nan 87 train mse: nan 87 train mse: nan 87 train mse: nan 87 train mse: nannan 87 train mse: nan 87 train mse: nan 87 train mse: nan 87 train mse: nan 87 train mse: nan 87 train mse: nan\n",
      "Epoch 88 train mse: nan\t valid mse: nanan 88 train mse: nan 88 train mse: nan 88 train mse: nan 88 train mse: nan 88 train mse: nan train mse: nan 88 train mse: nan 88 train mse: nan 88 train mse: nan 88 train mse: nan 88 train mse: nan 88 train mse: nan\n",
      "Epoch 89 train mse: nan\t valid mse: nanan 89 train mse: nan 89 train mse: nantrain mse: nan 89 train mse: nan 89 train mse: nan 89 train mse: nan 89 train mse: nan 89 train mse: nan 89 train mse: nan 89 train mse: nan 89 train mse: nan\n",
      "Epoch 90 train mse: nan\t valid mse: nanan 90 train mse: nan 90 train mse: nan 90 train mse: nan 90 train mse: nan 90 train mse: nannan 90 train mse: nantrain mse: nan 90 train mse: nan\n",
      "Epoch 91 train mse: nan\t valid mse: nanan 91 train mse: nan 91 train mse: nan 91 train mse: nan 91 train mse: nan 91 train mse: nannan 91 train mse: nan 91 train mse: nan 91 train mse: nan 91 train mse: nan 91 train mse: nan 91 train mse: nan\n",
      "Epoch 92 train mse: nan\t valid mse: nanan 92 train mse: nan 92 train mse: nan 92 train mse: nan 92 train mse: nan 92 train mse: nan 92 train mse: nan 92 train mse: nan 92 train mse: nan 92 train mse: nan 92 train mse: nan 92 train mse: nan\n",
      "Epoch 93 train mse: nan\t valid mse: nanan 93 train mse: nan 93 train mse: nan 93 train mse: nan 93 train mse: nan 93 train mse: nan 93 train mse: nan 93 train mse: nan 93 train mse: nan 93 train mse: nan 93 train mse: nan\n",
      "Epoch 94 train mse: nan\t valid mse: nanan 94 train mse: nan 94 train mse: nan 94 train mse: nan 94 train mse: nan 94 train mse: nan 94 train mse: nan 94 train mse: nan 94 train mse: nan 94 train mse: nan 94 train mse: nan 94 train mse: nan\n",
      "Epoch 95 train mse: nan\t valid mse: nanan 95 train mse: nan 95 train mse: nan 95 train mse: nan 95 train mse: nan 95 train mse: nan 95 train mse: nan 95 train mse: nan 95 train mse: nan 95 train mse: nan 95 train mse: nan 95 train mse: nan 95 train mse: nan\n",
      "Epoch 96 train mse: nan\t valid mse: nanan 96 train mse: nan 96 train mse: nan 96 train mse: nan 96 train mse: nan 96 train mse: nan 96 train mse: nan 96 train mse: nan 96 train mse: nan 96 train mse: nan\n",
      "Epoch 97 train mse: nan\t valid mse: nanan 97 train mse: nan 97 train mse: nan 97 train mse: nan 97 train mse: nan 97 train mse: nan 97 train mse: nan 97 train mse: nan 97 train mse: nan 97 train mse: nan 97 train mse: nan\n",
      "Epoch 98 train mse: nan 98 train mse: nan 98 train mse: nan 98 train mse: nan 98 train mse: nan 98 train mse: nan 98 train mse: nan 98 train mse: nan 98 train mse: nan 98 train mse: nan 98 train mse: nan 98 train mse: nan 98 train mse: nan 98 train mse: nan 98 train mse: nan\t valid mse: nan\n",
      "Epoch 99 train mse: nan\t valid mse: nanan 99 train mse: nan 99 train mse: nannan 99 train mse: nan 99 train mse: nan 99 train mse: nan 99 train mse: nan 99 train mse: nan 99 train mse: nan 99 train mse: nannan 99 train mse: nan\n"
     ]
    }
   ],
   "source": [
    "# tf.GradientTape手动求导方式进行回归问题的求解\n",
    "epochs= 100\n",
    "batch_size = 32\n",
    "steps_per_epoch = len(x_train_sacled) // batch_size\n",
    "optimizer = keras.optimizers.SGD()\n",
    "metric = keras.metrics.MeanSquaredError()\n",
    "\n",
    "def random_batch(x,y,batch_size=32):\n",
    "    idx = np.random.randint(0,len(x),size=batch_size)\n",
    "    return x[idx],y[idx]\n",
    "\n",
    "\n",
    "\n",
    "\n",
    "model = keras.models.Sequential([\n",
    " \n",
    "    keras.layers.Dense(30,activation=\"relu\",input_shape=x_train.shape[1:]),\n",
    "    keras.layers.Dense(1),\n",
    "])\n",
    "\n",
    "\n",
    "for epoch in range(epochs):\n",
    "    metric.reset_states()\n",
    "    for step in range(steps_per_epoch):\n",
    "        x_batch,y_batch = random_batch(x_test_sacled,y_train,batch_size)\n",
    "        \n",
    "        with tf.GradientTape() as tape:\n",
    "            y_pred = model(x_batch)\n",
    "            loss = tf.reduce_mean(keras.losses.mean_squared_error(y_batch,y_pred))\n",
    "            metric(y_batch,y_pred)\n",
    "        grads = tape.gradient(loss,model.variables)\n",
    "        grads_and_vars = zip(grads,model.variables)\n",
    "        optimizer.apply_gradients(grads_and_vars)\n",
    "        print(\"\\rEpoch\",epoch,\"train mse:\",metric.result().numpy(),end=\"\")\n",
    "    y_vaild_pred = model(x_valid_sacled)\n",
    "    valid_loss = tf.reduce_mean(\n",
    "                    keras.losses.mean_squared_error(y_vaild_pred,y_vaild))\n",
    "    print(\"\\t\",\"valid mse:\",valid_loss.numpy())\n",
    "# model.summary()"
   ]
  },
  {
   "cell_type": "code",
   "execution_count": null,
   "metadata": {},
   "outputs": [],
   "source": []
  },
  {
   "cell_type": "code",
   "execution_count": null,
   "metadata": {},
   "outputs": [],
   "source": []
  }
 ],
 "metadata": {
  "kernelspec": {
   "display_name": "Python [conda env:tf2]",
   "language": "python",
   "name": "conda-env-tf2-py"
  },
  "language_info": {
   "codemirror_mode": {
    "name": "ipython",
    "version": 3
   },
   "file_extension": ".py",
   "mimetype": "text/x-python",
   "name": "python",
   "nbconvert_exporter": "python",
   "pygments_lexer": "ipython3",
   "version": "3.7.7"
  }
 },
 "nbformat": 4,
 "nbformat_minor": 4
}
